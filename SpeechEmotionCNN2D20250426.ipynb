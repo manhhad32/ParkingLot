{
  "cells": [
    {
      "cell_type": "markdown",
      "metadata": {
        "id": "view-in-github",
        "colab_type": "text"
      },
      "source": [
        "<a href=\"https://colab.research.google.com/github/manhhad32/ParkingLot/blob/master/SpeechEmotionCNN2D20250426.ipynb\" target=\"_parent\"><img src=\"https://colab.research.google.com/assets/colab-badge.svg\" alt=\"Open In Colab\"/></a>"
      ]
    },
    {
      "cell_type": "markdown",
      "metadata": {
        "id": "SKQ4bH7qMGrA"
      },
      "source": [
        "# Making the most of your colab subscription\n",
        "\n"
      ]
    },
    {
      "cell_type": "markdown",
      "metadata": {
        "id": "QMMqmdiYMkvi"
      },
      "source": [
        "## Faster GPUs\n",
        "\n",
        "<p>Users who have purchased one of Colab's paid plans have access to faster GPUs and more memory. You can upgrade your notebook's GPU settings in <code>Runtime &gt; Change runtime type</code> in the menu to select from several accelerator options, subject to availability.</p>\n",
        "<p>The free-of-charge version of Colab grants access to Nvidia's T4 GPUs subject to quota restrictions and availability.</p>\n",
        "\n",
        "You can see what GPU you've been assigned at any time by executing the following cell. If the execution result of running the code cell below is 'Not connected to a GPU', you can change the runtime by going to <code>Runtime &gt; Change runtime type</code> in the menu to enable a GPU accelerator, and then re-execute the code cell."
      ]
    },
    {
      "cell_type": "code",
      "execution_count": null,
      "metadata": {
        "id": "23TOba33L4qf"
      },
      "outputs": [],
      "source": [
        "gpu_info = !nvidia-smi\n",
        "gpu_info = '\\n'.join(gpu_info)\n",
        "if gpu_info.find('failed') >= 0:\n",
        "  print('Not connected to a GPU')\n",
        "else:\n",
        "  print(gpu_info)"
      ]
    },
    {
      "cell_type": "code",
      "source": [
        "!pip install gdown"
      ],
      "metadata": {
        "colab": {
          "base_uri": "https://localhost:8080/"
        },
        "id": "9pcfF4QE85q2",
        "outputId": "204f2747-5a39-47d7-d94c-3f1cde83d31d"
      },
      "execution_count": 1,
      "outputs": [
        {
          "output_type": "stream",
          "name": "stdout",
          "text": [
            "Requirement already satisfied: gdown in /usr/local/lib/python3.11/dist-packages (5.2.0)\n",
            "Requirement already satisfied: beautifulsoup4 in /usr/local/lib/python3.11/dist-packages (from gdown) (4.13.4)\n",
            "Requirement already satisfied: filelock in /usr/local/lib/python3.11/dist-packages (from gdown) (3.18.0)\n",
            "Requirement already satisfied: requests[socks] in /usr/local/lib/python3.11/dist-packages (from gdown) (2.32.3)\n",
            "Requirement already satisfied: tqdm in /usr/local/lib/python3.11/dist-packages (from gdown) (4.67.1)\n",
            "Requirement already satisfied: soupsieve>1.2 in /usr/local/lib/python3.11/dist-packages (from beautifulsoup4->gdown) (2.7)\n",
            "Requirement already satisfied: typing-extensions>=4.0.0 in /usr/local/lib/python3.11/dist-packages (from beautifulsoup4->gdown) (4.13.2)\n",
            "Requirement already satisfied: charset-normalizer<4,>=2 in /usr/local/lib/python3.11/dist-packages (from requests[socks]->gdown) (3.4.1)\n",
            "Requirement already satisfied: idna<4,>=2.5 in /usr/local/lib/python3.11/dist-packages (from requests[socks]->gdown) (3.10)\n",
            "Requirement already satisfied: urllib3<3,>=1.21.1 in /usr/local/lib/python3.11/dist-packages (from requests[socks]->gdown) (2.3.0)\n",
            "Requirement already satisfied: certifi>=2017.4.17 in /usr/local/lib/python3.11/dist-packages (from requests[socks]->gdown) (2025.1.31)\n",
            "Requirement already satisfied: PySocks!=1.5.7,>=1.5.6 in /usr/local/lib/python3.11/dist-packages (from requests[socks]->gdown) (1.7.1)\n"
          ]
        }
      ]
    },
    {
      "cell_type": "code",
      "source": [
        "import numpy as np\n",
        "import librosa\n",
        "import tensorflow as tf\n",
        "from tensorflow.keras.layers import Input, Conv2D, MaxPooling2D, Dropout, Flatten, Dense, BatchNormalization\n",
        "from tensorflow.keras.models import Model, Sequential\n",
        "from tensorflow.keras.regularizers import l2\n",
        "from tensorflow.keras.callbacks import EarlyStopping, ReduceLROnPlateau, ModelCheckpoint\n",
        "from tensorflow.keras.utils import to_categorical\n",
        "from sklearn.model_selection import train_test_split\n",
        "import matplotlib.pyplot as plt\n",
        "import os\n",
        "import glob\n",
        "from collections import Counter\n",
        "import zipfile\n",
        "from google.colab import drive\n",
        "import gdown"
      ],
      "metadata": {
        "id": "peOp0RDH82qc"
      },
      "execution_count": 3,
      "outputs": []
    },
    {
      "cell_type": "code",
      "source": [
        "# Ví dụ link: https://drive.google.com/file/d/1AbCDEFGHIJKLMNOPQR/view?usp=sharing\n",
        "# Chỉ cần ID: \"1AbCDEFGHIJKLMNOPQR\"\n",
        "# https://drive.google.com/file/d/1BAKWfFtM3WqQQAa4mS5SMDAlKnPhV3mD/view?usp=sharing\n",
        "file_id = \"1BAKWfFtM3WqQQAa4mS5SMDAlKnPhV3mD\"\n",
        "output_zip = \"emotion_train.zip\"\n",
        "\n",
        "# Tạo link tải trực tiếp từ file_id\n",
        "gdown.download(f\"https://drive.google.com/uc?id={file_id}\", output_zip, quiet=False)\n",
        "\n",
        "# Bước 2: Giải nén file zip\n",
        "output_folder = \"emotion_train\"\n",
        "os.makedirs(output_folder, exist_ok=True)\n",
        "\n",
        "with zipfile.ZipFile(output_zip, 'r') as zip_ref:\n",
        "    zip_ref.extractall(output_folder)\n"
      ],
      "metadata": {
        "colab": {
          "base_uri": "https://localhost:8080/"
        },
        "id": "oj4yAzp888Xe",
        "outputId": "ac708283-3c1e-4d91-d03e-4bbef5c1131f"
      },
      "execution_count": 4,
      "outputs": [
        {
          "output_type": "stream",
          "name": "stderr",
          "text": [
            "Downloading...\n",
            "From (original): https://drive.google.com/uc?id=1BAKWfFtM3WqQQAa4mS5SMDAlKnPhV3mD\n",
            "From (redirected): https://drive.google.com/uc?id=1BAKWfFtM3WqQQAa4mS5SMDAlKnPhV3mD&confirm=t&uuid=f5a08942-cc23-461b-a763-55788b5668f5\n",
            "To: /content/emotion_train.zip\n",
            "100%|██████████| 1.16G/1.16G [00:15<00:00, 73.6MB/s]\n"
          ]
        }
      ]
    },
    {
      "cell_type": "code",
      "source": [
        "file_test_id = \"1OSG1oPq1ahQwEx7N3Wy3QG3j5mDkd6DJ\"\n",
        "output_test_zip = \"emotion_test.zip\"\n",
        "\n",
        "# Tạo link tải trực tiếp từ file_id\n",
        "gdown.download(f\"https://drive.google.com/uc?id={file_test_id}\", output_test_zip, quiet=False)\n",
        "\n",
        "# Bước 2: Giải nén file zip\n",
        "output_test_folder = \"emotion_test\"\n",
        "# The following line was changed\n",
        "os.makedirs(output_test_folder, exist_ok=True)\n",
        "# It was previously trying to create a directory with the same name as your zip file\n",
        "\n",
        "with zipfile.ZipFile(output_test_zip, 'r') as zip_ref:\n",
        "    zip_ref.extractall(output_test_folder)"
      ],
      "metadata": {
        "colab": {
          "base_uri": "https://localhost:8080/"
        },
        "id": "KY3GdOXz8_bh",
        "outputId": "474ba2f9-d44a-4edb-8dec-42acaa4a1bbb"
      },
      "execution_count": 5,
      "outputs": [
        {
          "output_type": "stream",
          "name": "stderr",
          "text": [
            "Downloading...\n",
            "From (original): https://drive.google.com/uc?id=1OSG1oPq1ahQwEx7N3Wy3QG3j5mDkd6DJ\n",
            "From (redirected): https://drive.google.com/uc?id=1OSG1oPq1ahQwEx7N3Wy3QG3j5mDkd6DJ&confirm=t&uuid=7a9d73e3-ea1d-4077-8e37-523f778c7e7b\n",
            "To: /content/emotion_test.zip\n",
            "100%|██████████| 42.6M/42.6M [00:00<00:00, 54.7MB/s]\n"
          ]
        }
      ]
    },
    {
      "cell_type": "code",
      "source": [
        "import shutil # Import the shutil module at the top of your code\n",
        "folder_path = '/content/emotion_test/__MACOSX'  # Đường dẫn thư mục cần xóa\n",
        "\n",
        "# Kiểm tra thư mục có tồn tại không rồi xóa\n",
        "if os.path.exists(folder_path):\n",
        "    shutil.rmtree(folder_path) # Now you can use shutil.rmtree\n",
        "    print(f\"✅ Đã xóa thư mục: {folder_path}\")\n",
        "else:\n",
        "    print(f\"⚠️ Thư mục không tồn tại: {folder_path}\")"
      ],
      "metadata": {
        "colab": {
          "base_uri": "https://localhost:8080/"
        },
        "id": "EaoBhyKG9DTa",
        "outputId": "35c256c2-3ba4-462b-9205-f571de0f220e"
      },
      "execution_count": 7,
      "outputs": [
        {
          "output_type": "stream",
          "name": "stdout",
          "text": [
            "✅ Đã xóa thư mục: /content/emotion_test/__MACOSX\n"
          ]
        }
      ]
    },
    {
      "cell_type": "code",
      "source": [
        "# Danh sách cảm xúc từ VNEMOS\n",
        "EMOTIONS = ['Angry', 'Happy', 'Sad', 'Neutral', 'Disgusted', 'Fearful', 'Suprised']\n",
        "NUM_CLASSES = len(EMOTIONS)\n",
        "\n",
        "# Hàm thêm nhiễu\n",
        "def add_noise(audio, noise_factor=0.005):\n",
        "    noise = np.random.randn(len(audio))\n",
        "    return audio + noise_factor * noise\n",
        "\n",
        "# Hàm thay đổi cao độ\n",
        "def pitch_shift(audio, sr, n_steps=1.5):\n",
        "    return librosa.effects.pitch_shift(audio, sr=sr, n_steps=n_steps)\n",
        "\n",
        "# Hàm kéo giãn thời gian\n",
        "def time_stretch(audio, rate=1.05):\n",
        "    return librosa.effects.time_stretch(audio, rate=rate)\n",
        "\n",
        "# Hàm dịch chuyển thời gian\n",
        "def time_shift(audio, shift_max=0.2, sr=16000):\n",
        "    shift = int(np.random.uniform(-shift_max, shift_max) * sr)\n",
        "    return np.roll(audio, shift)\n",
        "\n",
        "# Trích xuất MFCC với nhiều loại augmentation\n",
        "def extract_mfcc(audio_path, sample_rate=16000, duration=5, n_mfcc=26, n_frames=157, augment_type='normal'):\n",
        "    audio, sr = librosa.load(audio_path, sr=sample_rate)\n",
        "    target_length = sample_rate * duration\n",
        "\n",
        "    # Chuẩn hóa độ dài\n",
        "    if len(audio) < target_length:\n",
        "        audio = np.pad(audio, (0, target_length - len(audio)), mode='constant')\n",
        "    else:\n",
        "        audio = audio[:target_length]\n",
        "\n",
        "    # Áp dụng augmentation theo loại\n",
        "    if augment_type == 'noise':\n",
        "        audio = add_noise(audio)\n",
        "    elif augment_type == 'pitch':\n",
        "        audio = pitch_shift(audio, sr)\n",
        "    elif augment_type == 'stretch':\n",
        "        audio = time_stretch(audio)\n",
        "    elif augment_type == 'shift':\n",
        "        audio = time_shift(audio)\n",
        "    # 'normal' thì giữ nguyên\n",
        "\n",
        "    hop_length = target_length // (n_frames - 1)\n",
        "    mfcc = librosa.feature.mfcc(y=audio, sr=sr, n_mfcc=n_mfcc, hop_length=hop_length, n_fft=2048)\n",
        "    if mfcc.shape[1] > n_frames:\n",
        "        mfcc = mfcc[:, :n_frames]\n",
        "    elif mfcc.shape[1] < n_frames:\n",
        "        mfcc = np.pad(mfcc, ((0, 0), (0, n_frames - mfcc.shape[1])), mode='constant')\n",
        "\n",
        "    return np.expand_dims(mfcc, axis=-1)\n",
        "\n",
        "# Chuẩn bị dữ liệu với ánh xạ nhãn từ thư mục\n",
        "def prepare_training_data(audio_files, emotion_map):\n",
        "    X, y = [], []\n",
        "    augment_types = ['normal', 'noise', 'pitch', 'stretch', 'shift']\n",
        "\n",
        "    for audio_path in audio_files:\n",
        "        folder_name = os.path.basename(os.path.dirname(audio_path))\n",
        "        emotion_idx = emotion_map.get(folder_name, -1)\n",
        "        if emotion_idx == -1:\n",
        "            print(f\"Warning: {audio_path} không thuộc danh sách cảm xúc, bỏ qua.\")\n",
        "            continue\n",
        "\n",
        "        for aug_type in augment_types:\n",
        "            mfcc = extract_mfcc(str(audio_path), augment_type=aug_type)\n",
        "            X.append(mfcc)\n",
        "            y.append(emotion_idx)\n",
        "\n",
        "    X = np.array(X)\n",
        "    y = to_categorical(y, num_classes=NUM_CLASSES)\n",
        "    print(f\"Dataset shape: X={X.shape}, y={y.shape}\")\n",
        "    return X, y\n",
        "\n",
        "# Xây dựng mô hình CNN cải tiến\n",
        "def build_cnn_2d(input_shape=(26, 157, 1)):\n",
        "    model = Sequential([\n",
        "        Input(shape=input_shape),\n",
        "        Conv2D(32, (3, 3), activation='relu', padding='same', kernel_regularizer=l2(0.001)),\n",
        "        BatchNormalization(),\n",
        "        Conv2D(32, (3, 3), activation='relu', padding='same', kernel_regularizer=l2(0.001)),\n",
        "        BatchNormalization(),\n",
        "        MaxPooling2D((2, 2)),\n",
        "        Dropout(0.25),\n",
        "\n",
        "        Conv2D(64, (3, 3), activation='relu', padding='same', kernel_regularizer=l2(0.001)),\n",
        "        BatchNormalization(),\n",
        "        Conv2D(64, (3, 3), activation='relu', padding='same', kernel_regularizer=l2(0.001)),\n",
        "        BatchNormalization(),\n",
        "        MaxPooling2D((2, 2)),\n",
        "        Dropout(0.25),\n",
        "\n",
        "        Conv2D(128, (3, 3), activation='relu', padding='same', kernel_regularizer=l2(0.001)),\n",
        "        BatchNormalization(),\n",
        "        MaxPooling2D((2, 2)),\n",
        "        Dropout(0.25),\n",
        "\n",
        "        Flatten(),\n",
        "        Dense(256, activation='relu', kernel_regularizer=l2(0.001)),\n",
        "        Dropout(0.4),\n",
        "        Dense(NUM_CLASSES, activation='softmax')\n",
        "    ])\n",
        "    model.summary()\n",
        "    return model\n",
        "\n",
        "# Huấn luyện và đánh giá\n",
        "def train_and_evaluate_model(model, X, y, epochs=200, batch_size=16, checkpoint_path='best_model.h5'):\n",
        "    X_train, X_val, y_train, y_val = train_test_split(X, y, test_size=0.2, random_state=42)\n",
        "    print(f\"Train shape: {X_train.shape}, Val shape: {X_val.shape}\")\n",
        "\n",
        "    model.compile(optimizer=tf.keras.optimizers.Adam(learning_rate=0.0001),\n",
        "                  loss=tf.keras.losses.CategoricalCrossentropy(label_smoothing=0.1),\n",
        "                  metrics=['accuracy'])\n",
        "\n",
        "    early_stopping = EarlyStopping(monitor='val_loss', patience=20, restore_best_weights=True)\n",
        "    reduce_lr = ReduceLROnPlateau(monitor='val_loss', factor=0.2, patience=10, min_lr=0.00001)\n",
        "    checkpoint = ModelCheckpoint(checkpoint_path, monitor='val_loss', save_best_only=True, mode='min', verbose=1)\n",
        "\n",
        "    history = model.fit(X_train, y_train,\n",
        "                        validation_data=(X_val, y_val),\n",
        "                        epochs=epochs,\n",
        "                        batch_size=batch_size,\n",
        "                        callbacks=[early_stopping, reduce_lr, checkpoint],\n",
        "                        verbose=1)\n",
        "\n",
        "    val_loss, val_accuracy = model.evaluate(X_val, y_val, verbose=0)\n",
        "    print(f\"\\nĐánh giá trên tập kiểm tra:\")\n",
        "    print(f\" - Loss: {val_loss:.4f}\")\n",
        "    print(f\" - Accuracy: {val_accuracy:.4f}\")\n",
        "    return model, history\n",
        "\n",
        "# Dự đoán trực tiếp bằng CNN\n",
        "def predict_emotion(audio_path, model):\n",
        "    mfcc = extract_mfcc(audio_path, augment_type='normal')\n",
        "    mfcc = np.expand_dims(mfcc, axis=0)\n",
        "    prediction = model.predict(mfcc, verbose=0)\n",
        "    predicted_emotion_idx = np.argmax(prediction, axis=1)[0]\n",
        "    return EMOTIONS[predicted_emotion_idx]\n",
        "\n",
        "# Vẽ biểu đồ Loss\n",
        "def plot_loss_history(history):\n",
        "    plt.figure(figsize=(10, 6))\n",
        "    plt.plot(history.history['loss'], label='Train Loss')\n",
        "    plt.plot(history.history['val_loss'], label='Validation Loss')\n",
        "    plt.title('Training and Validation Loss Over Epochs')\n",
        "    plt.xlabel('Epoch')\n",
        "    plt.ylabel('Loss')\n",
        "    plt.legend()\n",
        "    plt.grid(True)\n",
        "    plt.show()"
      ],
      "metadata": {
        "id": "rBmTgCTB9GYd"
      },
      "execution_count": 8,
      "outputs": []
    },
    {
      "cell_type": "code",
      "source": [
        "# Main\n",
        "if __name__ == \"__main__\":\n",
        "    # Mount Google Drive (nếu dùng Colab)\n",
        "    #from google.colab import drive\n",
        "\n",
        "    # Đường dẫn tới dữ liệu\n",
        "    root_folder = \"/content/emotion_train/Emotions\"\n",
        "    folders = [f for f in glob.glob(os.path.join(root_folder, \"*\")) if os.path.isdir(f)]\n",
        "    all_files = []\n",
        "    for folder in folders:\n",
        "        all_files.extend(glob.glob(os.path.join(folder, \"**\", \"*.wav\"), recursive=True))\n",
        "\n",
        "    # Kiểm tra phân bố nhãn\n",
        "    emotion_map = {'Angry': 0, 'Happy': 1, 'Sad': 2, 'Neutral': 3, 'Disgusted': 4, 'Fearful': 5, 'Suprised': 6}\n",
        "    y_raw = [emotion_map.get(os.path.basename(os.path.dirname(f)), -1) for f in all_files]\n",
        "    print(\"Phân bố nhãn gốc:\", Counter([EMOTIONS[i] for i in y_raw if i != -1]))\n",
        "\n",
        "    # Chuẩn bị dữ liệu\n",
        "    X, y = prepare_training_data(all_files, emotion_map)\n",
        "\n",
        "    # Xây dựng và huấn luyện mô hình\n",
        "    cnn_model = build_cnn_2d(input_shape=(26, 157, 1))\n",
        "    cnn_model, history = train_and_evaluate_model(cnn_model, X, y,\n",
        "                                                  epochs=200,\n",
        "                                                  batch_size=16,\n",
        "                                                  checkpoint_path='best_cnn_2d_vnemos.h5')\n",
        "\n",
        "    # Lưu mô hình cuối cùng (tùy chọn)\n",
        "    cnn_model.save('final_cnn_2d_vnemos.h5')\n",
        "\n",
        "    # Vẽ biểu đồ Loss\n",
        "    plot_loss_history(history)"
      ],
      "metadata": {
        "colab": {
          "base_uri": "https://localhost:8080/",
          "height": 1000
        },
        "id": "tpBsLKAL9JhS",
        "outputId": "feaa4742-6b48-4301-91e9-cfd41369f24c"
      },
      "execution_count": 13,
      "outputs": [
        {
          "output_type": "stream",
          "name": "stdout",
          "text": [
            "Phân bố nhãn gốc: Counter({'Sad': 2137, 'Angry': 2116, 'Happy': 2105, 'Fearful': 1986, 'Disgusted': 1795, 'Neutral': 1755, 'Suprised': 557})\n",
            "Dataset shape: X=(62255, 26, 157, 1), y=(62255, 7)\n"
          ]
        },
        {
          "output_type": "display_data",
          "data": {
            "text/plain": [
              "\u001b[1mModel: \"sequential\"\u001b[0m\n"
            ],
            "text/html": [
              "<pre style=\"white-space:pre;overflow-x:auto;line-height:normal;font-family:Menlo,'DejaVu Sans Mono',consolas,'Courier New',monospace\"><span style=\"font-weight: bold\">Model: \"sequential\"</span>\n",
              "</pre>\n"
            ]
          },
          "metadata": {}
        },
        {
          "output_type": "display_data",
          "data": {
            "text/plain": [
              "┏━━━━━━━━━━━━━━━━━━━━━━━━━━━━━━━━━┳━━━━━━━━━━━━━━━━━━━━━━━━┳━━━━━━━━━━━━━━━┓\n",
              "┃\u001b[1m \u001b[0m\u001b[1mLayer (type)                   \u001b[0m\u001b[1m \u001b[0m┃\u001b[1m \u001b[0m\u001b[1mOutput Shape          \u001b[0m\u001b[1m \u001b[0m┃\u001b[1m \u001b[0m\u001b[1m      Param #\u001b[0m\u001b[1m \u001b[0m┃\n",
              "┡━━━━━━━━━━━━━━━━━━━━━━━━━━━━━━━━━╇━━━━━━━━━━━━━━━━━━━━━━━━╇━━━━━━━━━━━━━━━┩\n",
              "│ conv2d (\u001b[38;5;33mConv2D\u001b[0m)                 │ (\u001b[38;5;45mNone\u001b[0m, \u001b[38;5;34m26\u001b[0m, \u001b[38;5;34m157\u001b[0m, \u001b[38;5;34m32\u001b[0m)    │           \u001b[38;5;34m320\u001b[0m │\n",
              "├─────────────────────────────────┼────────────────────────┼───────────────┤\n",
              "│ batch_normalization             │ (\u001b[38;5;45mNone\u001b[0m, \u001b[38;5;34m26\u001b[0m, \u001b[38;5;34m157\u001b[0m, \u001b[38;5;34m32\u001b[0m)    │           \u001b[38;5;34m128\u001b[0m │\n",
              "│ (\u001b[38;5;33mBatchNormalization\u001b[0m)            │                        │               │\n",
              "├─────────────────────────────────┼────────────────────────┼───────────────┤\n",
              "│ conv2d_1 (\u001b[38;5;33mConv2D\u001b[0m)               │ (\u001b[38;5;45mNone\u001b[0m, \u001b[38;5;34m26\u001b[0m, \u001b[38;5;34m157\u001b[0m, \u001b[38;5;34m32\u001b[0m)    │         \u001b[38;5;34m9,248\u001b[0m │\n",
              "├─────────────────────────────────┼────────────────────────┼───────────────┤\n",
              "│ batch_normalization_1           │ (\u001b[38;5;45mNone\u001b[0m, \u001b[38;5;34m26\u001b[0m, \u001b[38;5;34m157\u001b[0m, \u001b[38;5;34m32\u001b[0m)    │           \u001b[38;5;34m128\u001b[0m │\n",
              "│ (\u001b[38;5;33mBatchNormalization\u001b[0m)            │                        │               │\n",
              "├─────────────────────────────────┼────────────────────────┼───────────────┤\n",
              "│ max_pooling2d (\u001b[38;5;33mMaxPooling2D\u001b[0m)    │ (\u001b[38;5;45mNone\u001b[0m, \u001b[38;5;34m13\u001b[0m, \u001b[38;5;34m78\u001b[0m, \u001b[38;5;34m32\u001b[0m)     │             \u001b[38;5;34m0\u001b[0m │\n",
              "├─────────────────────────────────┼────────────────────────┼───────────────┤\n",
              "│ dropout (\u001b[38;5;33mDropout\u001b[0m)               │ (\u001b[38;5;45mNone\u001b[0m, \u001b[38;5;34m13\u001b[0m, \u001b[38;5;34m78\u001b[0m, \u001b[38;5;34m32\u001b[0m)     │             \u001b[38;5;34m0\u001b[0m │\n",
              "├─────────────────────────────────┼────────────────────────┼───────────────┤\n",
              "│ conv2d_2 (\u001b[38;5;33mConv2D\u001b[0m)               │ (\u001b[38;5;45mNone\u001b[0m, \u001b[38;5;34m13\u001b[0m, \u001b[38;5;34m78\u001b[0m, \u001b[38;5;34m64\u001b[0m)     │        \u001b[38;5;34m18,496\u001b[0m │\n",
              "├─────────────────────────────────┼────────────────────────┼───────────────┤\n",
              "│ batch_normalization_2           │ (\u001b[38;5;45mNone\u001b[0m, \u001b[38;5;34m13\u001b[0m, \u001b[38;5;34m78\u001b[0m, \u001b[38;5;34m64\u001b[0m)     │           \u001b[38;5;34m256\u001b[0m │\n",
              "│ (\u001b[38;5;33mBatchNormalization\u001b[0m)            │                        │               │\n",
              "├─────────────────────────────────┼────────────────────────┼───────────────┤\n",
              "│ conv2d_3 (\u001b[38;5;33mConv2D\u001b[0m)               │ (\u001b[38;5;45mNone\u001b[0m, \u001b[38;5;34m13\u001b[0m, \u001b[38;5;34m78\u001b[0m, \u001b[38;5;34m64\u001b[0m)     │        \u001b[38;5;34m36,928\u001b[0m │\n",
              "├─────────────────────────────────┼────────────────────────┼───────────────┤\n",
              "│ batch_normalization_3           │ (\u001b[38;5;45mNone\u001b[0m, \u001b[38;5;34m13\u001b[0m, \u001b[38;5;34m78\u001b[0m, \u001b[38;5;34m64\u001b[0m)     │           \u001b[38;5;34m256\u001b[0m │\n",
              "│ (\u001b[38;5;33mBatchNormalization\u001b[0m)            │                        │               │\n",
              "├─────────────────────────────────┼────────────────────────┼───────────────┤\n",
              "│ max_pooling2d_1 (\u001b[38;5;33mMaxPooling2D\u001b[0m)  │ (\u001b[38;5;45mNone\u001b[0m, \u001b[38;5;34m6\u001b[0m, \u001b[38;5;34m39\u001b[0m, \u001b[38;5;34m64\u001b[0m)      │             \u001b[38;5;34m0\u001b[0m │\n",
              "├─────────────────────────────────┼────────────────────────┼───────────────┤\n",
              "│ dropout_1 (\u001b[38;5;33mDropout\u001b[0m)             │ (\u001b[38;5;45mNone\u001b[0m, \u001b[38;5;34m6\u001b[0m, \u001b[38;5;34m39\u001b[0m, \u001b[38;5;34m64\u001b[0m)      │             \u001b[38;5;34m0\u001b[0m │\n",
              "├─────────────────────────────────┼────────────────────────┼───────────────┤\n",
              "│ conv2d_4 (\u001b[38;5;33mConv2D\u001b[0m)               │ (\u001b[38;5;45mNone\u001b[0m, \u001b[38;5;34m6\u001b[0m, \u001b[38;5;34m39\u001b[0m, \u001b[38;5;34m128\u001b[0m)     │        \u001b[38;5;34m73,856\u001b[0m │\n",
              "├─────────────────────────────────┼────────────────────────┼───────────────┤\n",
              "│ batch_normalization_4           │ (\u001b[38;5;45mNone\u001b[0m, \u001b[38;5;34m6\u001b[0m, \u001b[38;5;34m39\u001b[0m, \u001b[38;5;34m128\u001b[0m)     │           \u001b[38;5;34m512\u001b[0m │\n",
              "│ (\u001b[38;5;33mBatchNormalization\u001b[0m)            │                        │               │\n",
              "├─────────────────────────────────┼────────────────────────┼───────────────┤\n",
              "│ max_pooling2d_2 (\u001b[38;5;33mMaxPooling2D\u001b[0m)  │ (\u001b[38;5;45mNone\u001b[0m, \u001b[38;5;34m3\u001b[0m, \u001b[38;5;34m19\u001b[0m, \u001b[38;5;34m128\u001b[0m)     │             \u001b[38;5;34m0\u001b[0m │\n",
              "├─────────────────────────────────┼────────────────────────┼───────────────┤\n",
              "│ dropout_2 (\u001b[38;5;33mDropout\u001b[0m)             │ (\u001b[38;5;45mNone\u001b[0m, \u001b[38;5;34m3\u001b[0m, \u001b[38;5;34m19\u001b[0m, \u001b[38;5;34m128\u001b[0m)     │             \u001b[38;5;34m0\u001b[0m │\n",
              "├─────────────────────────────────┼────────────────────────┼───────────────┤\n",
              "│ flatten (\u001b[38;5;33mFlatten\u001b[0m)               │ (\u001b[38;5;45mNone\u001b[0m, \u001b[38;5;34m7296\u001b[0m)           │             \u001b[38;5;34m0\u001b[0m │\n",
              "├─────────────────────────────────┼────────────────────────┼───────────────┤\n",
              "│ dense (\u001b[38;5;33mDense\u001b[0m)                   │ (\u001b[38;5;45mNone\u001b[0m, \u001b[38;5;34m256\u001b[0m)            │     \u001b[38;5;34m1,868,032\u001b[0m │\n",
              "├─────────────────────────────────┼────────────────────────┼───────────────┤\n",
              "│ dropout_3 (\u001b[38;5;33mDropout\u001b[0m)             │ (\u001b[38;5;45mNone\u001b[0m, \u001b[38;5;34m256\u001b[0m)            │             \u001b[38;5;34m0\u001b[0m │\n",
              "├─────────────────────────────────┼────────────────────────┼───────────────┤\n",
              "│ dense_1 (\u001b[38;5;33mDense\u001b[0m)                 │ (\u001b[38;5;45mNone\u001b[0m, \u001b[38;5;34m7\u001b[0m)              │         \u001b[38;5;34m1,799\u001b[0m │\n",
              "└─────────────────────────────────┴────────────────────────┴───────────────┘\n"
            ],
            "text/html": [
              "<pre style=\"white-space:pre;overflow-x:auto;line-height:normal;font-family:Menlo,'DejaVu Sans Mono',consolas,'Courier New',monospace\">┏━━━━━━━━━━━━━━━━━━━━━━━━━━━━━━━━━┳━━━━━━━━━━━━━━━━━━━━━━━━┳━━━━━━━━━━━━━━━┓\n",
              "┃<span style=\"font-weight: bold\"> Layer (type)                    </span>┃<span style=\"font-weight: bold\"> Output Shape           </span>┃<span style=\"font-weight: bold\">       Param # </span>┃\n",
              "┡━━━━━━━━━━━━━━━━━━━━━━━━━━━━━━━━━╇━━━━━━━━━━━━━━━━━━━━━━━━╇━━━━━━━━━━━━━━━┩\n",
              "│ conv2d (<span style=\"color: #0087ff; text-decoration-color: #0087ff\">Conv2D</span>)                 │ (<span style=\"color: #00d7ff; text-decoration-color: #00d7ff\">None</span>, <span style=\"color: #00af00; text-decoration-color: #00af00\">26</span>, <span style=\"color: #00af00; text-decoration-color: #00af00\">157</span>, <span style=\"color: #00af00; text-decoration-color: #00af00\">32</span>)    │           <span style=\"color: #00af00; text-decoration-color: #00af00\">320</span> │\n",
              "├─────────────────────────────────┼────────────────────────┼───────────────┤\n",
              "│ batch_normalization             │ (<span style=\"color: #00d7ff; text-decoration-color: #00d7ff\">None</span>, <span style=\"color: #00af00; text-decoration-color: #00af00\">26</span>, <span style=\"color: #00af00; text-decoration-color: #00af00\">157</span>, <span style=\"color: #00af00; text-decoration-color: #00af00\">32</span>)    │           <span style=\"color: #00af00; text-decoration-color: #00af00\">128</span> │\n",
              "│ (<span style=\"color: #0087ff; text-decoration-color: #0087ff\">BatchNormalization</span>)            │                        │               │\n",
              "├─────────────────────────────────┼────────────────────────┼───────────────┤\n",
              "│ conv2d_1 (<span style=\"color: #0087ff; text-decoration-color: #0087ff\">Conv2D</span>)               │ (<span style=\"color: #00d7ff; text-decoration-color: #00d7ff\">None</span>, <span style=\"color: #00af00; text-decoration-color: #00af00\">26</span>, <span style=\"color: #00af00; text-decoration-color: #00af00\">157</span>, <span style=\"color: #00af00; text-decoration-color: #00af00\">32</span>)    │         <span style=\"color: #00af00; text-decoration-color: #00af00\">9,248</span> │\n",
              "├─────────────────────────────────┼────────────────────────┼───────────────┤\n",
              "│ batch_normalization_1           │ (<span style=\"color: #00d7ff; text-decoration-color: #00d7ff\">None</span>, <span style=\"color: #00af00; text-decoration-color: #00af00\">26</span>, <span style=\"color: #00af00; text-decoration-color: #00af00\">157</span>, <span style=\"color: #00af00; text-decoration-color: #00af00\">32</span>)    │           <span style=\"color: #00af00; text-decoration-color: #00af00\">128</span> │\n",
              "│ (<span style=\"color: #0087ff; text-decoration-color: #0087ff\">BatchNormalization</span>)            │                        │               │\n",
              "├─────────────────────────────────┼────────────────────────┼───────────────┤\n",
              "│ max_pooling2d (<span style=\"color: #0087ff; text-decoration-color: #0087ff\">MaxPooling2D</span>)    │ (<span style=\"color: #00d7ff; text-decoration-color: #00d7ff\">None</span>, <span style=\"color: #00af00; text-decoration-color: #00af00\">13</span>, <span style=\"color: #00af00; text-decoration-color: #00af00\">78</span>, <span style=\"color: #00af00; text-decoration-color: #00af00\">32</span>)     │             <span style=\"color: #00af00; text-decoration-color: #00af00\">0</span> │\n",
              "├─────────────────────────────────┼────────────────────────┼───────────────┤\n",
              "│ dropout (<span style=\"color: #0087ff; text-decoration-color: #0087ff\">Dropout</span>)               │ (<span style=\"color: #00d7ff; text-decoration-color: #00d7ff\">None</span>, <span style=\"color: #00af00; text-decoration-color: #00af00\">13</span>, <span style=\"color: #00af00; text-decoration-color: #00af00\">78</span>, <span style=\"color: #00af00; text-decoration-color: #00af00\">32</span>)     │             <span style=\"color: #00af00; text-decoration-color: #00af00\">0</span> │\n",
              "├─────────────────────────────────┼────────────────────────┼───────────────┤\n",
              "│ conv2d_2 (<span style=\"color: #0087ff; text-decoration-color: #0087ff\">Conv2D</span>)               │ (<span style=\"color: #00d7ff; text-decoration-color: #00d7ff\">None</span>, <span style=\"color: #00af00; text-decoration-color: #00af00\">13</span>, <span style=\"color: #00af00; text-decoration-color: #00af00\">78</span>, <span style=\"color: #00af00; text-decoration-color: #00af00\">64</span>)     │        <span style=\"color: #00af00; text-decoration-color: #00af00\">18,496</span> │\n",
              "├─────────────────────────────────┼────────────────────────┼───────────────┤\n",
              "│ batch_normalization_2           │ (<span style=\"color: #00d7ff; text-decoration-color: #00d7ff\">None</span>, <span style=\"color: #00af00; text-decoration-color: #00af00\">13</span>, <span style=\"color: #00af00; text-decoration-color: #00af00\">78</span>, <span style=\"color: #00af00; text-decoration-color: #00af00\">64</span>)     │           <span style=\"color: #00af00; text-decoration-color: #00af00\">256</span> │\n",
              "│ (<span style=\"color: #0087ff; text-decoration-color: #0087ff\">BatchNormalization</span>)            │                        │               │\n",
              "├─────────────────────────────────┼────────────────────────┼───────────────┤\n",
              "│ conv2d_3 (<span style=\"color: #0087ff; text-decoration-color: #0087ff\">Conv2D</span>)               │ (<span style=\"color: #00d7ff; text-decoration-color: #00d7ff\">None</span>, <span style=\"color: #00af00; text-decoration-color: #00af00\">13</span>, <span style=\"color: #00af00; text-decoration-color: #00af00\">78</span>, <span style=\"color: #00af00; text-decoration-color: #00af00\">64</span>)     │        <span style=\"color: #00af00; text-decoration-color: #00af00\">36,928</span> │\n",
              "├─────────────────────────────────┼────────────────────────┼───────────────┤\n",
              "│ batch_normalization_3           │ (<span style=\"color: #00d7ff; text-decoration-color: #00d7ff\">None</span>, <span style=\"color: #00af00; text-decoration-color: #00af00\">13</span>, <span style=\"color: #00af00; text-decoration-color: #00af00\">78</span>, <span style=\"color: #00af00; text-decoration-color: #00af00\">64</span>)     │           <span style=\"color: #00af00; text-decoration-color: #00af00\">256</span> │\n",
              "│ (<span style=\"color: #0087ff; text-decoration-color: #0087ff\">BatchNormalization</span>)            │                        │               │\n",
              "├─────────────────────────────────┼────────────────────────┼───────────────┤\n",
              "│ max_pooling2d_1 (<span style=\"color: #0087ff; text-decoration-color: #0087ff\">MaxPooling2D</span>)  │ (<span style=\"color: #00d7ff; text-decoration-color: #00d7ff\">None</span>, <span style=\"color: #00af00; text-decoration-color: #00af00\">6</span>, <span style=\"color: #00af00; text-decoration-color: #00af00\">39</span>, <span style=\"color: #00af00; text-decoration-color: #00af00\">64</span>)      │             <span style=\"color: #00af00; text-decoration-color: #00af00\">0</span> │\n",
              "├─────────────────────────────────┼────────────────────────┼───────────────┤\n",
              "│ dropout_1 (<span style=\"color: #0087ff; text-decoration-color: #0087ff\">Dropout</span>)             │ (<span style=\"color: #00d7ff; text-decoration-color: #00d7ff\">None</span>, <span style=\"color: #00af00; text-decoration-color: #00af00\">6</span>, <span style=\"color: #00af00; text-decoration-color: #00af00\">39</span>, <span style=\"color: #00af00; text-decoration-color: #00af00\">64</span>)      │             <span style=\"color: #00af00; text-decoration-color: #00af00\">0</span> │\n",
              "├─────────────────────────────────┼────────────────────────┼───────────────┤\n",
              "│ conv2d_4 (<span style=\"color: #0087ff; text-decoration-color: #0087ff\">Conv2D</span>)               │ (<span style=\"color: #00d7ff; text-decoration-color: #00d7ff\">None</span>, <span style=\"color: #00af00; text-decoration-color: #00af00\">6</span>, <span style=\"color: #00af00; text-decoration-color: #00af00\">39</span>, <span style=\"color: #00af00; text-decoration-color: #00af00\">128</span>)     │        <span style=\"color: #00af00; text-decoration-color: #00af00\">73,856</span> │\n",
              "├─────────────────────────────────┼────────────────────────┼───────────────┤\n",
              "│ batch_normalization_4           │ (<span style=\"color: #00d7ff; text-decoration-color: #00d7ff\">None</span>, <span style=\"color: #00af00; text-decoration-color: #00af00\">6</span>, <span style=\"color: #00af00; text-decoration-color: #00af00\">39</span>, <span style=\"color: #00af00; text-decoration-color: #00af00\">128</span>)     │           <span style=\"color: #00af00; text-decoration-color: #00af00\">512</span> │\n",
              "│ (<span style=\"color: #0087ff; text-decoration-color: #0087ff\">BatchNormalization</span>)            │                        │               │\n",
              "├─────────────────────────────────┼────────────────────────┼───────────────┤\n",
              "│ max_pooling2d_2 (<span style=\"color: #0087ff; text-decoration-color: #0087ff\">MaxPooling2D</span>)  │ (<span style=\"color: #00d7ff; text-decoration-color: #00d7ff\">None</span>, <span style=\"color: #00af00; text-decoration-color: #00af00\">3</span>, <span style=\"color: #00af00; text-decoration-color: #00af00\">19</span>, <span style=\"color: #00af00; text-decoration-color: #00af00\">128</span>)     │             <span style=\"color: #00af00; text-decoration-color: #00af00\">0</span> │\n",
              "├─────────────────────────────────┼────────────────────────┼───────────────┤\n",
              "│ dropout_2 (<span style=\"color: #0087ff; text-decoration-color: #0087ff\">Dropout</span>)             │ (<span style=\"color: #00d7ff; text-decoration-color: #00d7ff\">None</span>, <span style=\"color: #00af00; text-decoration-color: #00af00\">3</span>, <span style=\"color: #00af00; text-decoration-color: #00af00\">19</span>, <span style=\"color: #00af00; text-decoration-color: #00af00\">128</span>)     │             <span style=\"color: #00af00; text-decoration-color: #00af00\">0</span> │\n",
              "├─────────────────────────────────┼────────────────────────┼───────────────┤\n",
              "│ flatten (<span style=\"color: #0087ff; text-decoration-color: #0087ff\">Flatten</span>)               │ (<span style=\"color: #00d7ff; text-decoration-color: #00d7ff\">None</span>, <span style=\"color: #00af00; text-decoration-color: #00af00\">7296</span>)           │             <span style=\"color: #00af00; text-decoration-color: #00af00\">0</span> │\n",
              "├─────────────────────────────────┼────────────────────────┼───────────────┤\n",
              "│ dense (<span style=\"color: #0087ff; text-decoration-color: #0087ff\">Dense</span>)                   │ (<span style=\"color: #00d7ff; text-decoration-color: #00d7ff\">None</span>, <span style=\"color: #00af00; text-decoration-color: #00af00\">256</span>)            │     <span style=\"color: #00af00; text-decoration-color: #00af00\">1,868,032</span> │\n",
              "├─────────────────────────────────┼────────────────────────┼───────────────┤\n",
              "│ dropout_3 (<span style=\"color: #0087ff; text-decoration-color: #0087ff\">Dropout</span>)             │ (<span style=\"color: #00d7ff; text-decoration-color: #00d7ff\">None</span>, <span style=\"color: #00af00; text-decoration-color: #00af00\">256</span>)            │             <span style=\"color: #00af00; text-decoration-color: #00af00\">0</span> │\n",
              "├─────────────────────────────────┼────────────────────────┼───────────────┤\n",
              "│ dense_1 (<span style=\"color: #0087ff; text-decoration-color: #0087ff\">Dense</span>)                 │ (<span style=\"color: #00d7ff; text-decoration-color: #00d7ff\">None</span>, <span style=\"color: #00af00; text-decoration-color: #00af00\">7</span>)              │         <span style=\"color: #00af00; text-decoration-color: #00af00\">1,799</span> │\n",
              "└─────────────────────────────────┴────────────────────────┴───────────────┘\n",
              "</pre>\n"
            ]
          },
          "metadata": {}
        },
        {
          "output_type": "display_data",
          "data": {
            "text/plain": [
              "\u001b[1m Total params: \u001b[0m\u001b[38;5;34m2,009,959\u001b[0m (7.67 MB)\n"
            ],
            "text/html": [
              "<pre style=\"white-space:pre;overflow-x:auto;line-height:normal;font-family:Menlo,'DejaVu Sans Mono',consolas,'Courier New',monospace\"><span style=\"font-weight: bold\"> Total params: </span><span style=\"color: #00af00; text-decoration-color: #00af00\">2,009,959</span> (7.67 MB)\n",
              "</pre>\n"
            ]
          },
          "metadata": {}
        },
        {
          "output_type": "display_data",
          "data": {
            "text/plain": [
              "\u001b[1m Trainable params: \u001b[0m\u001b[38;5;34m2,009,319\u001b[0m (7.66 MB)\n"
            ],
            "text/html": [
              "<pre style=\"white-space:pre;overflow-x:auto;line-height:normal;font-family:Menlo,'DejaVu Sans Mono',consolas,'Courier New',monospace\"><span style=\"font-weight: bold\"> Trainable params: </span><span style=\"color: #00af00; text-decoration-color: #00af00\">2,009,319</span> (7.66 MB)\n",
              "</pre>\n"
            ]
          },
          "metadata": {}
        },
        {
          "output_type": "display_data",
          "data": {
            "text/plain": [
              "\u001b[1m Non-trainable params: \u001b[0m\u001b[38;5;34m640\u001b[0m (2.50 KB)\n"
            ],
            "text/html": [
              "<pre style=\"white-space:pre;overflow-x:auto;line-height:normal;font-family:Menlo,'DejaVu Sans Mono',consolas,'Courier New',monospace\"><span style=\"font-weight: bold\"> Non-trainable params: </span><span style=\"color: #00af00; text-decoration-color: #00af00\">640</span> (2.50 KB)\n",
              "</pre>\n"
            ]
          },
          "metadata": {}
        },
        {
          "output_type": "stream",
          "name": "stdout",
          "text": [
            "Train shape: (49804, 26, 157, 1), Val shape: (12451, 26, 157, 1)\n",
            "Epoch 1/200\n",
            "\u001b[1m3113/3113\u001b[0m \u001b[32m━━━━━━━━━━━━━━━━━━━━\u001b[0m\u001b[37m\u001b[0m \u001b[1m0s\u001b[0m 6ms/step - accuracy: 0.3187 - loss: 2.5097\n",
            "Epoch 1: val_loss improved from inf to 1.93310, saving model to best_cnn_2d_vnemos.h5\n"
          ]
        },
        {
          "output_type": "stream",
          "name": "stderr",
          "text": [
            "WARNING:absl:You are saving your model as an HDF5 file via `model.save()` or `keras.saving.save_model(model)`. This file format is considered legacy. We recommend using instead the native Keras format, e.g. `model.save('my_model.keras')` or `keras.saving.save_model(model, 'my_model.keras')`. \n"
          ]
        },
        {
          "output_type": "stream",
          "name": "stdout",
          "text": [
            "\b\b\b\b\b\b\b\b\b\b\b\b\b\b\b\b\b\b\b\b\b\b\b\b\b\b\b\b\b\b\b\b\b\b\b\b\b\b\b\b\b\b\b\b\b\b\b\b\b\b\b\b\b\b\b\b\b\b\b\b\b\b\b\b\b\b\b\b\b\b\b\b\b\b\b\b\r\u001b[1m3113/3113\u001b[0m \u001b[32m━━━━━━━━━━━━━━━━━━━━\u001b[0m\u001b[37m\u001b[0m \u001b[1m39s\u001b[0m 8ms/step - accuracy: 0.3187 - loss: 2.5096 - val_accuracy: 0.5131 - val_loss: 1.9331 - learning_rate: 1.0000e-04\n",
            "Epoch 2/200\n",
            "\u001b[1m3109/3113\u001b[0m \u001b[32m━━━━━━━━━━━━━━━━━━━\u001b[0m\u001b[37m━\u001b[0m \u001b[1m0s\u001b[0m 4ms/step - accuracy: 0.5020 - loss: 1.9086\n",
            "Epoch 2: val_loss improved from 1.93310 to 1.64179, saving model to best_cnn_2d_vnemos.h5\n"
          ]
        },
        {
          "output_type": "stream",
          "name": "stderr",
          "text": [
            "WARNING:absl:You are saving your model as an HDF5 file via `model.save()` or `keras.saving.save_model(model)`. This file format is considered legacy. We recommend using instead the native Keras format, e.g. `model.save('my_model.keras')` or `keras.saving.save_model(model, 'my_model.keras')`. \n"
          ]
        },
        {
          "output_type": "stream",
          "name": "stdout",
          "text": [
            "\b\b\b\b\b\b\b\b\b\b\b\b\b\b\b\b\b\b\b\b\b\b\b\b\b\b\b\b\b\b\b\b\b\b\b\b\b\b\b\b\b\b\b\b\b\b\b\b\b\b\b\b\b\b\b\b\b\b\b\b\b\b\b\b\b\b\b\b\b\b\b\b\b\b\b\b\r\u001b[1m3113/3113\u001b[0m \u001b[32m━━━━━━━━━━━━━━━━━━━━\u001b[0m\u001b[37m\u001b[0m \u001b[1m15s\u001b[0m 5ms/step - accuracy: 0.5020 - loss: 1.9085 - val_accuracy: 0.5898 - val_loss: 1.6418 - learning_rate: 1.0000e-04\n",
            "Epoch 3/200\n",
            "\u001b[1m3102/3113\u001b[0m \u001b[32m━━━━━━━━━━━━━━━━━━━\u001b[0m\u001b[37m━\u001b[0m \u001b[1m0s\u001b[0m 4ms/step - accuracy: 0.5640 - loss: 1.6609\n",
            "Epoch 3: val_loss improved from 1.64179 to 1.44400, saving model to best_cnn_2d_vnemos.h5\n"
          ]
        },
        {
          "output_type": "stream",
          "name": "stderr",
          "text": [
            "WARNING:absl:You are saving your model as an HDF5 file via `model.save()` or `keras.saving.save_model(model)`. This file format is considered legacy. We recommend using instead the native Keras format, e.g. `model.save('my_model.keras')` or `keras.saving.save_model(model, 'my_model.keras')`. \n"
          ]
        },
        {
          "output_type": "stream",
          "name": "stdout",
          "text": [
            "\b\b\b\b\b\b\b\b\b\b\b\b\b\b\b\b\b\b\b\b\b\b\b\b\b\b\b\b\b\b\b\b\b\b\b\b\b\b\b\b\b\b\b\b\b\b\b\b\b\b\b\b\b\b\b\b\b\b\b\b\b\b\b\b\b\b\b\b\b\b\b\b\b\b\b\b\r\u001b[1m3113/3113\u001b[0m \u001b[32m━━━━━━━━━━━━━━━━━━━━\u001b[0m\u001b[37m\u001b[0m \u001b[1m15s\u001b[0m 5ms/step - accuracy: 0.5640 - loss: 1.6608 - val_accuracy: 0.6510 - val_loss: 1.4440 - learning_rate: 1.0000e-04\n",
            "Epoch 4/200\n",
            "\u001b[1m3104/3113\u001b[0m \u001b[32m━━━━━━━━━━━━━━━━━━━\u001b[0m\u001b[37m━\u001b[0m \u001b[1m0s\u001b[0m 4ms/step - accuracy: 0.6068 - loss: 1.5203\n",
            "Epoch 4: val_loss improved from 1.44400 to 1.37234, saving model to best_cnn_2d_vnemos.h5\n"
          ]
        },
        {
          "output_type": "stream",
          "name": "stderr",
          "text": [
            "WARNING:absl:You are saving your model as an HDF5 file via `model.save()` or `keras.saving.save_model(model)`. This file format is considered legacy. We recommend using instead the native Keras format, e.g. `model.save('my_model.keras')` or `keras.saving.save_model(model, 'my_model.keras')`. \n"
          ]
        },
        {
          "output_type": "stream",
          "name": "stdout",
          "text": [
            "\b\b\b\b\b\b\b\b\b\b\b\b\b\b\b\b\b\b\b\b\b\b\b\b\b\b\b\b\b\b\b\b\b\b\b\b\b\b\b\b\b\b\b\b\b\b\b\b\b\b\b\b\b\b\b\b\b\b\b\b\b\b\b\b\b\b\b\b\b\b\b\b\b\b\b\b\r\u001b[1m3113/3113\u001b[0m \u001b[32m━━━━━━━━━━━━━━━━━━━━\u001b[0m\u001b[37m\u001b[0m \u001b[1m14s\u001b[0m 4ms/step - accuracy: 0.6068 - loss: 1.5202 - val_accuracy: 0.6739 - val_loss: 1.3723 - learning_rate: 1.0000e-04\n",
            "Epoch 5/200\n",
            "\u001b[1m3108/3113\u001b[0m \u001b[32m━━━━━━━━━━━━━━━━━━━\u001b[0m\u001b[37m━\u001b[0m \u001b[1m0s\u001b[0m 4ms/step - accuracy: 0.6415 - loss: 1.4318\n",
            "Epoch 5: val_loss improved from 1.37234 to 1.28488, saving model to best_cnn_2d_vnemos.h5\n"
          ]
        },
        {
          "output_type": "stream",
          "name": "stderr",
          "text": [
            "WARNING:absl:You are saving your model as an HDF5 file via `model.save()` or `keras.saving.save_model(model)`. This file format is considered legacy. We recommend using instead the native Keras format, e.g. `model.save('my_model.keras')` or `keras.saving.save_model(model, 'my_model.keras')`. \n"
          ]
        },
        {
          "output_type": "stream",
          "name": "stdout",
          "text": [
            "\b\b\b\b\b\b\b\b\b\b\b\b\b\b\b\b\b\b\b\b\b\b\b\b\b\b\b\b\b\b\b\b\b\b\b\b\b\b\b\b\b\b\b\b\b\b\b\b\b\b\b\b\b\b\b\b\b\b\b\b\b\b\b\b\b\b\b\b\b\b\b\b\b\b\b\b\r\u001b[1m3113/3113\u001b[0m \u001b[32m━━━━━━━━━━━━━━━━━━━━\u001b[0m\u001b[37m\u001b[0m \u001b[1m14s\u001b[0m 5ms/step - accuracy: 0.6415 - loss: 1.4318 - val_accuracy: 0.7101 - val_loss: 1.2849 - learning_rate: 1.0000e-04\n",
            "Epoch 6/200\n",
            "\u001b[1m3110/3113\u001b[0m \u001b[32m━━━━━━━━━━━━━━━━━━━\u001b[0m\u001b[37m━\u001b[0m \u001b[1m0s\u001b[0m 4ms/step - accuracy: 0.6723 - loss: 1.3608\n",
            "Epoch 6: val_loss improved from 1.28488 to 1.22845, saving model to best_cnn_2d_vnemos.h5\n"
          ]
        },
        {
          "output_type": "stream",
          "name": "stderr",
          "text": [
            "WARNING:absl:You are saving your model as an HDF5 file via `model.save()` or `keras.saving.save_model(model)`. This file format is considered legacy. We recommend using instead the native Keras format, e.g. `model.save('my_model.keras')` or `keras.saving.save_model(model, 'my_model.keras')`. \n"
          ]
        },
        {
          "output_type": "stream",
          "name": "stdout",
          "text": [
            "\b\b\b\b\b\b\b\b\b\b\b\b\b\b\b\b\b\b\b\b\b\b\b\b\b\b\b\b\b\b\b\b\b\b\b\b\b\b\b\b\b\b\b\b\b\b\b\b\b\b\b\b\b\b\b\b\b\b\b\b\b\b\b\b\b\b\b\b\b\b\b\b\b\b\b\b\r\u001b[1m3113/3113\u001b[0m \u001b[32m━━━━━━━━━━━━━━━━━━━━\u001b[0m\u001b[37m\u001b[0m \u001b[1m14s\u001b[0m 4ms/step - accuracy: 0.6723 - loss: 1.3608 - val_accuracy: 0.7378 - val_loss: 1.2285 - learning_rate: 1.0000e-04\n",
            "Epoch 7/200\n",
            "\u001b[1m3103/3113\u001b[0m \u001b[32m━━━━━━━━━━━━━━━━━━━\u001b[0m\u001b[37m━\u001b[0m \u001b[1m0s\u001b[0m 4ms/step - accuracy: 0.7009 - loss: 1.3074\n",
            "Epoch 7: val_loss improved from 1.22845 to 1.17341, saving model to best_cnn_2d_vnemos.h5\n"
          ]
        },
        {
          "output_type": "stream",
          "name": "stderr",
          "text": [
            "WARNING:absl:You are saving your model as an HDF5 file via `model.save()` or `keras.saving.save_model(model)`. This file format is considered legacy. We recommend using instead the native Keras format, e.g. `model.save('my_model.keras')` or `keras.saving.save_model(model, 'my_model.keras')`. \n"
          ]
        },
        {
          "output_type": "stream",
          "name": "stdout",
          "text": [
            "\b\b\b\b\b\b\b\b\b\b\b\b\b\b\b\b\b\b\b\b\b\b\b\b\b\b\b\b\b\b\b\b\b\b\b\b\b\b\b\b\b\b\b\b\b\b\b\b\b\b\b\b\b\b\b\b\b\b\b\b\b\b\b\b\b\b\b\b\b\b\b\b\b\b\b\b\r\u001b[1m3113/3113\u001b[0m \u001b[32m━━━━━━━━━━━━━━━━━━━━\u001b[0m\u001b[37m\u001b[0m \u001b[1m14s\u001b[0m 5ms/step - accuracy: 0.7009 - loss: 1.3074 - val_accuracy: 0.7563 - val_loss: 1.1734 - learning_rate: 1.0000e-04\n",
            "Epoch 8/200\n",
            "\u001b[1m3103/3113\u001b[0m \u001b[32m━━━━━━━━━━━━━━━━━━━\u001b[0m\u001b[37m━\u001b[0m \u001b[1m0s\u001b[0m 4ms/step - accuracy: 0.7285 - loss: 1.2507\n",
            "Epoch 8: val_loss improved from 1.17341 to 1.14556, saving model to best_cnn_2d_vnemos.h5\n"
          ]
        },
        {
          "output_type": "stream",
          "name": "stderr",
          "text": [
            "WARNING:absl:You are saving your model as an HDF5 file via `model.save()` or `keras.saving.save_model(model)`. This file format is considered legacy. We recommend using instead the native Keras format, e.g. `model.save('my_model.keras')` or `keras.saving.save_model(model, 'my_model.keras')`. \n"
          ]
        },
        {
          "output_type": "stream",
          "name": "stdout",
          "text": [
            "\b\b\b\b\b\b\b\b\b\b\b\b\b\b\b\b\b\b\b\b\b\b\b\b\b\b\b\b\b\b\b\b\b\b\b\b\b\b\b\b\b\b\b\b\b\b\b\b\b\b\b\b\b\b\b\b\b\b\b\b\b\b\b\b\b\b\b\b\b\b\b\b\b\b\b\b\r\u001b[1m3113/3113\u001b[0m \u001b[32m━━━━━━━━━━━━━━━━━━━━\u001b[0m\u001b[37m\u001b[0m \u001b[1m14s\u001b[0m 4ms/step - accuracy: 0.7285 - loss: 1.2507 - val_accuracy: 0.7723 - val_loss: 1.1456 - learning_rate: 1.0000e-04\n",
            "Epoch 9/200\n",
            "\u001b[1m3110/3113\u001b[0m \u001b[32m━━━━━━━━━━━━━━━━━━━\u001b[0m\u001b[37m━\u001b[0m \u001b[1m0s\u001b[0m 4ms/step - accuracy: 0.7491 - loss: 1.2054\n",
            "Epoch 9: val_loss improved from 1.14556 to 1.10323, saving model to best_cnn_2d_vnemos.h5\n"
          ]
        },
        {
          "output_type": "stream",
          "name": "stderr",
          "text": [
            "WARNING:absl:You are saving your model as an HDF5 file via `model.save()` or `keras.saving.save_model(model)`. This file format is considered legacy. We recommend using instead the native Keras format, e.g. `model.save('my_model.keras')` or `keras.saving.save_model(model, 'my_model.keras')`. \n"
          ]
        },
        {
          "output_type": "stream",
          "name": "stdout",
          "text": [
            "\b\b\b\b\b\b\b\b\b\b\b\b\b\b\b\b\b\b\b\b\b\b\b\b\b\b\b\b\b\b\b\b\b\b\b\b\b\b\b\b\b\b\b\b\b\b\b\b\b\b\b\b\b\b\b\b\b\b\b\b\b\b\b\b\b\b\b\b\b\b\b\b\b\b\b\b\r\u001b[1m3113/3113\u001b[0m \u001b[32m━━━━━━━━━━━━━━━━━━━━\u001b[0m\u001b[37m\u001b[0m \u001b[1m14s\u001b[0m 5ms/step - accuracy: 0.7491 - loss: 1.2054 - val_accuracy: 0.7925 - val_loss: 1.1032 - learning_rate: 1.0000e-04\n",
            "Epoch 10/200\n",
            "\u001b[1m3105/3113\u001b[0m \u001b[32m━━━━━━━━━━━━━━━━━━━\u001b[0m\u001b[37m━\u001b[0m \u001b[1m0s\u001b[0m 4ms/step - accuracy: 0.7654 - loss: 1.1736\n",
            "Epoch 10: val_loss did not improve from 1.10323\n",
            "\u001b[1m3113/3113\u001b[0m \u001b[32m━━━━━━━━━━━━━━━━━━━━\u001b[0m\u001b[37m\u001b[0m \u001b[1m14s\u001b[0m 4ms/step - accuracy: 0.7654 - loss: 1.1736 - val_accuracy: 0.7986 - val_loss: 1.1050 - learning_rate: 1.0000e-04\n",
            "Epoch 11/200\n",
            "\u001b[1m3112/3113\u001b[0m \u001b[32m━━━━━━━━━━━━━━━━━━━\u001b[0m\u001b[37m━\u001b[0m \u001b[1m0s\u001b[0m 4ms/step - accuracy: 0.7838 - loss: 1.1458\n",
            "Epoch 11: val_loss improved from 1.10323 to 1.04382, saving model to best_cnn_2d_vnemos.h5\n"
          ]
        },
        {
          "output_type": "stream",
          "name": "stderr",
          "text": [
            "WARNING:absl:You are saving your model as an HDF5 file via `model.save()` or `keras.saving.save_model(model)`. This file format is considered legacy. We recommend using instead the native Keras format, e.g. `model.save('my_model.keras')` or `keras.saving.save_model(model, 'my_model.keras')`. \n"
          ]
        },
        {
          "output_type": "stream",
          "name": "stdout",
          "text": [
            "\b\b\b\b\b\b\b\b\b\b\b\b\b\b\b\b\b\b\b\b\b\b\b\b\b\b\b\b\b\b\b\b\b\b\b\b\b\b\b\b\b\b\b\b\b\b\b\b\b\b\b\b\b\b\b\b\b\b\b\b\b\b\b\b\b\b\b\b\b\b\b\b\b\b\b\b\r\u001b[1m3113/3113\u001b[0m \u001b[32m━━━━━━━━━━━━━━━━━━━━\u001b[0m\u001b[37m\u001b[0m \u001b[1m14s\u001b[0m 4ms/step - accuracy: 0.7838 - loss: 1.1458 - val_accuracy: 0.8303 - val_loss: 1.0438 - learning_rate: 1.0000e-04\n",
            "Epoch 12/200\n",
            "\u001b[1m3113/3113\u001b[0m \u001b[32m━━━━━━━━━━━━━━━━━━━━\u001b[0m\u001b[37m\u001b[0m \u001b[1m0s\u001b[0m 4ms/step - accuracy: 0.8025 - loss: 1.1149\n",
            "Epoch 12: val_loss improved from 1.04382 to 1.01598, saving model to best_cnn_2d_vnemos.h5\n"
          ]
        },
        {
          "output_type": "stream",
          "name": "stderr",
          "text": [
            "WARNING:absl:You are saving your model as an HDF5 file via `model.save()` or `keras.saving.save_model(model)`. This file format is considered legacy. We recommend using instead the native Keras format, e.g. `model.save('my_model.keras')` or `keras.saving.save_model(model, 'my_model.keras')`. \n"
          ]
        },
        {
          "output_type": "stream",
          "name": "stdout",
          "text": [
            "\b\b\b\b\b\b\b\b\b\b\b\b\b\b\b\b\b\b\b\b\b\b\b\b\b\b\b\b\b\b\b\b\b\b\b\b\b\b\b\b\b\b\b\b\b\b\b\b\b\b\b\b\b\b\b\b\b\b\b\b\b\b\b\b\b\b\b\b\b\b\b\b\b\b\b\b\r\u001b[1m3113/3113\u001b[0m \u001b[32m━━━━━━━━━━━━━━━━━━━━\u001b[0m\u001b[37m\u001b[0m \u001b[1m14s\u001b[0m 4ms/step - accuracy: 0.8025 - loss: 1.1149 - val_accuracy: 0.8452 - val_loss: 1.0160 - learning_rate: 1.0000e-04\n",
            "Epoch 13/200\n",
            "\u001b[1m3113/3113\u001b[0m \u001b[32m━━━━━━━━━━━━━━━━━━━━\u001b[0m\u001b[37m\u001b[0m \u001b[1m0s\u001b[0m 4ms/step - accuracy: 0.8184 - loss: 1.0870\n",
            "Epoch 13: val_loss improved from 1.01598 to 1.01225, saving model to best_cnn_2d_vnemos.h5\n"
          ]
        },
        {
          "output_type": "stream",
          "name": "stderr",
          "text": [
            "WARNING:absl:You are saving your model as an HDF5 file via `model.save()` or `keras.saving.save_model(model)`. This file format is considered legacy. We recommend using instead the native Keras format, e.g. `model.save('my_model.keras')` or `keras.saving.save_model(model, 'my_model.keras')`. \n"
          ]
        },
        {
          "output_type": "stream",
          "name": "stdout",
          "text": [
            "\b\b\b\b\b\b\b\b\b\b\b\b\b\b\b\b\b\b\b\b\b\b\b\b\b\b\b\b\b\b\b\b\b\b\b\b\b\b\b\b\b\b\b\b\b\b\b\b\b\b\b\b\b\b\b\b\b\b\b\b\b\b\b\b\b\b\b\b\b\b\b\b\b\b\b\b\r\u001b[1m3113/3113\u001b[0m \u001b[32m━━━━━━━━━━━━━━━━━━━━\u001b[0m\u001b[37m\u001b[0m \u001b[1m14s\u001b[0m 4ms/step - accuracy: 0.8184 - loss: 1.0870 - val_accuracy: 0.8510 - val_loss: 1.0123 - learning_rate: 1.0000e-04\n",
            "Epoch 14/200\n",
            "\u001b[1m3102/3113\u001b[0m \u001b[32m━━━━━━━━━━━━━━━━━━━\u001b[0m\u001b[37m━\u001b[0m \u001b[1m0s\u001b[0m 4ms/step - accuracy: 0.8307 - loss: 1.0704\n",
            "Epoch 14: val_loss improved from 1.01225 to 0.98840, saving model to best_cnn_2d_vnemos.h5\n"
          ]
        },
        {
          "output_type": "stream",
          "name": "stderr",
          "text": [
            "WARNING:absl:You are saving your model as an HDF5 file via `model.save()` or `keras.saving.save_model(model)`. This file format is considered legacy. We recommend using instead the native Keras format, e.g. `model.save('my_model.keras')` or `keras.saving.save_model(model, 'my_model.keras')`. \n"
          ]
        },
        {
          "output_type": "stream",
          "name": "stdout",
          "text": [
            "\b\b\b\b\b\b\b\b\b\b\b\b\b\b\b\b\b\b\b\b\b\b\b\b\b\b\b\b\b\b\b\b\b\b\b\b\b\b\b\b\b\b\b\b\b\b\b\b\b\b\b\b\b\b\b\b\b\b\b\b\b\b\b\b\b\b\b\b\b\b\b\b\b\b\b\b\r\u001b[1m3113/3113\u001b[0m \u001b[32m━━━━━━━━━━━━━━━━━━━━\u001b[0m\u001b[37m\u001b[0m \u001b[1m14s\u001b[0m 4ms/step - accuracy: 0.8307 - loss: 1.0704 - val_accuracy: 0.8594 - val_loss: 0.9884 - learning_rate: 1.0000e-04\n",
            "Epoch 15/200\n",
            "\u001b[1m3110/3113\u001b[0m \u001b[32m━━━━━━━━━━━━━━━━━━━\u001b[0m\u001b[37m━\u001b[0m \u001b[1m0s\u001b[0m 4ms/step - accuracy: 0.8412 - loss: 1.0513\n",
            "Epoch 15: val_loss improved from 0.98840 to 0.98636, saving model to best_cnn_2d_vnemos.h5\n"
          ]
        },
        {
          "output_type": "stream",
          "name": "stderr",
          "text": [
            "WARNING:absl:You are saving your model as an HDF5 file via `model.save()` or `keras.saving.save_model(model)`. This file format is considered legacy. We recommend using instead the native Keras format, e.g. `model.save('my_model.keras')` or `keras.saving.save_model(model, 'my_model.keras')`. \n"
          ]
        },
        {
          "output_type": "stream",
          "name": "stdout",
          "text": [
            "\b\b\b\b\b\b\b\b\b\b\b\b\b\b\b\b\b\b\b\b\b\b\b\b\b\b\b\b\b\b\b\b\b\b\b\b\b\b\b\b\b\b\b\b\b\b\b\b\b\b\b\b\b\b\b\b\b\b\b\b\b\b\b\b\b\b\b\b\b\b\b\b\b\b\b\b\r\u001b[1m3113/3113\u001b[0m \u001b[32m━━━━━━━━━━━━━━━━━━━━\u001b[0m\u001b[37m\u001b[0m \u001b[1m14s\u001b[0m 5ms/step - accuracy: 0.8412 - loss: 1.0513 - val_accuracy: 0.8624 - val_loss: 0.9864 - learning_rate: 1.0000e-04\n",
            "Epoch 16/200\n",
            "\u001b[1m3109/3113\u001b[0m \u001b[32m━━━━━━━━━━━━━━━━━━━\u001b[0m\u001b[37m━\u001b[0m \u001b[1m0s\u001b[0m 4ms/step - accuracy: 0.8510 - loss: 1.0363\n",
            "Epoch 16: val_loss improved from 0.98636 to 0.97532, saving model to best_cnn_2d_vnemos.h5\n"
          ]
        },
        {
          "output_type": "stream",
          "name": "stderr",
          "text": [
            "WARNING:absl:You are saving your model as an HDF5 file via `model.save()` or `keras.saving.save_model(model)`. This file format is considered legacy. We recommend using instead the native Keras format, e.g. `model.save('my_model.keras')` or `keras.saving.save_model(model, 'my_model.keras')`. \n"
          ]
        },
        {
          "output_type": "stream",
          "name": "stdout",
          "text": [
            "\b\b\b\b\b\b\b\b\b\b\b\b\b\b\b\b\b\b\b\b\b\b\b\b\b\b\b\b\b\b\b\b\b\b\b\b\b\b\b\b\b\b\b\b\b\b\b\b\b\b\b\b\b\b\b\b\b\b\b\b\b\b\b\b\b\b\b\b\b\b\b\b\b\b\b\b\r\u001b[1m3113/3113\u001b[0m \u001b[32m━━━━━━━━━━━━━━━━━━━━\u001b[0m\u001b[37m\u001b[0m \u001b[1m14s\u001b[0m 4ms/step - accuracy: 0.8510 - loss: 1.0363 - val_accuracy: 0.8694 - val_loss: 0.9753 - learning_rate: 1.0000e-04\n",
            "Epoch 17/200\n",
            "\u001b[1m3103/3113\u001b[0m \u001b[32m━━━━━━━━━━━━━━━━━━━\u001b[0m\u001b[37m━\u001b[0m \u001b[1m0s\u001b[0m 4ms/step - accuracy: 0.8601 - loss: 1.0220\n",
            "Epoch 17: val_loss improved from 0.97532 to 0.94778, saving model to best_cnn_2d_vnemos.h5\n"
          ]
        },
        {
          "output_type": "stream",
          "name": "stderr",
          "text": [
            "WARNING:absl:You are saving your model as an HDF5 file via `model.save()` or `keras.saving.save_model(model)`. This file format is considered legacy. We recommend using instead the native Keras format, e.g. `model.save('my_model.keras')` or `keras.saving.save_model(model, 'my_model.keras')`. \n"
          ]
        },
        {
          "output_type": "stream",
          "name": "stdout",
          "text": [
            "\b\b\b\b\b\b\b\b\b\b\b\b\b\b\b\b\b\b\b\b\b\b\b\b\b\b\b\b\b\b\b\b\b\b\b\b\b\b\b\b\b\b\b\b\b\b\b\b\b\b\b\b\b\b\b\b\b\b\b\b\b\b\b\b\b\b\b\b\b\b\b\b\b\b\b\b\r\u001b[1m3113/3113\u001b[0m \u001b[32m━━━━━━━━━━━━━━━━━━━━\u001b[0m\u001b[37m\u001b[0m \u001b[1m14s\u001b[0m 4ms/step - accuracy: 0.8601 - loss: 1.0220 - val_accuracy: 0.8881 - val_loss: 0.9478 - learning_rate: 1.0000e-04\n",
            "Epoch 18/200\n",
            "\u001b[1m3112/3113\u001b[0m \u001b[32m━━━━━━━━━━━━━━━━━━━\u001b[0m\u001b[37m━\u001b[0m \u001b[1m0s\u001b[0m 4ms/step - accuracy: 0.8699 - loss: 1.0052\n",
            "Epoch 18: val_loss improved from 0.94778 to 0.94555, saving model to best_cnn_2d_vnemos.h5\n"
          ]
        },
        {
          "output_type": "stream",
          "name": "stderr",
          "text": [
            "WARNING:absl:You are saving your model as an HDF5 file via `model.save()` or `keras.saving.save_model(model)`. This file format is considered legacy. We recommend using instead the native Keras format, e.g. `model.save('my_model.keras')` or `keras.saving.save_model(model, 'my_model.keras')`. \n"
          ]
        },
        {
          "output_type": "stream",
          "name": "stdout",
          "text": [
            "\b\b\b\b\b\b\b\b\b\b\b\b\b\b\b\b\b\b\b\b\b\b\b\b\b\b\b\b\b\b\b\b\b\b\b\b\b\b\b\b\b\b\b\b\b\b\b\b\b\b\b\b\b\b\b\b\b\b\b\b\b\b\b\b\b\b\b\b\b\b\b\b\b\b\b\b\r\u001b[1m3113/3113\u001b[0m \u001b[32m━━━━━━━━━━━━━━━━━━━━\u001b[0m\u001b[37m\u001b[0m \u001b[1m14s\u001b[0m 4ms/step - accuracy: 0.8699 - loss: 1.0052 - val_accuracy: 0.8888 - val_loss: 0.9455 - learning_rate: 1.0000e-04\n",
            "Epoch 19/200\n",
            "\u001b[1m3107/3113\u001b[0m \u001b[32m━━━━━━━━━━━━━━━━━━━\u001b[0m\u001b[37m━\u001b[0m \u001b[1m0s\u001b[0m 4ms/step - accuracy: 0.8762 - loss: 0.9923\n",
            "Epoch 19: val_loss improved from 0.94555 to 0.92794, saving model to best_cnn_2d_vnemos.h5\n"
          ]
        },
        {
          "output_type": "stream",
          "name": "stderr",
          "text": [
            "WARNING:absl:You are saving your model as an HDF5 file via `model.save()` or `keras.saving.save_model(model)`. This file format is considered legacy. We recommend using instead the native Keras format, e.g. `model.save('my_model.keras')` or `keras.saving.save_model(model, 'my_model.keras')`. \n"
          ]
        },
        {
          "output_type": "stream",
          "name": "stdout",
          "text": [
            "\b\b\b\b\b\b\b\b\b\b\b\b\b\b\b\b\b\b\b\b\b\b\b\b\b\b\b\b\b\b\b\b\b\b\b\b\b\b\b\b\b\b\b\b\b\b\b\b\b\b\b\b\b\b\b\b\b\b\b\b\b\b\b\b\b\b\b\b\b\b\b\b\b\b\b\b\r\u001b[1m3113/3113\u001b[0m \u001b[32m━━━━━━━━━━━━━━━━━━━━\u001b[0m\u001b[37m\u001b[0m \u001b[1m14s\u001b[0m 4ms/step - accuracy: 0.8762 - loss: 0.9923 - val_accuracy: 0.8974 - val_loss: 0.9279 - learning_rate: 1.0000e-04\n",
            "Epoch 20/200\n",
            "\u001b[1m3101/3113\u001b[0m \u001b[32m━━━━━━━━━━━━━━━━━━━\u001b[0m\u001b[37m━\u001b[0m \u001b[1m0s\u001b[0m 4ms/step - accuracy: 0.8824 - loss: 0.9871\n",
            "Epoch 20: val_loss did not improve from 0.92794\n",
            "\u001b[1m3113/3113\u001b[0m \u001b[32m━━━━━━━━━━━━━━━━━━━━\u001b[0m\u001b[37m\u001b[0m \u001b[1m14s\u001b[0m 4ms/step - accuracy: 0.8824 - loss: 0.9871 - val_accuracy: 0.9003 - val_loss: 0.9282 - learning_rate: 1.0000e-04\n",
            "Epoch 21/200\n",
            "\u001b[1m3103/3113\u001b[0m \u001b[32m━━━━━━━━━━━━━━━━━━━\u001b[0m\u001b[37m━\u001b[0m \u001b[1m0s\u001b[0m 4ms/step - accuracy: 0.8855 - loss: 0.9776\n",
            "Epoch 21: val_loss improved from 0.92794 to 0.91653, saving model to best_cnn_2d_vnemos.h5\n"
          ]
        },
        {
          "output_type": "stream",
          "name": "stderr",
          "text": [
            "WARNING:absl:You are saving your model as an HDF5 file via `model.save()` or `keras.saving.save_model(model)`. This file format is considered legacy. We recommend using instead the native Keras format, e.g. `model.save('my_model.keras')` or `keras.saving.save_model(model, 'my_model.keras')`. \n"
          ]
        },
        {
          "output_type": "stream",
          "name": "stdout",
          "text": [
            "\b\b\b\b\b\b\b\b\b\b\b\b\b\b\b\b\b\b\b\b\b\b\b\b\b\b\b\b\b\b\b\b\b\b\b\b\b\b\b\b\b\b\b\b\b\b\b\b\b\b\b\b\b\b\b\b\b\b\b\b\b\b\b\b\b\b\b\b\b\b\b\b\b\b\b\b\r\u001b[1m3113/3113\u001b[0m \u001b[32m━━━━━━━━━━━━━━━━━━━━\u001b[0m\u001b[37m\u001b[0m \u001b[1m14s\u001b[0m 4ms/step - accuracy: 0.8855 - loss: 0.9776 - val_accuracy: 0.9043 - val_loss: 0.9165 - learning_rate: 1.0000e-04\n",
            "Epoch 22/200\n",
            "\u001b[1m3104/3113\u001b[0m \u001b[32m━━━━━━━━━━━━━━━━━━━\u001b[0m\u001b[37m━\u001b[0m \u001b[1m0s\u001b[0m 4ms/step - accuracy: 0.8928 - loss: 0.9662\n",
            "Epoch 22: val_loss improved from 0.91653 to 0.90657, saving model to best_cnn_2d_vnemos.h5\n"
          ]
        },
        {
          "output_type": "stream",
          "name": "stderr",
          "text": [
            "WARNING:absl:You are saving your model as an HDF5 file via `model.save()` or `keras.saving.save_model(model)`. This file format is considered legacy. We recommend using instead the native Keras format, e.g. `model.save('my_model.keras')` or `keras.saving.save_model(model, 'my_model.keras')`. \n"
          ]
        },
        {
          "output_type": "stream",
          "name": "stdout",
          "text": [
            "\b\b\b\b\b\b\b\b\b\b\b\b\b\b\b\b\b\b\b\b\b\b\b\b\b\b\b\b\b\b\b\b\b\b\b\b\b\b\b\b\b\b\b\b\b\b\b\b\b\b\b\b\b\b\b\b\b\b\b\b\b\b\b\b\b\b\b\b\b\b\b\b\b\b\b\b\r\u001b[1m3113/3113\u001b[0m \u001b[32m━━━━━━━━━━━━━━━━━━━━\u001b[0m\u001b[37m\u001b[0m \u001b[1m14s\u001b[0m 4ms/step - accuracy: 0.8928 - loss: 0.9662 - val_accuracy: 0.9097 - val_loss: 0.9066 - learning_rate: 1.0000e-04\n",
            "Epoch 23/200\n",
            "\u001b[1m3110/3113\u001b[0m \u001b[32m━━━━━━━━━━━━━━━━━━━\u001b[0m\u001b[37m━\u001b[0m \u001b[1m0s\u001b[0m 4ms/step - accuracy: 0.8959 - loss: 0.9595\n",
            "Epoch 23: val_loss improved from 0.90657 to 0.90362, saving model to best_cnn_2d_vnemos.h5\n"
          ]
        },
        {
          "output_type": "stream",
          "name": "stderr",
          "text": [
            "WARNING:absl:You are saving your model as an HDF5 file via `model.save()` or `keras.saving.save_model(model)`. This file format is considered legacy. We recommend using instead the native Keras format, e.g. `model.save('my_model.keras')` or `keras.saving.save_model(model, 'my_model.keras')`. \n"
          ]
        },
        {
          "output_type": "stream",
          "name": "stdout",
          "text": [
            "\b\b\b\b\b\b\b\b\b\b\b\b\b\b\b\b\b\b\b\b\b\b\b\b\b\b\b\b\b\b\b\b\b\b\b\b\b\b\b\b\b\b\b\b\b\b\b\b\b\b\b\b\b\b\b\b\b\b\b\b\b\b\b\b\b\b\b\b\b\b\b\b\b\b\b\b\r\u001b[1m3113/3113\u001b[0m \u001b[32m━━━━━━━━━━━━━━━━━━━━\u001b[0m\u001b[37m\u001b[0m \u001b[1m14s\u001b[0m 4ms/step - accuracy: 0.8958 - loss: 0.9595 - val_accuracy: 0.9121 - val_loss: 0.9036 - learning_rate: 1.0000e-04\n",
            "Epoch 24/200\n",
            "\u001b[1m3102/3113\u001b[0m \u001b[32m━━━━━━━━━━━━━━━━━━━\u001b[0m\u001b[37m━\u001b[0m \u001b[1m0s\u001b[0m 4ms/step - accuracy: 0.8964 - loss: 0.9569\n",
            "Epoch 24: val_loss improved from 0.90362 to 0.89438, saving model to best_cnn_2d_vnemos.h5\n"
          ]
        },
        {
          "output_type": "stream",
          "name": "stderr",
          "text": [
            "WARNING:absl:You are saving your model as an HDF5 file via `model.save()` or `keras.saving.save_model(model)`. This file format is considered legacy. We recommend using instead the native Keras format, e.g. `model.save('my_model.keras')` or `keras.saving.save_model(model, 'my_model.keras')`. \n"
          ]
        },
        {
          "output_type": "stream",
          "name": "stdout",
          "text": [
            "\b\b\b\b\b\b\b\b\b\b\b\b\b\b\b\b\b\b\b\b\b\b\b\b\b\b\b\b\b\b\b\b\b\b\b\b\b\b\b\b\b\b\b\b\b\b\b\b\b\b\b\b\b\b\b\b\b\b\b\b\b\b\b\b\b\b\b\b\b\b\b\b\b\b\b\b\r\u001b[1m3113/3113\u001b[0m \u001b[32m━━━━━━━━━━━━━━━━━━━━\u001b[0m\u001b[37m\u001b[0m \u001b[1m14s\u001b[0m 5ms/step - accuracy: 0.8964 - loss: 0.9569 - val_accuracy: 0.9168 - val_loss: 0.8944 - learning_rate: 1.0000e-04\n",
            "Epoch 25/200\n",
            "\u001b[1m3104/3113\u001b[0m \u001b[32m━━━━━━━━━━━━━━━━━━━\u001b[0m\u001b[37m━\u001b[0m \u001b[1m0s\u001b[0m 4ms/step - accuracy: 0.8977 - loss: 0.9517\n",
            "Epoch 25: val_loss improved from 0.89438 to 0.89192, saving model to best_cnn_2d_vnemos.h5\n"
          ]
        },
        {
          "output_type": "stream",
          "name": "stderr",
          "text": [
            "WARNING:absl:You are saving your model as an HDF5 file via `model.save()` or `keras.saving.save_model(model)`. This file format is considered legacy. We recommend using instead the native Keras format, e.g. `model.save('my_model.keras')` or `keras.saving.save_model(model, 'my_model.keras')`. \n"
          ]
        },
        {
          "output_type": "stream",
          "name": "stdout",
          "text": [
            "\b\b\b\b\b\b\b\b\b\b\b\b\b\b\b\b\b\b\b\b\b\b\b\b\b\b\b\b\b\b\b\b\b\b\b\b\b\b\b\b\b\b\b\b\b\b\b\b\b\b\b\b\b\b\b\b\b\b\b\b\b\b\b\b\b\b\b\b\b\b\b\b\b\b\b\b\r\u001b[1m3113/3113\u001b[0m \u001b[32m━━━━━━━━━━━━━━━━━━━━\u001b[0m\u001b[37m\u001b[0m \u001b[1m14s\u001b[0m 4ms/step - accuracy: 0.8976 - loss: 0.9517 - val_accuracy: 0.9185 - val_loss: 0.8919 - learning_rate: 1.0000e-04\n",
            "Epoch 26/200\n",
            "\u001b[1m3109/3113\u001b[0m \u001b[32m━━━━━━━━━━━━━━━━━━━\u001b[0m\u001b[37m━\u001b[0m \u001b[1m0s\u001b[0m 4ms/step - accuracy: 0.9031 - loss: 0.9466\n",
            "Epoch 26: val_loss improved from 0.89192 to 0.89109, saving model to best_cnn_2d_vnemos.h5\n"
          ]
        },
        {
          "output_type": "stream",
          "name": "stderr",
          "text": [
            "WARNING:absl:You are saving your model as an HDF5 file via `model.save()` or `keras.saving.save_model(model)`. This file format is considered legacy. We recommend using instead the native Keras format, e.g. `model.save('my_model.keras')` or `keras.saving.save_model(model, 'my_model.keras')`. \n"
          ]
        },
        {
          "output_type": "stream",
          "name": "stdout",
          "text": [
            "\b\b\b\b\b\b\b\b\b\b\b\b\b\b\b\b\b\b\b\b\b\b\b\b\b\b\b\b\b\b\b\b\b\b\b\b\b\b\b\b\b\b\b\b\b\b\b\b\b\b\b\b\b\b\b\b\b\b\b\b\b\b\b\b\b\b\b\b\b\b\b\b\b\b\b\b\r\u001b[1m3113/3113\u001b[0m \u001b[32m━━━━━━━━━━━━━━━━━━━━\u001b[0m\u001b[37m\u001b[0m \u001b[1m14s\u001b[0m 4ms/step - accuracy: 0.9031 - loss: 0.9467 - val_accuracy: 0.9148 - val_loss: 0.8911 - learning_rate: 1.0000e-04\n",
            "Epoch 27/200\n",
            "\u001b[1m3103/3113\u001b[0m \u001b[32m━━━━━━━━━━━━━━━━━━━\u001b[0m\u001b[37m━\u001b[0m \u001b[1m0s\u001b[0m 4ms/step - accuracy: 0.9064 - loss: 0.9384\n",
            "Epoch 27: val_loss improved from 0.89109 to 0.88454, saving model to best_cnn_2d_vnemos.h5\n"
          ]
        },
        {
          "output_type": "stream",
          "name": "stderr",
          "text": [
            "WARNING:absl:You are saving your model as an HDF5 file via `model.save()` or `keras.saving.save_model(model)`. This file format is considered legacy. We recommend using instead the native Keras format, e.g. `model.save('my_model.keras')` or `keras.saving.save_model(model, 'my_model.keras')`. \n"
          ]
        },
        {
          "output_type": "stream",
          "name": "stdout",
          "text": [
            "\b\b\b\b\b\b\b\b\b\b\b\b\b\b\b\b\b\b\b\b\b\b\b\b\b\b\b\b\b\b\b\b\b\b\b\b\b\b\b\b\b\b\b\b\b\b\b\b\b\b\b\b\b\b\b\b\b\b\b\b\b\b\b\b\b\b\b\b\b\b\b\b\b\b\b\b\r\u001b[1m3113/3113\u001b[0m \u001b[32m━━━━━━━━━━━━━━━━━━━━\u001b[0m\u001b[37m\u001b[0m \u001b[1m14s\u001b[0m 5ms/step - accuracy: 0.9064 - loss: 0.9384 - val_accuracy: 0.9255 - val_loss: 0.8845 - learning_rate: 1.0000e-04\n",
            "Epoch 28/200\n",
            "\u001b[1m3108/3113\u001b[0m \u001b[32m━━━━━━━━━━━━━━━━━━━\u001b[0m\u001b[37m━\u001b[0m \u001b[1m0s\u001b[0m 4ms/step - accuracy: 0.9099 - loss: 0.9327\n",
            "Epoch 28: val_loss improved from 0.88454 to 0.87863, saving model to best_cnn_2d_vnemos.h5\n"
          ]
        },
        {
          "output_type": "stream",
          "name": "stderr",
          "text": [
            "WARNING:absl:You are saving your model as an HDF5 file via `model.save()` or `keras.saving.save_model(model)`. This file format is considered legacy. We recommend using instead the native Keras format, e.g. `model.save('my_model.keras')` or `keras.saving.save_model(model, 'my_model.keras')`. \n"
          ]
        },
        {
          "output_type": "stream",
          "name": "stdout",
          "text": [
            "\b\b\b\b\b\b\b\b\b\b\b\b\b\b\b\b\b\b\b\b\b\b\b\b\b\b\b\b\b\b\b\b\b\b\b\b\b\b\b\b\b\b\b\b\b\b\b\b\b\b\b\b\b\b\b\b\b\b\b\b\b\b\b\b\b\b\b\b\b\b\b\b\b\b\b\b\r\u001b[1m3113/3113\u001b[0m \u001b[32m━━━━━━━━━━━━━━━━━━━━\u001b[0m\u001b[37m\u001b[0m \u001b[1m14s\u001b[0m 4ms/step - accuracy: 0.9099 - loss: 0.9327 - val_accuracy: 0.9230 - val_loss: 0.8786 - learning_rate: 1.0000e-04\n",
            "Epoch 29/200\n",
            "\u001b[1m3112/3113\u001b[0m \u001b[32m━━━━━━━━━━━━━━━━━━━\u001b[0m\u001b[37m━\u001b[0m \u001b[1m0s\u001b[0m 4ms/step - accuracy: 0.9093 - loss: 0.9311\n",
            "Epoch 29: val_loss did not improve from 0.87863\n",
            "\u001b[1m3113/3113\u001b[0m \u001b[32m━━━━━━━━━━━━━━━━━━━━\u001b[0m\u001b[37m\u001b[0m \u001b[1m14s\u001b[0m 4ms/step - accuracy: 0.9093 - loss: 0.9311 - val_accuracy: 0.9190 - val_loss: 0.8829 - learning_rate: 1.0000e-04\n",
            "Epoch 30/200\n",
            "\u001b[1m3110/3113\u001b[0m \u001b[32m━━━━━━━━━━━━━━━━━━━\u001b[0m\u001b[37m━\u001b[0m \u001b[1m0s\u001b[0m 4ms/step - accuracy: 0.9114 - loss: 0.9280\n",
            "Epoch 30: val_loss did not improve from 0.87863\n",
            "\u001b[1m3113/3113\u001b[0m \u001b[32m━━━━━━━━━━━━━━━━━━━━\u001b[0m\u001b[37m\u001b[0m \u001b[1m14s\u001b[0m 4ms/step - accuracy: 0.9114 - loss: 0.9280 - val_accuracy: 0.9169 - val_loss: 0.8901 - learning_rate: 1.0000e-04\n",
            "Epoch 31/200\n",
            "\u001b[1m3104/3113\u001b[0m \u001b[32m━━━━━━━━━━━━━━━━━━━\u001b[0m\u001b[37m━\u001b[0m \u001b[1m0s\u001b[0m 4ms/step - accuracy: 0.9146 - loss: 0.9210\n",
            "Epoch 31: val_loss improved from 0.87863 to 0.87764, saving model to best_cnn_2d_vnemos.h5\n"
          ]
        },
        {
          "output_type": "stream",
          "name": "stderr",
          "text": [
            "WARNING:absl:You are saving your model as an HDF5 file via `model.save()` or `keras.saving.save_model(model)`. This file format is considered legacy. We recommend using instead the native Keras format, e.g. `model.save('my_model.keras')` or `keras.saving.save_model(model, 'my_model.keras')`. \n"
          ]
        },
        {
          "output_type": "stream",
          "name": "stdout",
          "text": [
            "\b\b\b\b\b\b\b\b\b\b\b\b\b\b\b\b\b\b\b\b\b\b\b\b\b\b\b\b\b\b\b\b\b\b\b\b\b\b\b\b\b\b\b\b\b\b\b\b\b\b\b\b\b\b\b\b\b\b\b\b\b\b\b\b\b\b\b\b\b\b\b\b\b\b\b\b\r\u001b[1m3113/3113\u001b[0m \u001b[32m━━━━━━━━━━━━━━━━━━━━\u001b[0m\u001b[37m\u001b[0m \u001b[1m14s\u001b[0m 4ms/step - accuracy: 0.9146 - loss: 0.9210 - val_accuracy: 0.9190 - val_loss: 0.8776 - learning_rate: 1.0000e-04\n",
            "Epoch 32/200\n",
            "\u001b[1m3108/3113\u001b[0m \u001b[32m━━━━━━━━━━━━━━━━━━━\u001b[0m\u001b[37m━\u001b[0m \u001b[1m0s\u001b[0m 4ms/step - accuracy: 0.9160 - loss: 0.9184\n",
            "Epoch 32: val_loss improved from 0.87764 to 0.87571, saving model to best_cnn_2d_vnemos.h5\n"
          ]
        },
        {
          "output_type": "stream",
          "name": "stderr",
          "text": [
            "WARNING:absl:You are saving your model as an HDF5 file via `model.save()` or `keras.saving.save_model(model)`. This file format is considered legacy. We recommend using instead the native Keras format, e.g. `model.save('my_model.keras')` or `keras.saving.save_model(model, 'my_model.keras')`. \n"
          ]
        },
        {
          "output_type": "stream",
          "name": "stdout",
          "text": [
            "\b\b\b\b\b\b\b\b\b\b\b\b\b\b\b\b\b\b\b\b\b\b\b\b\b\b\b\b\b\b\b\b\b\b\b\b\b\b\b\b\b\b\b\b\b\b\b\b\b\b\b\b\b\b\b\b\b\b\b\b\b\b\b\b\b\b\b\b\b\b\b\b\b\b\b\b\r\u001b[1m3113/3113\u001b[0m \u001b[32m━━━━━━━━━━━━━━━━━━━━\u001b[0m\u001b[37m\u001b[0m \u001b[1m14s\u001b[0m 4ms/step - accuracy: 0.9160 - loss: 0.9184 - val_accuracy: 0.9226 - val_loss: 0.8757 - learning_rate: 1.0000e-04\n",
            "Epoch 33/200\n",
            "\u001b[1m3103/3113\u001b[0m \u001b[32m━━━━━━━━━━━━━━━━━━━\u001b[0m\u001b[37m━\u001b[0m \u001b[1m0s\u001b[0m 4ms/step - accuracy: 0.9134 - loss: 0.9181\n",
            "Epoch 33: val_loss improved from 0.87571 to 0.87078, saving model to best_cnn_2d_vnemos.h5\n"
          ]
        },
        {
          "output_type": "stream",
          "name": "stderr",
          "text": [
            "WARNING:absl:You are saving your model as an HDF5 file via `model.save()` or `keras.saving.save_model(model)`. This file format is considered legacy. We recommend using instead the native Keras format, e.g. `model.save('my_model.keras')` or `keras.saving.save_model(model, 'my_model.keras')`. \n"
          ]
        },
        {
          "output_type": "stream",
          "name": "stdout",
          "text": [
            "\b\b\b\b\b\b\b\b\b\b\b\b\b\b\b\b\b\b\b\b\b\b\b\b\b\b\b\b\b\b\b\b\b\b\b\b\b\b\b\b\b\b\b\b\b\b\b\b\b\b\b\b\b\b\b\b\b\b\b\b\b\b\b\b\b\b\b\b\b\b\b\b\b\b\b\b\r\u001b[1m3113/3113\u001b[0m \u001b[32m━━━━━━━━━━━━━━━━━━━━\u001b[0m\u001b[37m\u001b[0m \u001b[1m14s\u001b[0m 5ms/step - accuracy: 0.9134 - loss: 0.9181 - val_accuracy: 0.9277 - val_loss: 0.8708 - learning_rate: 1.0000e-04\n",
            "Epoch 34/200\n",
            "\u001b[1m3101/3113\u001b[0m \u001b[32m━━━━━━━━━━━━━━━━━━━\u001b[0m\u001b[37m━\u001b[0m \u001b[1m0s\u001b[0m 4ms/step - accuracy: 0.9181 - loss: 0.9143\n",
            "Epoch 34: val_loss improved from 0.87078 to 0.86446, saving model to best_cnn_2d_vnemos.h5\n"
          ]
        },
        {
          "output_type": "stream",
          "name": "stderr",
          "text": [
            "WARNING:absl:You are saving your model as an HDF5 file via `model.save()` or `keras.saving.save_model(model)`. This file format is considered legacy. We recommend using instead the native Keras format, e.g. `model.save('my_model.keras')` or `keras.saving.save_model(model, 'my_model.keras')`. \n"
          ]
        },
        {
          "output_type": "stream",
          "name": "stdout",
          "text": [
            "\b\b\b\b\b\b\b\b\b\b\b\b\b\b\b\b\b\b\b\b\b\b\b\b\b\b\b\b\b\b\b\b\b\b\b\b\b\b\b\b\b\b\b\b\b\b\b\b\b\b\b\b\b\b\b\b\b\b\b\b\b\b\b\b\b\b\b\b\b\b\b\b\b\b\b\b\r\u001b[1m3113/3113\u001b[0m \u001b[32m━━━━━━━━━━━━━━━━━━━━\u001b[0m\u001b[37m\u001b[0m \u001b[1m14s\u001b[0m 5ms/step - accuracy: 0.9181 - loss: 0.9143 - val_accuracy: 0.9284 - val_loss: 0.8645 - learning_rate: 1.0000e-04\n",
            "Epoch 35/200\n",
            "\u001b[1m3103/3113\u001b[0m \u001b[32m━━━━━━━━━━━━━━━━━━━\u001b[0m\u001b[37m━\u001b[0m \u001b[1m0s\u001b[0m 4ms/step - accuracy: 0.9197 - loss: 0.9072\n",
            "Epoch 35: val_loss did not improve from 0.86446\n",
            "\u001b[1m3113/3113\u001b[0m \u001b[32m━━━━━━━━━━━━━━━━━━━━\u001b[0m\u001b[37m\u001b[0m \u001b[1m14s\u001b[0m 4ms/step - accuracy: 0.9197 - loss: 0.9072 - val_accuracy: 0.9179 - val_loss: 0.8843 - learning_rate: 1.0000e-04\n",
            "Epoch 36/200\n",
            "\u001b[1m3102/3113\u001b[0m \u001b[32m━━━━━━━━━━━━━━━━━━━\u001b[0m\u001b[37m━\u001b[0m \u001b[1m0s\u001b[0m 4ms/step - accuracy: 0.9182 - loss: 0.9104\n",
            "Epoch 36: val_loss did not improve from 0.86446\n",
            "\u001b[1m3113/3113\u001b[0m \u001b[32m━━━━━━━━━━━━━━━━━━━━\u001b[0m\u001b[37m\u001b[0m \u001b[1m14s\u001b[0m 4ms/step - accuracy: 0.9182 - loss: 0.9104 - val_accuracy: 0.9255 - val_loss: 0.8709 - learning_rate: 1.0000e-04\n",
            "Epoch 37/200\n",
            "\u001b[1m3111/3113\u001b[0m \u001b[32m━━━━━━━━━━━━━━━━━━━\u001b[0m\u001b[37m━\u001b[0m \u001b[1m0s\u001b[0m 4ms/step - accuracy: 0.9242 - loss: 0.9008\n",
            "Epoch 37: val_loss did not improve from 0.86446\n",
            "\u001b[1m3113/3113\u001b[0m \u001b[32m━━━━━━━━━━━━━━━━━━━━\u001b[0m\u001b[37m\u001b[0m \u001b[1m14s\u001b[0m 4ms/step - accuracy: 0.9242 - loss: 0.9009 - val_accuracy: 0.9159 - val_loss: 0.8800 - learning_rate: 1.0000e-04\n",
            "Epoch 38/200\n",
            "\u001b[1m3105/3113\u001b[0m \u001b[32m━━━━━━━━━━━━━━━━━━━\u001b[0m\u001b[37m━\u001b[0m \u001b[1m0s\u001b[0m 4ms/step - accuracy: 0.9220 - loss: 0.9021\n",
            "Epoch 38: val_loss did not improve from 0.86446\n",
            "\u001b[1m3113/3113\u001b[0m \u001b[32m━━━━━━━━━━━━━━━━━━━━\u001b[0m\u001b[37m\u001b[0m \u001b[1m14s\u001b[0m 5ms/step - accuracy: 0.9220 - loss: 0.9022 - val_accuracy: 0.9249 - val_loss: 0.8693 - learning_rate: 1.0000e-04\n",
            "Epoch 39/200\n",
            "\u001b[1m3113/3113\u001b[0m \u001b[32m━━━━━━━━━━━━━━━━━━━━\u001b[0m\u001b[37m\u001b[0m \u001b[1m0s\u001b[0m 4ms/step - accuracy: 0.9213 - loss: 0.9023\n",
            "Epoch 39: val_loss improved from 0.86446 to 0.85915, saving model to best_cnn_2d_vnemos.h5\n"
          ]
        },
        {
          "output_type": "stream",
          "name": "stderr",
          "text": [
            "WARNING:absl:You are saving your model as an HDF5 file via `model.save()` or `keras.saving.save_model(model)`. This file format is considered legacy. We recommend using instead the native Keras format, e.g. `model.save('my_model.keras')` or `keras.saving.save_model(model, 'my_model.keras')`. \n"
          ]
        },
        {
          "output_type": "stream",
          "name": "stdout",
          "text": [
            "\b\b\b\b\b\b\b\b\b\b\b\b\b\b\b\b\b\b\b\b\b\b\b\b\b\b\b\b\b\b\b\b\b\b\b\b\b\b\b\b\b\b\b\b\b\b\b\b\b\b\b\b\b\b\b\b\b\b\b\b\b\b\b\b\b\b\b\b\b\b\b\b\b\b\b\b\r\u001b[1m3113/3113\u001b[0m \u001b[32m━━━━━━━━━━━━━━━━━━━━\u001b[0m\u001b[37m\u001b[0m \u001b[1m14s\u001b[0m 5ms/step - accuracy: 0.9213 - loss: 0.9023 - val_accuracy: 0.9312 - val_loss: 0.8591 - learning_rate: 1.0000e-04\n",
            "Epoch 40/200\n",
            "\u001b[1m3103/3113\u001b[0m \u001b[32m━━━━━━━━━━━━━━━━━━━\u001b[0m\u001b[37m━\u001b[0m \u001b[1m0s\u001b[0m 4ms/step - accuracy: 0.9241 - loss: 0.9001\n",
            "Epoch 40: val_loss did not improve from 0.85915\n",
            "\u001b[1m3113/3113\u001b[0m \u001b[32m━━━━━━━━━━━━━━━━━━━━\u001b[0m\u001b[37m\u001b[0m \u001b[1m14s\u001b[0m 4ms/step - accuracy: 0.9241 - loss: 0.9002 - val_accuracy: 0.9243 - val_loss: 0.8677 - learning_rate: 1.0000e-04\n",
            "Epoch 41/200\n",
            "\u001b[1m3109/3113\u001b[0m \u001b[32m━━━━━━━━━━━━━━━━━━━\u001b[0m\u001b[37m━\u001b[0m \u001b[1m0s\u001b[0m 4ms/step - accuracy: 0.9234 - loss: 0.8989\n",
            "Epoch 41: val_loss improved from 0.85915 to 0.85529, saving model to best_cnn_2d_vnemos.h5\n"
          ]
        },
        {
          "output_type": "stream",
          "name": "stderr",
          "text": [
            "WARNING:absl:You are saving your model as an HDF5 file via `model.save()` or `keras.saving.save_model(model)`. This file format is considered legacy. We recommend using instead the native Keras format, e.g. `model.save('my_model.keras')` or `keras.saving.save_model(model, 'my_model.keras')`. \n"
          ]
        },
        {
          "output_type": "stream",
          "name": "stdout",
          "text": [
            "\b\b\b\b\b\b\b\b\b\b\b\b\b\b\b\b\b\b\b\b\b\b\b\b\b\b\b\b\b\b\b\b\b\b\b\b\b\b\b\b\b\b\b\b\b\b\b\b\b\b\b\b\b\b\b\b\b\b\b\b\b\b\b\b\b\b\b\b\b\b\b\b\b\b\b\b\r\u001b[1m3113/3113\u001b[0m \u001b[32m━━━━━━━━━━━━━━━━━━━━\u001b[0m\u001b[37m\u001b[0m \u001b[1m14s\u001b[0m 5ms/step - accuracy: 0.9234 - loss: 0.8989 - val_accuracy: 0.9301 - val_loss: 0.8553 - learning_rate: 1.0000e-04\n",
            "Epoch 42/200\n",
            "\u001b[1m3112/3113\u001b[0m \u001b[32m━━━━━━━━━━━━━━━━━━━\u001b[0m\u001b[37m━\u001b[0m \u001b[1m0s\u001b[0m 4ms/step - accuracy: 0.9246 - loss: 0.8945\n",
            "Epoch 42: val_loss did not improve from 0.85529\n",
            "\u001b[1m3113/3113\u001b[0m \u001b[32m━━━━━━━━━━━━━━━━━━━━\u001b[0m\u001b[37m\u001b[0m \u001b[1m14s\u001b[0m 4ms/step - accuracy: 0.9246 - loss: 0.8945 - val_accuracy: 0.9249 - val_loss: 0.8605 - learning_rate: 1.0000e-04\n",
            "Epoch 43/200\n",
            "\u001b[1m3106/3113\u001b[0m \u001b[32m━━━━━━━━━━━━━━━━━━━\u001b[0m\u001b[37m━\u001b[0m \u001b[1m0s\u001b[0m 4ms/step - accuracy: 0.9239 - loss: 0.8949\n",
            "Epoch 43: val_loss improved from 0.85529 to 0.85431, saving model to best_cnn_2d_vnemos.h5\n"
          ]
        },
        {
          "output_type": "stream",
          "name": "stderr",
          "text": [
            "WARNING:absl:You are saving your model as an HDF5 file via `model.save()` or `keras.saving.save_model(model)`. This file format is considered legacy. We recommend using instead the native Keras format, e.g. `model.save('my_model.keras')` or `keras.saving.save_model(model, 'my_model.keras')`. \n"
          ]
        },
        {
          "output_type": "stream",
          "name": "stdout",
          "text": [
            "\b\b\b\b\b\b\b\b\b\b\b\b\b\b\b\b\b\b\b\b\b\b\b\b\b\b\b\b\b\b\b\b\b\b\b\b\b\b\b\b\b\b\b\b\b\b\b\b\b\b\b\b\b\b\b\b\b\b\b\b\b\b\b\b\b\b\b\b\b\b\b\b\b\b\b\b\r\u001b[1m3113/3113\u001b[0m \u001b[32m━━━━━━━━━━━━━━━━━━━━\u001b[0m\u001b[37m\u001b[0m \u001b[1m14s\u001b[0m 4ms/step - accuracy: 0.9239 - loss: 0.8949 - val_accuracy: 0.9297 - val_loss: 0.8543 - learning_rate: 1.0000e-04\n",
            "Epoch 44/200\n",
            "\u001b[1m3106/3113\u001b[0m \u001b[32m━━━━━━━━━━━━━━━━━━━\u001b[0m\u001b[37m━\u001b[0m \u001b[1m0s\u001b[0m 4ms/step - accuracy: 0.9261 - loss: 0.8894\n",
            "Epoch 44: val_loss improved from 0.85431 to 0.85287, saving model to best_cnn_2d_vnemos.h5\n"
          ]
        },
        {
          "output_type": "stream",
          "name": "stderr",
          "text": [
            "WARNING:absl:You are saving your model as an HDF5 file via `model.save()` or `keras.saving.save_model(model)`. This file format is considered legacy. We recommend using instead the native Keras format, e.g. `model.save('my_model.keras')` or `keras.saving.save_model(model, 'my_model.keras')`. \n"
          ]
        },
        {
          "output_type": "stream",
          "name": "stdout",
          "text": [
            "\b\b\b\b\b\b\b\b\b\b\b\b\b\b\b\b\b\b\b\b\b\b\b\b\b\b\b\b\b\b\b\b\b\b\b\b\b\b\b\b\b\b\b\b\b\b\b\b\b\b\b\b\b\b\b\b\b\b\b\b\b\b\b\b\b\b\b\b\b\b\b\b\b\b\b\b\r\u001b[1m3113/3113\u001b[0m \u001b[32m━━━━━━━━━━━━━━━━━━━━\u001b[0m\u001b[37m\u001b[0m \u001b[1m14s\u001b[0m 5ms/step - accuracy: 0.9261 - loss: 0.8894 - val_accuracy: 0.9319 - val_loss: 0.8529 - learning_rate: 1.0000e-04\n",
            "Epoch 45/200\n",
            "\u001b[1m3110/3113\u001b[0m \u001b[32m━━━━━━━━━━━━━━━━━━━\u001b[0m\u001b[37m━\u001b[0m \u001b[1m0s\u001b[0m 4ms/step - accuracy: 0.9255 - loss: 0.8888\n",
            "Epoch 45: val_loss did not improve from 0.85287\n",
            "\u001b[1m3113/3113\u001b[0m \u001b[32m━━━━━━━━━━━━━━━━━━━━\u001b[0m\u001b[37m\u001b[0m \u001b[1m14s\u001b[0m 4ms/step - accuracy: 0.9255 - loss: 0.8888 - val_accuracy: 0.9280 - val_loss: 0.8567 - learning_rate: 1.0000e-04\n",
            "Epoch 46/200\n",
            "\u001b[1m3105/3113\u001b[0m \u001b[32m━━━━━━━━━━━━━━━━━━━\u001b[0m\u001b[37m━\u001b[0m \u001b[1m0s\u001b[0m 4ms/step - accuracy: 0.9271 - loss: 0.8878\n",
            "Epoch 46: val_loss improved from 0.85287 to 0.84918, saving model to best_cnn_2d_vnemos.h5\n"
          ]
        },
        {
          "output_type": "stream",
          "name": "stderr",
          "text": [
            "WARNING:absl:You are saving your model as an HDF5 file via `model.save()` or `keras.saving.save_model(model)`. This file format is considered legacy. We recommend using instead the native Keras format, e.g. `model.save('my_model.keras')` or `keras.saving.save_model(model, 'my_model.keras')`. \n"
          ]
        },
        {
          "output_type": "stream",
          "name": "stdout",
          "text": [
            "\b\b\b\b\b\b\b\b\b\b\b\b\b\b\b\b\b\b\b\b\b\b\b\b\b\b\b\b\b\b\b\b\b\b\b\b\b\b\b\b\b\b\b\b\b\b\b\b\b\b\b\b\b\b\b\b\b\b\b\b\b\b\b\b\b\b\b\b\b\b\b\b\b\b\b\b\r\u001b[1m3113/3113\u001b[0m \u001b[32m━━━━━━━━━━━━━━━━━━━━\u001b[0m\u001b[37m\u001b[0m \u001b[1m14s\u001b[0m 4ms/step - accuracy: 0.9270 - loss: 0.8878 - val_accuracy: 0.9327 - val_loss: 0.8492 - learning_rate: 1.0000e-04\n",
            "Epoch 47/200\n",
            "\u001b[1m3109/3113\u001b[0m \u001b[32m━━━━━━━━━━━━━━━━━━━\u001b[0m\u001b[37m━\u001b[0m \u001b[1m0s\u001b[0m 4ms/step - accuracy: 0.9281 - loss: 0.8873\n",
            "Epoch 47: val_loss did not improve from 0.84918\n",
            "\u001b[1m3113/3113\u001b[0m \u001b[32m━━━━━━━━━━━━━━━━━━━━\u001b[0m\u001b[37m\u001b[0m \u001b[1m14s\u001b[0m 5ms/step - accuracy: 0.9280 - loss: 0.8873 - val_accuracy: 0.9270 - val_loss: 0.8552 - learning_rate: 1.0000e-04\n",
            "Epoch 48/200\n",
            "\u001b[1m3107/3113\u001b[0m \u001b[32m━━━━━━━━━━━━━━━━━━━\u001b[0m\u001b[37m━\u001b[0m \u001b[1m0s\u001b[0m 4ms/step - accuracy: 0.9302 - loss: 0.8815\n",
            "Epoch 48: val_loss did not improve from 0.84918\n",
            "\u001b[1m3113/3113\u001b[0m \u001b[32m━━━━━━━━━━━━━━━━━━━━\u001b[0m\u001b[37m\u001b[0m \u001b[1m14s\u001b[0m 4ms/step - accuracy: 0.9301 - loss: 0.8815 - val_accuracy: 0.9228 - val_loss: 0.8631 - learning_rate: 1.0000e-04\n",
            "Epoch 49/200\n",
            "\u001b[1m3111/3113\u001b[0m \u001b[32m━━━━━━━━━━━━━━━━━━━\u001b[0m\u001b[37m━\u001b[0m \u001b[1m0s\u001b[0m 4ms/step - accuracy: 0.9279 - loss: 0.8856\n",
            "Epoch 49: val_loss improved from 0.84918 to 0.84288, saving model to best_cnn_2d_vnemos.h5\n"
          ]
        },
        {
          "output_type": "stream",
          "name": "stderr",
          "text": [
            "WARNING:absl:You are saving your model as an HDF5 file via `model.save()` or `keras.saving.save_model(model)`. This file format is considered legacy. We recommend using instead the native Keras format, e.g. `model.save('my_model.keras')` or `keras.saving.save_model(model, 'my_model.keras')`. \n"
          ]
        },
        {
          "output_type": "stream",
          "name": "stdout",
          "text": [
            "\b\b\b\b\b\b\b\b\b\b\b\b\b\b\b\b\b\b\b\b\b\b\b\b\b\b\b\b\b\b\b\b\b\b\b\b\b\b\b\b\b\b\b\b\b\b\b\b\b\b\b\b\b\b\b\b\b\b\b\b\b\b\b\b\b\b\b\b\b\b\b\b\b\b\b\b\r\u001b[1m3113/3113\u001b[0m \u001b[32m━━━━━━━━━━━━━━━━━━━━\u001b[0m\u001b[37m\u001b[0m \u001b[1m14s\u001b[0m 4ms/step - accuracy: 0.9279 - loss: 0.8856 - val_accuracy: 0.9347 - val_loss: 0.8429 - learning_rate: 1.0000e-04\n",
            "Epoch 50/200\n",
            "\u001b[1m3103/3113\u001b[0m \u001b[32m━━━━━━━━━━━━━━━━━━━\u001b[0m\u001b[37m━\u001b[0m \u001b[1m0s\u001b[0m 4ms/step - accuracy: 0.9270 - loss: 0.8866\n",
            "Epoch 50: val_loss improved from 0.84288 to 0.83995, saving model to best_cnn_2d_vnemos.h5\n"
          ]
        },
        {
          "output_type": "stream",
          "name": "stderr",
          "text": [
            "WARNING:absl:You are saving your model as an HDF5 file via `model.save()` or `keras.saving.save_model(model)`. This file format is considered legacy. We recommend using instead the native Keras format, e.g. `model.save('my_model.keras')` or `keras.saving.save_model(model, 'my_model.keras')`. \n"
          ]
        },
        {
          "output_type": "stream",
          "name": "stdout",
          "text": [
            "\b\b\b\b\b\b\b\b\b\b\b\b\b\b\b\b\b\b\b\b\b\b\b\b\b\b\b\b\b\b\b\b\b\b\b\b\b\b\b\b\b\b\b\b\b\b\b\b\b\b\b\b\b\b\b\b\b\b\b\b\b\b\b\b\b\b\b\b\b\b\b\b\b\b\b\b\r\u001b[1m3113/3113\u001b[0m \u001b[32m━━━━━━━━━━━━━━━━━━━━\u001b[0m\u001b[37m\u001b[0m \u001b[1m14s\u001b[0m 4ms/step - accuracy: 0.9270 - loss: 0.8866 - val_accuracy: 0.9339 - val_loss: 0.8400 - learning_rate: 1.0000e-04\n",
            "Epoch 51/200\n",
            "\u001b[1m3108/3113\u001b[0m \u001b[32m━━━━━━━━━━━━━━━━━━━\u001b[0m\u001b[37m━\u001b[0m \u001b[1m0s\u001b[0m 4ms/step - accuracy: 0.9294 - loss: 0.8798\n",
            "Epoch 51: val_loss improved from 0.83995 to 0.83686, saving model to best_cnn_2d_vnemos.h5\n"
          ]
        },
        {
          "output_type": "stream",
          "name": "stderr",
          "text": [
            "WARNING:absl:You are saving your model as an HDF5 file via `model.save()` or `keras.saving.save_model(model)`. This file format is considered legacy. We recommend using instead the native Keras format, e.g. `model.save('my_model.keras')` or `keras.saving.save_model(model, 'my_model.keras')`. \n"
          ]
        },
        {
          "output_type": "stream",
          "name": "stdout",
          "text": [
            "\b\b\b\b\b\b\b\b\b\b\b\b\b\b\b\b\b\b\b\b\b\b\b\b\b\b\b\b\b\b\b\b\b\b\b\b\b\b\b\b\b\b\b\b\b\b\b\b\b\b\b\b\b\b\b\b\b\b\b\b\b\b\b\b\b\b\b\b\b\b\b\b\b\b\b\b\r\u001b[1m3113/3113\u001b[0m \u001b[32m━━━━━━━━━━━━━━━━━━━━\u001b[0m\u001b[37m\u001b[0m \u001b[1m14s\u001b[0m 5ms/step - accuracy: 0.9293 - loss: 0.8798 - val_accuracy: 0.9387 - val_loss: 0.8369 - learning_rate: 1.0000e-04\n",
            "Epoch 52/200\n",
            "\u001b[1m3109/3113\u001b[0m \u001b[32m━━━━━━━━━━━━━━━━━━━\u001b[0m\u001b[37m━\u001b[0m \u001b[1m0s\u001b[0m 4ms/step - accuracy: 0.9279 - loss: 0.8827\n",
            "Epoch 52: val_loss did not improve from 0.83686\n",
            "\u001b[1m3113/3113\u001b[0m \u001b[32m━━━━━━━━━━━━━━━━━━━━\u001b[0m\u001b[37m\u001b[0m \u001b[1m14s\u001b[0m 4ms/step - accuracy: 0.9279 - loss: 0.8827 - val_accuracy: 0.9302 - val_loss: 0.8517 - learning_rate: 1.0000e-04\n",
            "Epoch 53/200\n",
            "\u001b[1m3107/3113\u001b[0m \u001b[32m━━━━━━━━━━━━━━━━━━━\u001b[0m\u001b[37m━\u001b[0m \u001b[1m0s\u001b[0m 4ms/step - accuracy: 0.9293 - loss: 0.8776\n",
            "Epoch 53: val_loss did not improve from 0.83686\n",
            "\u001b[1m3113/3113\u001b[0m \u001b[32m━━━━━━━━━━━━━━━━━━━━\u001b[0m\u001b[37m\u001b[0m \u001b[1m14s\u001b[0m 4ms/step - accuracy: 0.9293 - loss: 0.8776 - val_accuracy: 0.9312 - val_loss: 0.8456 - learning_rate: 1.0000e-04\n",
            "Epoch 54/200\n",
            "\u001b[1m3110/3113\u001b[0m \u001b[32m━━━━━━━━━━━━━━━━━━━\u001b[0m\u001b[37m━\u001b[0m \u001b[1m0s\u001b[0m 4ms/step - accuracy: 0.9294 - loss: 0.8778\n",
            "Epoch 54: val_loss did not improve from 0.83686\n",
            "\u001b[1m3113/3113\u001b[0m \u001b[32m━━━━━━━━━━━━━━━━━━━━\u001b[0m\u001b[37m\u001b[0m \u001b[1m14s\u001b[0m 4ms/step - accuracy: 0.9294 - loss: 0.8778 - val_accuracy: 0.9326 - val_loss: 0.8414 - learning_rate: 1.0000e-04\n",
            "Epoch 55/200\n",
            "\u001b[1m3108/3113\u001b[0m \u001b[32m━━━━━━━━━━━━━━━━━━━\u001b[0m\u001b[37m━\u001b[0m \u001b[1m0s\u001b[0m 4ms/step - accuracy: 0.9312 - loss: 0.8772\n",
            "Epoch 55: val_loss did not improve from 0.83686\n",
            "\u001b[1m3113/3113\u001b[0m \u001b[32m━━━━━━━━━━━━━━━━━━━━\u001b[0m\u001b[37m\u001b[0m \u001b[1m14s\u001b[0m 4ms/step - accuracy: 0.9312 - loss: 0.8772 - val_accuracy: 0.9330 - val_loss: 0.8443 - learning_rate: 1.0000e-04\n",
            "Epoch 56/200\n",
            "\u001b[1m3105/3113\u001b[0m \u001b[32m━━━━━━━━━━━━━━━━━━━\u001b[0m\u001b[37m━\u001b[0m \u001b[1m0s\u001b[0m 4ms/step - accuracy: 0.9320 - loss: 0.8735\n",
            "Epoch 56: val_loss did not improve from 0.83686\n",
            "\u001b[1m3113/3113\u001b[0m \u001b[32m━━━━━━━━━━━━━━━━━━━━\u001b[0m\u001b[37m\u001b[0m \u001b[1m14s\u001b[0m 5ms/step - accuracy: 0.9320 - loss: 0.8736 - val_accuracy: 0.9329 - val_loss: 0.8398 - learning_rate: 1.0000e-04\n",
            "Epoch 57/200\n",
            "\u001b[1m3106/3113\u001b[0m \u001b[32m━━━━━━━━━━━━━━━━━━━\u001b[0m\u001b[37m━\u001b[0m \u001b[1m0s\u001b[0m 4ms/step - accuracy: 0.9332 - loss: 0.8719\n",
            "Epoch 57: val_loss did not improve from 0.83686\n",
            "\u001b[1m3113/3113\u001b[0m \u001b[32m━━━━━━━━━━━━━━━━━━━━\u001b[0m\u001b[37m\u001b[0m \u001b[1m14s\u001b[0m 4ms/step - accuracy: 0.9332 - loss: 0.8719 - val_accuracy: 0.9356 - val_loss: 0.8385 - learning_rate: 1.0000e-04\n",
            "Epoch 58/200\n",
            "\u001b[1m3113/3113\u001b[0m \u001b[32m━━━━━━━━━━━━━━━━━━━━\u001b[0m\u001b[37m\u001b[0m \u001b[1m0s\u001b[0m 4ms/step - accuracy: 0.9310 - loss: 0.8738\n",
            "Epoch 58: val_loss improved from 0.83686 to 0.83569, saving model to best_cnn_2d_vnemos.h5\n"
          ]
        },
        {
          "output_type": "stream",
          "name": "stderr",
          "text": [
            "WARNING:absl:You are saving your model as an HDF5 file via `model.save()` or `keras.saving.save_model(model)`. This file format is considered legacy. We recommend using instead the native Keras format, e.g. `model.save('my_model.keras')` or `keras.saving.save_model(model, 'my_model.keras')`. \n"
          ]
        },
        {
          "output_type": "stream",
          "name": "stdout",
          "text": [
            "\b\b\b\b\b\b\b\b\b\b\b\b\b\b\b\b\b\b\b\b\b\b\b\b\b\b\b\b\b\b\b\b\b\b\b\b\b\b\b\b\b\b\b\b\b\b\b\b\b\b\b\b\b\b\b\b\b\b\b\b\b\b\b\b\b\b\b\b\b\b\b\b\b\b\b\b\r\u001b[1m3113/3113\u001b[0m \u001b[32m━━━━━━━━━━━━━━━━━━━━\u001b[0m\u001b[37m\u001b[0m \u001b[1m14s\u001b[0m 5ms/step - accuracy: 0.9310 - loss: 0.8738 - val_accuracy: 0.9361 - val_loss: 0.8357 - learning_rate: 1.0000e-04\n",
            "Epoch 59/200\n",
            "\u001b[1m3107/3113\u001b[0m \u001b[32m━━━━━━━━━━━━━━━━━━━\u001b[0m\u001b[37m━\u001b[0m \u001b[1m0s\u001b[0m 4ms/step - accuracy: 0.9332 - loss: 0.8700\n",
            "Epoch 59: val_loss improved from 0.83569 to 0.82991, saving model to best_cnn_2d_vnemos.h5\n"
          ]
        },
        {
          "output_type": "stream",
          "name": "stderr",
          "text": [
            "WARNING:absl:You are saving your model as an HDF5 file via `model.save()` or `keras.saving.save_model(model)`. This file format is considered legacy. We recommend using instead the native Keras format, e.g. `model.save('my_model.keras')` or `keras.saving.save_model(model, 'my_model.keras')`. \n"
          ]
        },
        {
          "output_type": "stream",
          "name": "stdout",
          "text": [
            "\b\b\b\b\b\b\b\b\b\b\b\b\b\b\b\b\b\b\b\b\b\b\b\b\b\b\b\b\b\b\b\b\b\b\b\b\b\b\b\b\b\b\b\b\b\b\b\b\b\b\b\b\b\b\b\b\b\b\b\b\b\b\b\b\b\b\b\b\b\b\b\b\b\b\b\b\r\u001b[1m3113/3113\u001b[0m \u001b[32m━━━━━━━━━━━━━━━━━━━━\u001b[0m\u001b[37m\u001b[0m \u001b[1m14s\u001b[0m 5ms/step - accuracy: 0.9331 - loss: 0.8701 - val_accuracy: 0.9415 - val_loss: 0.8299 - learning_rate: 1.0000e-04\n",
            "Epoch 60/200\n",
            "\u001b[1m3110/3113\u001b[0m \u001b[32m━━━━━━━━━━━━━━━━━━━\u001b[0m\u001b[37m━\u001b[0m \u001b[1m0s\u001b[0m 4ms/step - accuracy: 0.9327 - loss: 0.8723\n",
            "Epoch 60: val_loss did not improve from 0.82991\n",
            "\u001b[1m3113/3113\u001b[0m \u001b[32m━━━━━━━━━━━━━━━━━━━━\u001b[0m\u001b[37m\u001b[0m \u001b[1m14s\u001b[0m 4ms/step - accuracy: 0.9327 - loss: 0.8723 - val_accuracy: 0.9288 - val_loss: 0.8480 - learning_rate: 1.0000e-04\n",
            "Epoch 61/200\n",
            "\u001b[1m3110/3113\u001b[0m \u001b[32m━━━━━━━━━━━━━━━━━━━\u001b[0m\u001b[37m━\u001b[0m \u001b[1m0s\u001b[0m 4ms/step - accuracy: 0.9311 - loss: 0.8704\n",
            "Epoch 61: val_loss improved from 0.82991 to 0.82736, saving model to best_cnn_2d_vnemos.h5\n"
          ]
        },
        {
          "output_type": "stream",
          "name": "stderr",
          "text": [
            "WARNING:absl:You are saving your model as an HDF5 file via `model.save()` or `keras.saving.save_model(model)`. This file format is considered legacy. We recommend using instead the native Keras format, e.g. `model.save('my_model.keras')` or `keras.saving.save_model(model, 'my_model.keras')`. \n"
          ]
        },
        {
          "output_type": "stream",
          "name": "stdout",
          "text": [
            "\b\b\b\b\b\b\b\b\b\b\b\b\b\b\b\b\b\b\b\b\b\b\b\b\b\b\b\b\b\b\b\b\b\b\b\b\b\b\b\b\b\b\b\b\b\b\b\b\b\b\b\b\b\b\b\b\b\b\b\b\b\b\b\b\b\b\b\b\b\b\b\b\b\b\b\b\r\u001b[1m3113/3113\u001b[0m \u001b[32m━━━━━━━━━━━━━━━━━━━━\u001b[0m\u001b[37m\u001b[0m \u001b[1m14s\u001b[0m 5ms/step - accuracy: 0.9311 - loss: 0.8704 - val_accuracy: 0.9396 - val_loss: 0.8274 - learning_rate: 1.0000e-04\n",
            "Epoch 62/200\n",
            "\u001b[1m3111/3113\u001b[0m \u001b[32m━━━━━━━━━━━━━━━━━━━\u001b[0m\u001b[37m━\u001b[0m \u001b[1m0s\u001b[0m 4ms/step - accuracy: 0.9315 - loss: 0.8726\n",
            "Epoch 62: val_loss did not improve from 0.82736\n",
            "\u001b[1m3113/3113\u001b[0m \u001b[32m━━━━━━━━━━━━━━━━━━━━\u001b[0m\u001b[37m\u001b[0m \u001b[1m14s\u001b[0m 4ms/step - accuracy: 0.9315 - loss: 0.8726 - val_accuracy: 0.9377 - val_loss: 0.8346 - learning_rate: 1.0000e-04\n",
            "Epoch 63/200\n",
            "\u001b[1m3103/3113\u001b[0m \u001b[32m━━━━━━━━━━━━━━━━━━━\u001b[0m\u001b[37m━\u001b[0m \u001b[1m0s\u001b[0m 4ms/step - accuracy: 0.9323 - loss: 0.8689\n",
            "Epoch 63: val_loss did not improve from 0.82736\n",
            "\u001b[1m3113/3113\u001b[0m \u001b[32m━━━━━━━━━━━━━━━━━━━━\u001b[0m\u001b[37m\u001b[0m \u001b[1m14s\u001b[0m 4ms/step - accuracy: 0.9322 - loss: 0.8690 - val_accuracy: 0.9353 - val_loss: 0.8375 - learning_rate: 1.0000e-04\n",
            "Epoch 64/200\n",
            "\u001b[1m3104/3113\u001b[0m \u001b[32m━━━━━━━━━━━━━━━━━━━\u001b[0m\u001b[37m━\u001b[0m \u001b[1m0s\u001b[0m 4ms/step - accuracy: 0.9316 - loss: 0.8717\n",
            "Epoch 64: val_loss did not improve from 0.82736\n",
            "\u001b[1m3113/3113\u001b[0m \u001b[32m━━━━━━━━━━━━━━━━━━━━\u001b[0m\u001b[37m\u001b[0m \u001b[1m14s\u001b[0m 4ms/step - accuracy: 0.9316 - loss: 0.8718 - val_accuracy: 0.9342 - val_loss: 0.8337 - learning_rate: 1.0000e-04\n",
            "Epoch 65/200\n",
            "\u001b[1m3106/3113\u001b[0m \u001b[32m━━━━━━━━━━━━━━━━━━━\u001b[0m\u001b[37m━\u001b[0m \u001b[1m0s\u001b[0m 4ms/step - accuracy: 0.9317 - loss: 0.8705\n",
            "Epoch 65: val_loss did not improve from 0.82736\n",
            "\u001b[1m3113/3113\u001b[0m \u001b[32m━━━━━━━━━━━━━━━━━━━━\u001b[0m\u001b[37m\u001b[0m \u001b[1m14s\u001b[0m 4ms/step - accuracy: 0.9317 - loss: 0.8705 - val_accuracy: 0.9354 - val_loss: 0.8332 - learning_rate: 1.0000e-04\n",
            "Epoch 66/200\n",
            "\u001b[1m3102/3113\u001b[0m \u001b[32m━━━━━━━━━━━━━━━━━━━\u001b[0m\u001b[37m━\u001b[0m \u001b[1m0s\u001b[0m 4ms/step - accuracy: 0.9345 - loss: 0.8667\n",
            "Epoch 66: val_loss did not improve from 0.82736\n",
            "\u001b[1m3113/3113\u001b[0m \u001b[32m━━━━━━━━━━━━━━━━━━━━\u001b[0m\u001b[37m\u001b[0m \u001b[1m14s\u001b[0m 4ms/step - accuracy: 0.9345 - loss: 0.8668 - val_accuracy: 0.9401 - val_loss: 0.8279 - learning_rate: 1.0000e-04\n",
            "Epoch 67/200\n",
            "\u001b[1m3113/3113\u001b[0m \u001b[32m━━━━━━━━━━━━━━━━━━━━\u001b[0m\u001b[37m\u001b[0m \u001b[1m0s\u001b[0m 4ms/step - accuracy: 0.9339 - loss: 0.8690\n",
            "Epoch 67: val_loss did not improve from 0.82736\n",
            "\u001b[1m3113/3113\u001b[0m \u001b[32m━━━━━━━━━━━━━━━━━━━━\u001b[0m\u001b[37m\u001b[0m \u001b[1m14s\u001b[0m 4ms/step - accuracy: 0.9339 - loss: 0.8690 - val_accuracy: 0.9345 - val_loss: 0.8370 - learning_rate: 1.0000e-04\n",
            "Epoch 68/200\n",
            "\u001b[1m3112/3113\u001b[0m \u001b[32m━━━━━━━━━━━━━━━━━━━\u001b[0m\u001b[37m━\u001b[0m \u001b[1m0s\u001b[0m 4ms/step - accuracy: 0.9336 - loss: 0.8656\n",
            "Epoch 68: val_loss improved from 0.82736 to 0.82351, saving model to best_cnn_2d_vnemos.h5\n"
          ]
        },
        {
          "output_type": "stream",
          "name": "stderr",
          "text": [
            "WARNING:absl:You are saving your model as an HDF5 file via `model.save()` or `keras.saving.save_model(model)`. This file format is considered legacy. We recommend using instead the native Keras format, e.g. `model.save('my_model.keras')` or `keras.saving.save_model(model, 'my_model.keras')`. \n"
          ]
        },
        {
          "output_type": "stream",
          "name": "stdout",
          "text": [
            "\b\b\b\b\b\b\b\b\b\b\b\b\b\b\b\b\b\b\b\b\b\b\b\b\b\b\b\b\b\b\b\b\b\b\b\b\b\b\b\b\b\b\b\b\b\b\b\b\b\b\b\b\b\b\b\b\b\b\b\b\b\b\b\b\b\b\b\b\b\b\b\b\b\b\b\b\r\u001b[1m3113/3113\u001b[0m \u001b[32m━━━━━━━━━━━━━━━━━━━━\u001b[0m\u001b[37m\u001b[0m \u001b[1m14s\u001b[0m 4ms/step - accuracy: 0.9336 - loss: 0.8656 - val_accuracy: 0.9407 - val_loss: 0.8235 - learning_rate: 1.0000e-04\n",
            "Epoch 69/200\n",
            "\u001b[1m3108/3113\u001b[0m \u001b[32m━━━━━━━━━━━━━━━━━━━\u001b[0m\u001b[37m━\u001b[0m \u001b[1m0s\u001b[0m 4ms/step - accuracy: 0.9359 - loss: 0.8644\n",
            "Epoch 69: val_loss did not improve from 0.82351\n",
            "\u001b[1m3113/3113\u001b[0m \u001b[32m━━━━━━━━━━━━━━━━━━━━\u001b[0m\u001b[37m\u001b[0m \u001b[1m14s\u001b[0m 4ms/step - accuracy: 0.9359 - loss: 0.8645 - val_accuracy: 0.9366 - val_loss: 0.8330 - learning_rate: 1.0000e-04\n",
            "Epoch 70/200\n",
            "\u001b[1m3107/3113\u001b[0m \u001b[32m━━━━━━━━━━━━━━━━━━━\u001b[0m\u001b[37m━\u001b[0m \u001b[1m0s\u001b[0m 4ms/step - accuracy: 0.9361 - loss: 0.8629\n",
            "Epoch 70: val_loss did not improve from 0.82351\n",
            "\u001b[1m3113/3113\u001b[0m \u001b[32m━━━━━━━━━━━━━━━━━━━━\u001b[0m\u001b[37m\u001b[0m \u001b[1m14s\u001b[0m 4ms/step - accuracy: 0.9361 - loss: 0.8629 - val_accuracy: 0.9338 - val_loss: 0.8408 - learning_rate: 1.0000e-04\n",
            "Epoch 71/200\n",
            "\u001b[1m3102/3113\u001b[0m \u001b[32m━━━━━━━━━━━━━━━━━━━\u001b[0m\u001b[37m━\u001b[0m \u001b[1m0s\u001b[0m 4ms/step - accuracy: 0.9347 - loss: 0.8645\n",
            "Epoch 71: val_loss did not improve from 0.82351\n",
            "\u001b[1m3113/3113\u001b[0m \u001b[32m━━━━━━━━━━━━━━━━━━━━\u001b[0m\u001b[37m\u001b[0m \u001b[1m14s\u001b[0m 4ms/step - accuracy: 0.9347 - loss: 0.8645 - val_accuracy: 0.9383 - val_loss: 0.8284 - learning_rate: 1.0000e-04\n",
            "Epoch 72/200\n",
            "\u001b[1m3110/3113\u001b[0m \u001b[32m━━━━━━━━━━━━━━━━━━━\u001b[0m\u001b[37m━\u001b[0m \u001b[1m0s\u001b[0m 4ms/step - accuracy: 0.9334 - loss: 0.8668\n",
            "Epoch 72: val_loss did not improve from 0.82351\n",
            "\u001b[1m3113/3113\u001b[0m \u001b[32m━━━━━━━━━━━━━━━━━━━━\u001b[0m\u001b[37m\u001b[0m \u001b[1m14s\u001b[0m 4ms/step - accuracy: 0.9334 - loss: 0.8668 - val_accuracy: 0.9385 - val_loss: 0.8290 - learning_rate: 1.0000e-04\n",
            "Epoch 73/200\n",
            "\u001b[1m3104/3113\u001b[0m \u001b[32m━━━━━━━━━━━━━━━━━━━\u001b[0m\u001b[37m━\u001b[0m \u001b[1m0s\u001b[0m 4ms/step - accuracy: 0.9334 - loss: 0.8619\n",
            "Epoch 73: val_loss improved from 0.82351 to 0.82299, saving model to best_cnn_2d_vnemos.h5\n"
          ]
        },
        {
          "output_type": "stream",
          "name": "stderr",
          "text": [
            "WARNING:absl:You are saving your model as an HDF5 file via `model.save()` or `keras.saving.save_model(model)`. This file format is considered legacy. We recommend using instead the native Keras format, e.g. `model.save('my_model.keras')` or `keras.saving.save_model(model, 'my_model.keras')`. \n"
          ]
        },
        {
          "output_type": "stream",
          "name": "stdout",
          "text": [
            "\b\b\b\b\b\b\b\b\b\b\b\b\b\b\b\b\b\b\b\b\b\b\b\b\b\b\b\b\b\b\b\b\b\b\b\b\b\b\b\b\b\b\b\b\b\b\b\b\b\b\b\b\b\b\b\b\b\b\b\b\b\b\b\b\b\b\b\b\b\b\b\b\b\b\b\b\r\u001b[1m3113/3113\u001b[0m \u001b[32m━━━━━━━━━━━━━━━━━━━━\u001b[0m\u001b[37m\u001b[0m \u001b[1m14s\u001b[0m 4ms/step - accuracy: 0.9334 - loss: 0.8619 - val_accuracy: 0.9430 - val_loss: 0.8230 - learning_rate: 1.0000e-04\n",
            "Epoch 74/200\n",
            "\u001b[1m3101/3113\u001b[0m \u001b[32m━━━━━━━━━━━━━━━━━━━\u001b[0m\u001b[37m━\u001b[0m \u001b[1m0s\u001b[0m 4ms/step - accuracy: 0.9358 - loss: 0.8604\n",
            "Epoch 74: val_loss improved from 0.82299 to 0.82248, saving model to best_cnn_2d_vnemos.h5\n"
          ]
        },
        {
          "output_type": "stream",
          "name": "stderr",
          "text": [
            "WARNING:absl:You are saving your model as an HDF5 file via `model.save()` or `keras.saving.save_model(model)`. This file format is considered legacy. We recommend using instead the native Keras format, e.g. `model.save('my_model.keras')` or `keras.saving.save_model(model, 'my_model.keras')`. \n"
          ]
        },
        {
          "output_type": "stream",
          "name": "stdout",
          "text": [
            "\b\b\b\b\b\b\b\b\b\b\b\b\b\b\b\b\b\b\b\b\b\b\b\b\b\b\b\b\b\b\b\b\b\b\b\b\b\b\b\b\b\b\b\b\b\b\b\b\b\b\b\b\b\b\b\b\b\b\b\b\b\b\b\b\b\b\b\b\b\b\b\b\b\b\b\b\r\u001b[1m3113/3113\u001b[0m \u001b[32m━━━━━━━━━━━━━━━━━━━━\u001b[0m\u001b[37m\u001b[0m \u001b[1m14s\u001b[0m 4ms/step - accuracy: 0.9358 - loss: 0.8604 - val_accuracy: 0.9413 - val_loss: 0.8225 - learning_rate: 1.0000e-04\n",
            "Epoch 75/200\n",
            "\u001b[1m3110/3113\u001b[0m \u001b[32m━━━━━━━━━━━━━━━━━━━\u001b[0m\u001b[37m━\u001b[0m \u001b[1m0s\u001b[0m 4ms/step - accuracy: 0.9320 - loss: 0.8627\n",
            "Epoch 75: val_loss improved from 0.82248 to 0.82049, saving model to best_cnn_2d_vnemos.h5\n"
          ]
        },
        {
          "output_type": "stream",
          "name": "stderr",
          "text": [
            "WARNING:absl:You are saving your model as an HDF5 file via `model.save()` or `keras.saving.save_model(model)`. This file format is considered legacy. We recommend using instead the native Keras format, e.g. `model.save('my_model.keras')` or `keras.saving.save_model(model, 'my_model.keras')`. \n"
          ]
        },
        {
          "output_type": "stream",
          "name": "stdout",
          "text": [
            "\b\b\b\b\b\b\b\b\b\b\b\b\b\b\b\b\b\b\b\b\b\b\b\b\b\b\b\b\b\b\b\b\b\b\b\b\b\b\b\b\b\b\b\b\b\b\b\b\b\b\b\b\b\b\b\b\b\b\b\b\b\b\b\b\b\b\b\b\b\b\b\b\b\b\b\b\r\u001b[1m3113/3113\u001b[0m \u001b[32m━━━━━━━━━━━━━━━━━━━━\u001b[0m\u001b[37m\u001b[0m \u001b[1m14s\u001b[0m 5ms/step - accuracy: 0.9320 - loss: 0.8627 - val_accuracy: 0.9433 - val_loss: 0.8205 - learning_rate: 1.0000e-04\n",
            "Epoch 76/200\n",
            "\u001b[1m3103/3113\u001b[0m \u001b[32m━━━━━━━━━━━━━━━━━━━\u001b[0m\u001b[37m━\u001b[0m \u001b[1m0s\u001b[0m 4ms/step - accuracy: 0.9342 - loss: 0.8624\n",
            "Epoch 76: val_loss did not improve from 0.82049\n",
            "\u001b[1m3113/3113\u001b[0m \u001b[32m━━━━━━━━━━━━━━━━━━━━\u001b[0m\u001b[37m\u001b[0m \u001b[1m14s\u001b[0m 4ms/step - accuracy: 0.9342 - loss: 0.8625 - val_accuracy: 0.9394 - val_loss: 0.8260 - learning_rate: 1.0000e-04\n",
            "Epoch 77/200\n",
            "\u001b[1m3112/3113\u001b[0m \u001b[32m━━━━━━━━━━━━━━━━━━━\u001b[0m\u001b[37m━\u001b[0m \u001b[1m0s\u001b[0m 4ms/step - accuracy: 0.9376 - loss: 0.8578\n",
            "Epoch 77: val_loss did not improve from 0.82049\n",
            "\u001b[1m3113/3113\u001b[0m \u001b[32m━━━━━━━━━━━━━━━━━━━━\u001b[0m\u001b[37m\u001b[0m \u001b[1m14s\u001b[0m 5ms/step - accuracy: 0.9376 - loss: 0.8578 - val_accuracy: 0.9341 - val_loss: 0.8333 - learning_rate: 1.0000e-04\n",
            "Epoch 78/200\n",
            "\u001b[1m3108/3113\u001b[0m \u001b[32m━━━━━━━━━━━━━━━━━━━\u001b[0m\u001b[37m━\u001b[0m \u001b[1m0s\u001b[0m 4ms/step - accuracy: 0.9383 - loss: 0.8552\n",
            "Epoch 78: val_loss did not improve from 0.82049\n",
            "\u001b[1m3113/3113\u001b[0m \u001b[32m━━━━━━━━━━━━━━━━━━━━\u001b[0m\u001b[37m\u001b[0m \u001b[1m14s\u001b[0m 4ms/step - accuracy: 0.9383 - loss: 0.8552 - val_accuracy: 0.9397 - val_loss: 0.8244 - learning_rate: 1.0000e-04\n",
            "Epoch 79/200\n",
            "\u001b[1m3112/3113\u001b[0m \u001b[32m━━━━━━━━━━━━━━━━━━━\u001b[0m\u001b[37m━\u001b[0m \u001b[1m0s\u001b[0m 4ms/step - accuracy: 0.9360 - loss: 0.8574\n",
            "Epoch 79: val_loss improved from 0.82049 to 0.81810, saving model to best_cnn_2d_vnemos.h5\n"
          ]
        },
        {
          "output_type": "stream",
          "name": "stderr",
          "text": [
            "WARNING:absl:You are saving your model as an HDF5 file via `model.save()` or `keras.saving.save_model(model)`. This file format is considered legacy. We recommend using instead the native Keras format, e.g. `model.save('my_model.keras')` or `keras.saving.save_model(model, 'my_model.keras')`. \n"
          ]
        },
        {
          "output_type": "stream",
          "name": "stdout",
          "text": [
            "\b\b\b\b\b\b\b\b\b\b\b\b\b\b\b\b\b\b\b\b\b\b\b\b\b\b\b\b\b\b\b\b\b\b\b\b\b\b\b\b\b\b\b\b\b\b\b\b\b\b\b\b\b\b\b\b\b\b\b\b\b\b\b\b\b\b\b\b\b\b\b\b\b\b\b\b\r\u001b[1m3113/3113\u001b[0m \u001b[32m━━━━━━━━━━━━━━━━━━━━\u001b[0m\u001b[37m\u001b[0m \u001b[1m14s\u001b[0m 5ms/step - accuracy: 0.9360 - loss: 0.8574 - val_accuracy: 0.9415 - val_loss: 0.8181 - learning_rate: 1.0000e-04\n",
            "Epoch 80/200\n",
            "\u001b[1m3100/3113\u001b[0m \u001b[32m━━━━━━━━━━━━━━━━━━━\u001b[0m\u001b[37m━\u001b[0m \u001b[1m0s\u001b[0m 4ms/step - accuracy: 0.9385 - loss: 0.8580\n",
            "Epoch 80: val_loss did not improve from 0.81810\n",
            "\u001b[1m3113/3113\u001b[0m \u001b[32m━━━━━━━━━━━━━━━━━━━━\u001b[0m\u001b[37m\u001b[0m \u001b[1m14s\u001b[0m 4ms/step - accuracy: 0.9385 - loss: 0.8580 - val_accuracy: 0.9400 - val_loss: 0.8222 - learning_rate: 1.0000e-04\n",
            "Epoch 81/200\n",
            "\u001b[1m3109/3113\u001b[0m \u001b[32m━━━━━━━━━━━━━━━━━━━\u001b[0m\u001b[37m━\u001b[0m \u001b[1m0s\u001b[0m 4ms/step - accuracy: 0.9393 - loss: 0.8549\n",
            "Epoch 81: val_loss did not improve from 0.81810\n",
            "\u001b[1m3113/3113\u001b[0m \u001b[32m━━━━━━━━━━━━━━━━━━━━\u001b[0m\u001b[37m\u001b[0m \u001b[1m14s\u001b[0m 5ms/step - accuracy: 0.9393 - loss: 0.8549 - val_accuracy: 0.9374 - val_loss: 0.8305 - learning_rate: 1.0000e-04\n",
            "Epoch 82/200\n",
            "\u001b[1m3107/3113\u001b[0m \u001b[32m━━━━━━━━━━━━━━━━━━━\u001b[0m\u001b[37m━\u001b[0m \u001b[1m0s\u001b[0m 4ms/step - accuracy: 0.9368 - loss: 0.8565\n",
            "Epoch 82: val_loss did not improve from 0.81810\n",
            "\u001b[1m3113/3113\u001b[0m \u001b[32m━━━━━━━━━━━━━━━━━━━━\u001b[0m\u001b[37m\u001b[0m \u001b[1m14s\u001b[0m 5ms/step - accuracy: 0.9368 - loss: 0.8565 - val_accuracy: 0.9394 - val_loss: 0.8237 - learning_rate: 1.0000e-04\n",
            "Epoch 83/200\n",
            "\u001b[1m3107/3113\u001b[0m \u001b[32m━━━━━━━━━━━━━━━━━━━\u001b[0m\u001b[37m━\u001b[0m \u001b[1m0s\u001b[0m 4ms/step - accuracy: 0.9371 - loss: 0.8556\n",
            "Epoch 83: val_loss improved from 0.81810 to 0.81408, saving model to best_cnn_2d_vnemos.h5\n"
          ]
        },
        {
          "output_type": "stream",
          "name": "stderr",
          "text": [
            "WARNING:absl:You are saving your model as an HDF5 file via `model.save()` or `keras.saving.save_model(model)`. This file format is considered legacy. We recommend using instead the native Keras format, e.g. `model.save('my_model.keras')` or `keras.saving.save_model(model, 'my_model.keras')`. \n"
          ]
        },
        {
          "output_type": "stream",
          "name": "stdout",
          "text": [
            "\b\b\b\b\b\b\b\b\b\b\b\b\b\b\b\b\b\b\b\b\b\b\b\b\b\b\b\b\b\b\b\b\b\b\b\b\b\b\b\b\b\b\b\b\b\b\b\b\b\b\b\b\b\b\b\b\b\b\b\b\b\b\b\b\b\b\b\b\b\b\b\b\b\b\b\b\r\u001b[1m3113/3113\u001b[0m \u001b[32m━━━━━━━━━━━━━━━━━━━━\u001b[0m\u001b[37m\u001b[0m \u001b[1m14s\u001b[0m 5ms/step - accuracy: 0.9371 - loss: 0.8556 - val_accuracy: 0.9454 - val_loss: 0.8141 - learning_rate: 1.0000e-04\n",
            "Epoch 84/200\n",
            "\u001b[1m3103/3113\u001b[0m \u001b[32m━━━━━━━━━━━━━━━━━━━\u001b[0m\u001b[37m━\u001b[0m \u001b[1m0s\u001b[0m 4ms/step - accuracy: 0.9392 - loss: 0.8542\n",
            "Epoch 84: val_loss did not improve from 0.81408\n",
            "\u001b[1m3113/3113\u001b[0m \u001b[32m━━━━━━━━━━━━━━━━━━━━\u001b[0m\u001b[37m\u001b[0m \u001b[1m14s\u001b[0m 4ms/step - accuracy: 0.9392 - loss: 0.8542 - val_accuracy: 0.9373 - val_loss: 0.8228 - learning_rate: 1.0000e-04\n",
            "Epoch 85/200\n",
            "\u001b[1m3102/3113\u001b[0m \u001b[32m━━━━━━━━━━━━━━━━━━━\u001b[0m\u001b[37m━\u001b[0m \u001b[1m0s\u001b[0m 4ms/step - accuracy: 0.9375 - loss: 0.8559\n",
            "Epoch 85: val_loss did not improve from 0.81408\n",
            "\u001b[1m3113/3113\u001b[0m \u001b[32m━━━━━━━━━━━━━━━━━━━━\u001b[0m\u001b[37m\u001b[0m \u001b[1m14s\u001b[0m 5ms/step - accuracy: 0.9375 - loss: 0.8559 - val_accuracy: 0.9350 - val_loss: 0.8265 - learning_rate: 1.0000e-04\n",
            "Epoch 86/200\n",
            "\u001b[1m3101/3113\u001b[0m \u001b[32m━━━━━━━━━━━━━━━━━━━\u001b[0m\u001b[37m━\u001b[0m \u001b[1m0s\u001b[0m 4ms/step - accuracy: 0.9367 - loss: 0.8576\n",
            "Epoch 86: val_loss did not improve from 0.81408\n",
            "\u001b[1m3113/3113\u001b[0m \u001b[32m━━━━━━━━━━━━━━━━━━━━\u001b[0m\u001b[37m\u001b[0m \u001b[1m14s\u001b[0m 4ms/step - accuracy: 0.9367 - loss: 0.8577 - val_accuracy: 0.9403 - val_loss: 0.8236 - learning_rate: 1.0000e-04\n",
            "Epoch 87/200\n",
            "\u001b[1m3105/3113\u001b[0m \u001b[32m━━━━━━━━━━━━━━━━━━━\u001b[0m\u001b[37m━\u001b[0m \u001b[1m0s\u001b[0m 4ms/step - accuracy: 0.9372 - loss: 0.8564\n",
            "Epoch 87: val_loss did not improve from 0.81408\n",
            "\u001b[1m3113/3113\u001b[0m \u001b[32m━━━━━━━━━━━━━━━━━━━━\u001b[0m\u001b[37m\u001b[0m \u001b[1m14s\u001b[0m 5ms/step - accuracy: 0.9372 - loss: 0.8564 - val_accuracy: 0.9415 - val_loss: 0.8151 - learning_rate: 1.0000e-04\n",
            "Epoch 88/200\n",
            "\u001b[1m3100/3113\u001b[0m \u001b[32m━━━━━━━━━━━━━━━━━━━\u001b[0m\u001b[37m━\u001b[0m \u001b[1m0s\u001b[0m 4ms/step - accuracy: 0.9395 - loss: 0.8528\n",
            "Epoch 88: val_loss did not improve from 0.81408\n",
            "\u001b[1m3113/3113\u001b[0m \u001b[32m━━━━━━━━━━━━━━━━━━━━\u001b[0m\u001b[37m\u001b[0m \u001b[1m14s\u001b[0m 5ms/step - accuracy: 0.9395 - loss: 0.8529 - val_accuracy: 0.9377 - val_loss: 0.8247 - learning_rate: 1.0000e-04\n",
            "Epoch 89/200\n",
            "\u001b[1m3106/3113\u001b[0m \u001b[32m━━━━━━━━━━━━━━━━━━━\u001b[0m\u001b[37m━\u001b[0m \u001b[1m0s\u001b[0m 4ms/step - accuracy: 0.9394 - loss: 0.8504\n",
            "Epoch 89: val_loss did not improve from 0.81408\n",
            "\u001b[1m3113/3113\u001b[0m \u001b[32m━━━━━━━━━━━━━━━━━━━━\u001b[0m\u001b[37m\u001b[0m \u001b[1m14s\u001b[0m 4ms/step - accuracy: 0.9394 - loss: 0.8504 - val_accuracy: 0.9398 - val_loss: 0.8231 - learning_rate: 1.0000e-04\n",
            "Epoch 90/200\n",
            "\u001b[1m3108/3113\u001b[0m \u001b[32m━━━━━━━━━━━━━━━━━━━\u001b[0m\u001b[37m━\u001b[0m \u001b[1m0s\u001b[0m 4ms/step - accuracy: 0.9372 - loss: 0.8521\n",
            "Epoch 90: val_loss did not improve from 0.81408\n",
            "\u001b[1m3113/3113\u001b[0m \u001b[32m━━━━━━━━━━━━━━━━━━━━\u001b[0m\u001b[37m\u001b[0m \u001b[1m14s\u001b[0m 4ms/step - accuracy: 0.9372 - loss: 0.8522 - val_accuracy: 0.9439 - val_loss: 0.8142 - learning_rate: 1.0000e-04\n",
            "Epoch 91/200\n",
            "\u001b[1m3105/3113\u001b[0m \u001b[32m━━━━━━━━━━━━━━━━━━━\u001b[0m\u001b[37m━\u001b[0m \u001b[1m0s\u001b[0m 4ms/step - accuracy: 0.9371 - loss: 0.8550\n",
            "Epoch 91: val_loss did not improve from 0.81408\n",
            "\u001b[1m3113/3113\u001b[0m \u001b[32m━━━━━━━━━━━━━━━━━━━━\u001b[0m\u001b[37m\u001b[0m \u001b[1m14s\u001b[0m 4ms/step - accuracy: 0.9371 - loss: 0.8550 - val_accuracy: 0.9435 - val_loss: 0.8177 - learning_rate: 1.0000e-04\n",
            "Epoch 92/200\n",
            "\u001b[1m3103/3113\u001b[0m \u001b[32m━━━━━━━━━━━━━━━━━━━\u001b[0m\u001b[37m━\u001b[0m \u001b[1m0s\u001b[0m 4ms/step - accuracy: 0.9384 - loss: 0.8517\n",
            "Epoch 92: val_loss did not improve from 0.81408\n",
            "\u001b[1m3113/3113\u001b[0m \u001b[32m━━━━━━━━━━━━━━━━━━━━\u001b[0m\u001b[37m\u001b[0m \u001b[1m14s\u001b[0m 4ms/step - accuracy: 0.9384 - loss: 0.8517 - val_accuracy: 0.9361 - val_loss: 0.8284 - learning_rate: 1.0000e-04\n",
            "Epoch 93/200\n",
            "\u001b[1m3104/3113\u001b[0m \u001b[32m━━━━━━━━━━━━━━━━━━━\u001b[0m\u001b[37m━\u001b[0m \u001b[1m0s\u001b[0m 4ms/step - accuracy: 0.9418 - loss: 0.8481\n",
            "Epoch 93: val_loss did not improve from 0.81408\n",
            "\u001b[1m3113/3113\u001b[0m \u001b[32m━━━━━━━━━━━━━━━━━━━━\u001b[0m\u001b[37m\u001b[0m \u001b[1m14s\u001b[0m 4ms/step - accuracy: 0.9418 - loss: 0.8481 - val_accuracy: 0.9406 - val_loss: 0.8231 - learning_rate: 1.0000e-04\n",
            "Epoch 94/200\n",
            "\u001b[1m3105/3113\u001b[0m \u001b[32m━━━━━━━━━━━━━━━━━━━\u001b[0m\u001b[37m━\u001b[0m \u001b[1m0s\u001b[0m 4ms/step - accuracy: 0.9533 - loss: 0.8255\n",
            "Epoch 94: val_loss improved from 0.81408 to 0.77457, saving model to best_cnn_2d_vnemos.h5\n"
          ]
        },
        {
          "output_type": "stream",
          "name": "stderr",
          "text": [
            "WARNING:absl:You are saving your model as an HDF5 file via `model.save()` or `keras.saving.save_model(model)`. This file format is considered legacy. We recommend using instead the native Keras format, e.g. `model.save('my_model.keras')` or `keras.saving.save_model(model, 'my_model.keras')`. \n"
          ]
        },
        {
          "output_type": "stream",
          "name": "stdout",
          "text": [
            "\b\b\b\b\b\b\b\b\b\b\b\b\b\b\b\b\b\b\b\b\b\b\b\b\b\b\b\b\b\b\b\b\b\b\b\b\b\b\b\b\b\b\b\b\b\b\b\b\b\b\b\b\b\b\b\b\b\b\b\b\b\b\b\b\b\b\b\b\b\b\b\b\b\b\b\b\r\u001b[1m3113/3113\u001b[0m \u001b[32m━━━━━━━━━━━━━━━━━━━━\u001b[0m\u001b[37m\u001b[0m \u001b[1m14s\u001b[0m 5ms/step - accuracy: 0.9533 - loss: 0.8255 - val_accuracy: 0.9592 - val_loss: 0.7746 - learning_rate: 2.0000e-05\n",
            "Epoch 95/200\n",
            "\u001b[1m3112/3113\u001b[0m \u001b[32m━━━━━━━━━━━━━━━━━━━\u001b[0m\u001b[37m━\u001b[0m \u001b[1m0s\u001b[0m 4ms/step - accuracy: 0.9632 - loss: 0.7986\n",
            "Epoch 95: val_loss improved from 0.77457 to 0.76661, saving model to best_cnn_2d_vnemos.h5\n"
          ]
        },
        {
          "output_type": "stream",
          "name": "stderr",
          "text": [
            "WARNING:absl:You are saving your model as an HDF5 file via `model.save()` or `keras.saving.save_model(model)`. This file format is considered legacy. We recommend using instead the native Keras format, e.g. `model.save('my_model.keras')` or `keras.saving.save_model(model, 'my_model.keras')`. \n"
          ]
        },
        {
          "output_type": "stream",
          "name": "stdout",
          "text": [
            "\b\b\b\b\b\b\b\b\b\b\b\b\b\b\b\b\b\b\b\b\b\b\b\b\b\b\b\b\b\b\b\b\b\b\b\b\b\b\b\b\b\b\b\b\b\b\b\b\b\b\b\b\b\b\b\b\b\b\b\b\b\b\b\b\b\b\b\b\b\b\b\b\b\b\b\b\r\u001b[1m3113/3113\u001b[0m \u001b[32m━━━━━━━━━━━━━━━━━━━━\u001b[0m\u001b[37m\u001b[0m \u001b[1m14s\u001b[0m 5ms/step - accuracy: 0.9632 - loss: 0.7986 - val_accuracy: 0.9580 - val_loss: 0.7666 - learning_rate: 2.0000e-05\n",
            "Epoch 96/200\n",
            "\u001b[1m3108/3113\u001b[0m \u001b[32m━━━━━━━━━━━━━━━━━━━\u001b[0m\u001b[37m━\u001b[0m \u001b[1m0s\u001b[0m 4ms/step - accuracy: 0.9673 - loss: 0.7803\n",
            "Epoch 96: val_loss improved from 0.76661 to 0.75328, saving model to best_cnn_2d_vnemos.h5\n"
          ]
        },
        {
          "output_type": "stream",
          "name": "stderr",
          "text": [
            "WARNING:absl:You are saving your model as an HDF5 file via `model.save()` or `keras.saving.save_model(model)`. This file format is considered legacy. We recommend using instead the native Keras format, e.g. `model.save('my_model.keras')` or `keras.saving.save_model(model, 'my_model.keras')`. \n"
          ]
        },
        {
          "output_type": "stream",
          "name": "stdout",
          "text": [
            "\b\b\b\b\b\b\b\b\b\b\b\b\b\b\b\b\b\b\b\b\b\b\b\b\b\b\b\b\b\b\b\b\b\b\b\b\b\b\b\b\b\b\b\b\b\b\b\b\b\b\b\b\b\b\b\b\b\b\b\b\b\b\b\b\b\b\b\b\b\b\b\b\b\b\b\b\r\u001b[1m3113/3113\u001b[0m \u001b[32m━━━━━━━━━━━━━━━━━━━━\u001b[0m\u001b[37m\u001b[0m \u001b[1m14s\u001b[0m 4ms/step - accuracy: 0.9673 - loss: 0.7803 - val_accuracy: 0.9607 - val_loss: 0.7533 - learning_rate: 2.0000e-05\n",
            "Epoch 97/200\n",
            "\u001b[1m3113/3113\u001b[0m \u001b[32m━━━━━━━━━━━━━━━━━━━━\u001b[0m\u001b[37m\u001b[0m \u001b[1m0s\u001b[0m 4ms/step - accuracy: 0.9698 - loss: 0.7684\n",
            "Epoch 97: val_loss improved from 0.75328 to 0.74428, saving model to best_cnn_2d_vnemos.h5\n"
          ]
        },
        {
          "output_type": "stream",
          "name": "stderr",
          "text": [
            "WARNING:absl:You are saving your model as an HDF5 file via `model.save()` or `keras.saving.save_model(model)`. This file format is considered legacy. We recommend using instead the native Keras format, e.g. `model.save('my_model.keras')` or `keras.saving.save_model(model, 'my_model.keras')`. \n"
          ]
        },
        {
          "output_type": "stream",
          "name": "stdout",
          "text": [
            "\b\b\b\b\b\b\b\b\b\b\b\b\b\b\b\b\b\b\b\b\b\b\b\b\b\b\b\b\b\b\b\b\b\b\b\b\b\b\b\b\b\b\b\b\b\b\b\b\b\b\b\b\b\b\b\b\b\b\b\b\b\b\b\b\b\b\b\b\b\b\b\b\b\b\b\b\r\u001b[1m3113/3113\u001b[0m \u001b[32m━━━━━━━━━━━━━━━━━━━━\u001b[0m\u001b[37m\u001b[0m \u001b[1m14s\u001b[0m 5ms/step - accuracy: 0.9698 - loss: 0.7684 - val_accuracy: 0.9623 - val_loss: 0.7443 - learning_rate: 2.0000e-05\n",
            "Epoch 98/200\n",
            "\u001b[1m3112/3113\u001b[0m \u001b[32m━━━━━━━━━━━━━━━━━━━\u001b[0m\u001b[37m━\u001b[0m \u001b[1m0s\u001b[0m 4ms/step - accuracy: 0.9715 - loss: 0.7574\n",
            "Epoch 98: val_loss improved from 0.74428 to 0.73804, saving model to best_cnn_2d_vnemos.h5\n"
          ]
        },
        {
          "output_type": "stream",
          "name": "stderr",
          "text": [
            "WARNING:absl:You are saving your model as an HDF5 file via `model.save()` or `keras.saving.save_model(model)`. This file format is considered legacy. We recommend using instead the native Keras format, e.g. `model.save('my_model.keras')` or `keras.saving.save_model(model, 'my_model.keras')`. \n"
          ]
        },
        {
          "output_type": "stream",
          "name": "stdout",
          "text": [
            "\b\b\b\b\b\b\b\b\b\b\b\b\b\b\b\b\b\b\b\b\b\b\b\b\b\b\b\b\b\b\b\b\b\b\b\b\b\b\b\b\b\b\b\b\b\b\b\b\b\b\b\b\b\b\b\b\b\b\b\b\b\b\b\b\b\b\b\b\b\b\b\b\b\b\b\b\r\u001b[1m3113/3113\u001b[0m \u001b[32m━━━━━━━━━━━━━━━━━━━━\u001b[0m\u001b[37m\u001b[0m \u001b[1m14s\u001b[0m 5ms/step - accuracy: 0.9715 - loss: 0.7574 - val_accuracy: 0.9611 - val_loss: 0.7380 - learning_rate: 2.0000e-05\n",
            "Epoch 99/200\n",
            "\u001b[1m3102/3113\u001b[0m \u001b[32m━━━━━━━━━━━━━━━━━━━\u001b[0m\u001b[37m━\u001b[0m \u001b[1m0s\u001b[0m 4ms/step - accuracy: 0.9733 - loss: 0.7489\n",
            "Epoch 99: val_loss improved from 0.73804 to 0.73428, saving model to best_cnn_2d_vnemos.h5\n"
          ]
        },
        {
          "output_type": "stream",
          "name": "stderr",
          "text": [
            "WARNING:absl:You are saving your model as an HDF5 file via `model.save()` or `keras.saving.save_model(model)`. This file format is considered legacy. We recommend using instead the native Keras format, e.g. `model.save('my_model.keras')` or `keras.saving.save_model(model, 'my_model.keras')`. \n"
          ]
        },
        {
          "output_type": "stream",
          "name": "stdout",
          "text": [
            "\b\b\b\b\b\b\b\b\b\b\b\b\b\b\b\b\b\b\b\b\b\b\b\b\b\b\b\b\b\b\b\b\b\b\b\b\b\b\b\b\b\b\b\b\b\b\b\b\b\b\b\b\b\b\b\b\b\b\b\b\b\b\b\b\b\b\b\b\b\b\b\b\b\b\b\b\r\u001b[1m3113/3113\u001b[0m \u001b[32m━━━━━━━━━━━━━━━━━━━━\u001b[0m\u001b[37m\u001b[0m \u001b[1m14s\u001b[0m 5ms/step - accuracy: 0.9733 - loss: 0.7489 - val_accuracy: 0.9605 - val_loss: 0.7343 - learning_rate: 2.0000e-05\n",
            "Epoch 100/200\n",
            "\u001b[1m3113/3113\u001b[0m \u001b[32m━━━━━━━━━━━━━━━━━━━━\u001b[0m\u001b[37m\u001b[0m \u001b[1m0s\u001b[0m 4ms/step - accuracy: 0.9745 - loss: 0.7408\n",
            "Epoch 100: val_loss improved from 0.73428 to 0.72331, saving model to best_cnn_2d_vnemos.h5\n"
          ]
        },
        {
          "output_type": "stream",
          "name": "stderr",
          "text": [
            "WARNING:absl:You are saving your model as an HDF5 file via `model.save()` or `keras.saving.save_model(model)`. This file format is considered legacy. We recommend using instead the native Keras format, e.g. `model.save('my_model.keras')` or `keras.saving.save_model(model, 'my_model.keras')`. \n"
          ]
        },
        {
          "output_type": "stream",
          "name": "stdout",
          "text": [
            "\b\b\b\b\b\b\b\b\b\b\b\b\b\b\b\b\b\b\b\b\b\b\b\b\b\b\b\b\b\b\b\b\b\b\b\b\b\b\b\b\b\b\b\b\b\b\b\b\b\b\b\b\b\b\b\b\b\b\b\b\b\b\b\b\b\b\b\b\b\b\b\b\b\b\b\b\r\u001b[1m3113/3113\u001b[0m \u001b[32m━━━━━━━━━━━━━━━━━━━━\u001b[0m\u001b[37m\u001b[0m \u001b[1m14s\u001b[0m 5ms/step - accuracy: 0.9745 - loss: 0.7408 - val_accuracy: 0.9643 - val_loss: 0.7233 - learning_rate: 2.0000e-05\n",
            "Epoch 101/200\n",
            "\u001b[1m3104/3113\u001b[0m \u001b[32m━━━━━━━━━━━━━━━━━━━\u001b[0m\u001b[37m━\u001b[0m \u001b[1m0s\u001b[0m 4ms/step - accuracy: 0.9749 - loss: 0.7339\n",
            "Epoch 101: val_loss improved from 0.72331 to 0.71691, saving model to best_cnn_2d_vnemos.h5\n"
          ]
        },
        {
          "output_type": "stream",
          "name": "stderr",
          "text": [
            "WARNING:absl:You are saving your model as an HDF5 file via `model.save()` or `keras.saving.save_model(model)`. This file format is considered legacy. We recommend using instead the native Keras format, e.g. `model.save('my_model.keras')` or `keras.saving.save_model(model, 'my_model.keras')`. \n"
          ]
        },
        {
          "output_type": "stream",
          "name": "stdout",
          "text": [
            "\b\b\b\b\b\b\b\b\b\b\b\b\b\b\b\b\b\b\b\b\b\b\b\b\b\b\b\b\b\b\b\b\b\b\b\b\b\b\b\b\b\b\b\b\b\b\b\b\b\b\b\b\b\b\b\b\b\b\b\b\b\b\b\b\b\b\b\b\b\b\b\b\b\b\b\b\r\u001b[1m3113/3113\u001b[0m \u001b[32m━━━━━━━━━━━━━━━━━━━━\u001b[0m\u001b[37m\u001b[0m \u001b[1m14s\u001b[0m 4ms/step - accuracy: 0.9749 - loss: 0.7339 - val_accuracy: 0.9657 - val_loss: 0.7169 - learning_rate: 2.0000e-05\n",
            "Epoch 102/200\n",
            "\u001b[1m3104/3113\u001b[0m \u001b[32m━━━━━━━━━━━━━━━━━━━\u001b[0m\u001b[37m━\u001b[0m \u001b[1m0s\u001b[0m 4ms/step - accuracy: 0.9757 - loss: 0.7269\n",
            "Epoch 102: val_loss improved from 0.71691 to 0.71273, saving model to best_cnn_2d_vnemos.h5\n"
          ]
        },
        {
          "output_type": "stream",
          "name": "stderr",
          "text": [
            "WARNING:absl:You are saving your model as an HDF5 file via `model.save()` or `keras.saving.save_model(model)`. This file format is considered legacy. We recommend using instead the native Keras format, e.g. `model.save('my_model.keras')` or `keras.saving.save_model(model, 'my_model.keras')`. \n"
          ]
        },
        {
          "output_type": "stream",
          "name": "stdout",
          "text": [
            "\b\b\b\b\b\b\b\b\b\b\b\b\b\b\b\b\b\b\b\b\b\b\b\b\b\b\b\b\b\b\b\b\b\b\b\b\b\b\b\b\b\b\b\b\b\b\b\b\b\b\b\b\b\b\b\b\b\b\b\b\b\b\b\b\b\b\b\b\b\b\b\b\b\b\b\b\r\u001b[1m3113/3113\u001b[0m \u001b[32m━━━━━━━━━━━━━━━━━━━━\u001b[0m\u001b[37m\u001b[0m \u001b[1m14s\u001b[0m 5ms/step - accuracy: 0.9757 - loss: 0.7269 - val_accuracy: 0.9652 - val_loss: 0.7127 - learning_rate: 2.0000e-05\n",
            "Epoch 103/200\n",
            "\u001b[1m3113/3113\u001b[0m \u001b[32m━━━━━━━━━━━━━━━━━━━━\u001b[0m\u001b[37m\u001b[0m \u001b[1m0s\u001b[0m 4ms/step - accuracy: 0.9756 - loss: 0.7225\n",
            "Epoch 103: val_loss improved from 0.71273 to 0.70643, saving model to best_cnn_2d_vnemos.h5\n"
          ]
        },
        {
          "output_type": "stream",
          "name": "stderr",
          "text": [
            "WARNING:absl:You are saving your model as an HDF5 file via `model.save()` or `keras.saving.save_model(model)`. This file format is considered legacy. We recommend using instead the native Keras format, e.g. `model.save('my_model.keras')` or `keras.saving.save_model(model, 'my_model.keras')`. \n"
          ]
        },
        {
          "output_type": "stream",
          "name": "stdout",
          "text": [
            "\b\b\b\b\b\b\b\b\b\b\b\b\b\b\b\b\b\b\b\b\b\b\b\b\b\b\b\b\b\b\b\b\b\b\b\b\b\b\b\b\b\b\b\b\b\b\b\b\b\b\b\b\b\b\b\b\b\b\b\b\b\b\b\b\b\b\b\b\b\b\b\b\b\b\b\b\r\u001b[1m3113/3113\u001b[0m \u001b[32m━━━━━━━━━━━━━━━━━━━━\u001b[0m\u001b[37m\u001b[0m \u001b[1m14s\u001b[0m 5ms/step - accuracy: 0.9756 - loss: 0.7225 - val_accuracy: 0.9661 - val_loss: 0.7064 - learning_rate: 2.0000e-05\n",
            "Epoch 104/200\n",
            "\u001b[1m3108/3113\u001b[0m \u001b[32m━━━━━━━━━━━━━━━━━━━\u001b[0m\u001b[37m━\u001b[0m \u001b[1m0s\u001b[0m 4ms/step - accuracy: 0.9773 - loss: 0.7156\n",
            "Epoch 104: val_loss improved from 0.70643 to 0.70406, saving model to best_cnn_2d_vnemos.h5\n"
          ]
        },
        {
          "output_type": "stream",
          "name": "stderr",
          "text": [
            "WARNING:absl:You are saving your model as an HDF5 file via `model.save()` or `keras.saving.save_model(model)`. This file format is considered legacy. We recommend using instead the native Keras format, e.g. `model.save('my_model.keras')` or `keras.saving.save_model(model, 'my_model.keras')`. \n"
          ]
        },
        {
          "output_type": "stream",
          "name": "stdout",
          "text": [
            "\b\b\b\b\b\b\b\b\b\b\b\b\b\b\b\b\b\b\b\b\b\b\b\b\b\b\b\b\b\b\b\b\b\b\b\b\b\b\b\b\b\b\b\b\b\b\b\b\b\b\b\b\b\b\b\b\b\b\b\b\b\b\b\b\b\b\b\b\b\b\b\b\b\b\b\b\r\u001b[1m3113/3113\u001b[0m \u001b[32m━━━━━━━━━━━━━━━━━━━━\u001b[0m\u001b[37m\u001b[0m \u001b[1m14s\u001b[0m 5ms/step - accuracy: 0.9773 - loss: 0.7156 - val_accuracy: 0.9654 - val_loss: 0.7041 - learning_rate: 2.0000e-05\n",
            "Epoch 105/200\n",
            "\u001b[1m3110/3113\u001b[0m \u001b[32m━━━━━━━━━━━━━━━━━━━\u001b[0m\u001b[37m━\u001b[0m \u001b[1m0s\u001b[0m 4ms/step - accuracy: 0.9770 - loss: 0.7104\n",
            "Epoch 105: val_loss improved from 0.70406 to 0.69901, saving model to best_cnn_2d_vnemos.h5\n"
          ]
        },
        {
          "output_type": "stream",
          "name": "stderr",
          "text": [
            "WARNING:absl:You are saving your model as an HDF5 file via `model.save()` or `keras.saving.save_model(model)`. This file format is considered legacy. We recommend using instead the native Keras format, e.g. `model.save('my_model.keras')` or `keras.saving.save_model(model, 'my_model.keras')`. \n"
          ]
        },
        {
          "output_type": "stream",
          "name": "stdout",
          "text": [
            "\b\b\b\b\b\b\b\b\b\b\b\b\b\b\b\b\b\b\b\b\b\b\b\b\b\b\b\b\b\b\b\b\b\b\b\b\b\b\b\b\b\b\b\b\b\b\b\b\b\b\b\b\b\b\b\b\b\b\b\b\b\b\b\b\b\b\b\b\b\b\b\b\b\b\b\b\r\u001b[1m3113/3113\u001b[0m \u001b[32m━━━━━━━━━━━━━━━━━━━━\u001b[0m\u001b[37m\u001b[0m \u001b[1m14s\u001b[0m 5ms/step - accuracy: 0.9770 - loss: 0.7104 - val_accuracy: 0.9660 - val_loss: 0.6990 - learning_rate: 2.0000e-05\n",
            "Epoch 106/200\n",
            "\u001b[1m3109/3113\u001b[0m \u001b[32m━━━━━━━━━━━━━━━━━━━\u001b[0m\u001b[37m━\u001b[0m \u001b[1m0s\u001b[0m 4ms/step - accuracy: 0.9779 - loss: 0.7060\n",
            "Epoch 106: val_loss improved from 0.69901 to 0.69758, saving model to best_cnn_2d_vnemos.h5\n"
          ]
        },
        {
          "output_type": "stream",
          "name": "stderr",
          "text": [
            "WARNING:absl:You are saving your model as an HDF5 file via `model.save()` or `keras.saving.save_model(model)`. This file format is considered legacy. We recommend using instead the native Keras format, e.g. `model.save('my_model.keras')` or `keras.saving.save_model(model, 'my_model.keras')`. \n"
          ]
        },
        {
          "output_type": "stream",
          "name": "stdout",
          "text": [
            "\b\b\b\b\b\b\b\b\b\b\b\b\b\b\b\b\b\b\b\b\b\b\b\b\b\b\b\b\b\b\b\b\b\b\b\b\b\b\b\b\b\b\b\b\b\b\b\b\b\b\b\b\b\b\b\b\b\b\b\b\b\b\b\b\b\b\b\b\b\b\b\b\b\b\b\b\r\u001b[1m3113/3113\u001b[0m \u001b[32m━━━━━━━━━━━━━━━━━━━━\u001b[0m\u001b[37m\u001b[0m \u001b[1m14s\u001b[0m 5ms/step - accuracy: 0.9779 - loss: 0.7060 - val_accuracy: 0.9642 - val_loss: 0.6976 - learning_rate: 2.0000e-05\n",
            "Epoch 107/200\n",
            "\u001b[1m3108/3113\u001b[0m \u001b[32m━━━━━━━━━━━━━━━━━━━\u001b[0m\u001b[37m━\u001b[0m \u001b[1m0s\u001b[0m 4ms/step - accuracy: 0.9790 - loss: 0.7014\n",
            "Epoch 107: val_loss improved from 0.69758 to 0.69169, saving model to best_cnn_2d_vnemos.h5\n"
          ]
        },
        {
          "output_type": "stream",
          "name": "stderr",
          "text": [
            "WARNING:absl:You are saving your model as an HDF5 file via `model.save()` or `keras.saving.save_model(model)`. This file format is considered legacy. We recommend using instead the native Keras format, e.g. `model.save('my_model.keras')` or `keras.saving.save_model(model, 'my_model.keras')`. \n"
          ]
        },
        {
          "output_type": "stream",
          "name": "stdout",
          "text": [
            "\b\b\b\b\b\b\b\b\b\b\b\b\b\b\b\b\b\b\b\b\b\b\b\b\b\b\b\b\b\b\b\b\b\b\b\b\b\b\b\b\b\b\b\b\b\b\b\b\b\b\b\b\b\b\b\b\b\b\b\b\b\b\b\b\b\b\b\b\b\b\b\b\b\b\b\b\r\u001b[1m3113/3113\u001b[0m \u001b[32m━━━━━━━━━━━━━━━━━━━━\u001b[0m\u001b[37m\u001b[0m \u001b[1m14s\u001b[0m 5ms/step - accuracy: 0.9790 - loss: 0.7014 - val_accuracy: 0.9663 - val_loss: 0.6917 - learning_rate: 2.0000e-05\n",
            "Epoch 108/200\n",
            "\u001b[1m3104/3113\u001b[0m \u001b[32m━━━━━━━━━━━━━━━━━━━\u001b[0m\u001b[37m━\u001b[0m \u001b[1m0s\u001b[0m 4ms/step - accuracy: 0.9810 - loss: 0.6952\n",
            "Epoch 108: val_loss improved from 0.69169 to 0.68584, saving model to best_cnn_2d_vnemos.h5\n"
          ]
        },
        {
          "output_type": "stream",
          "name": "stderr",
          "text": [
            "WARNING:absl:You are saving your model as an HDF5 file via `model.save()` or `keras.saving.save_model(model)`. This file format is considered legacy. We recommend using instead the native Keras format, e.g. `model.save('my_model.keras')` or `keras.saving.save_model(model, 'my_model.keras')`. \n"
          ]
        },
        {
          "output_type": "stream",
          "name": "stdout",
          "text": [
            "\b\b\b\b\b\b\b\b\b\b\b\b\b\b\b\b\b\b\b\b\b\b\b\b\b\b\b\b\b\b\b\b\b\b\b\b\b\b\b\b\b\b\b\b\b\b\b\b\b\b\b\b\b\b\b\b\b\b\b\b\b\b\b\b\b\b\b\b\b\b\b\b\b\b\b\b\r\u001b[1m3113/3113\u001b[0m \u001b[32m━━━━━━━━━━━━━━━━━━━━\u001b[0m\u001b[37m\u001b[0m \u001b[1m14s\u001b[0m 5ms/step - accuracy: 0.9810 - loss: 0.6952 - val_accuracy: 0.9672 - val_loss: 0.6858 - learning_rate: 2.0000e-05\n",
            "Epoch 109/200\n",
            "\u001b[1m3102/3113\u001b[0m \u001b[32m━━━━━━━━━━━━━━━━━━━\u001b[0m\u001b[37m━\u001b[0m \u001b[1m0s\u001b[0m 4ms/step - accuracy: 0.9793 - loss: 0.6933\n",
            "Epoch 109: val_loss improved from 0.68584 to 0.68529, saving model to best_cnn_2d_vnemos.h5\n"
          ]
        },
        {
          "output_type": "stream",
          "name": "stderr",
          "text": [
            "WARNING:absl:You are saving your model as an HDF5 file via `model.save()` or `keras.saving.save_model(model)`. This file format is considered legacy. We recommend using instead the native Keras format, e.g. `model.save('my_model.keras')` or `keras.saving.save_model(model, 'my_model.keras')`. \n"
          ]
        },
        {
          "output_type": "stream",
          "name": "stdout",
          "text": [
            "\b\b\b\b\b\b\b\b\b\b\b\b\b\b\b\b\b\b\b\b\b\b\b\b\b\b\b\b\b\b\b\b\b\b\b\b\b\b\b\b\b\b\b\b\b\b\b\b\b\b\b\b\b\b\b\b\b\b\b\b\b\b\b\b\b\b\b\b\b\b\b\b\b\b\b\b\r\u001b[1m3113/3113\u001b[0m \u001b[32m━━━━━━━━━━━━━━━━━━━━\u001b[0m\u001b[37m\u001b[0m \u001b[1m14s\u001b[0m 5ms/step - accuracy: 0.9793 - loss: 0.6933 - val_accuracy: 0.9662 - val_loss: 0.6853 - learning_rate: 2.0000e-05\n",
            "Epoch 110/200\n",
            "\u001b[1m3108/3113\u001b[0m \u001b[32m━━━━━━━━━━━━━━━━━━━\u001b[0m\u001b[37m━\u001b[0m \u001b[1m0s\u001b[0m 4ms/step - accuracy: 0.9804 - loss: 0.6892\n",
            "Epoch 110: val_loss improved from 0.68529 to 0.68004, saving model to best_cnn_2d_vnemos.h5\n"
          ]
        },
        {
          "output_type": "stream",
          "name": "stderr",
          "text": [
            "WARNING:absl:You are saving your model as an HDF5 file via `model.save()` or `keras.saving.save_model(model)`. This file format is considered legacy. We recommend using instead the native Keras format, e.g. `model.save('my_model.keras')` or `keras.saving.save_model(model, 'my_model.keras')`. \n"
          ]
        },
        {
          "output_type": "stream",
          "name": "stdout",
          "text": [
            "\b\b\b\b\b\b\b\b\b\b\b\b\b\b\b\b\b\b\b\b\b\b\b\b\b\b\b\b\b\b\b\b\b\b\b\b\b\b\b\b\b\b\b\b\b\b\b\b\b\b\b\b\b\b\b\b\b\b\b\b\b\b\b\b\b\b\b\b\b\b\b\b\b\b\b\b\r\u001b[1m3113/3113\u001b[0m \u001b[32m━━━━━━━━━━━━━━━━━━━━\u001b[0m\u001b[37m\u001b[0m \u001b[1m14s\u001b[0m 4ms/step - accuracy: 0.9804 - loss: 0.6892 - val_accuracy: 0.9682 - val_loss: 0.6800 - learning_rate: 2.0000e-05\n",
            "Epoch 111/200\n",
            "\u001b[1m3103/3113\u001b[0m \u001b[32m━━━━━━━━━━━━━━━━━━━\u001b[0m\u001b[37m━\u001b[0m \u001b[1m0s\u001b[0m 4ms/step - accuracy: 0.9794 - loss: 0.6870\n",
            "Epoch 111: val_loss did not improve from 0.68004\n",
            "\u001b[1m3113/3113\u001b[0m \u001b[32m━━━━━━━━━━━━━━━━━━━━\u001b[0m\u001b[37m\u001b[0m \u001b[1m14s\u001b[0m 4ms/step - accuracy: 0.9794 - loss: 0.6870 - val_accuracy: 0.9655 - val_loss: 0.6824 - learning_rate: 2.0000e-05\n",
            "Epoch 112/200\n",
            "\u001b[1m3105/3113\u001b[0m \u001b[32m━━━━━━━━━━━━━━━━━━━\u001b[0m\u001b[37m━\u001b[0m \u001b[1m0s\u001b[0m 4ms/step - accuracy: 0.9797 - loss: 0.6836\n",
            "Epoch 112: val_loss improved from 0.68004 to 0.67755, saving model to best_cnn_2d_vnemos.h5\n"
          ]
        },
        {
          "output_type": "stream",
          "name": "stderr",
          "text": [
            "WARNING:absl:You are saving your model as an HDF5 file via `model.save()` or `keras.saving.save_model(model)`. This file format is considered legacy. We recommend using instead the native Keras format, e.g. `model.save('my_model.keras')` or `keras.saving.save_model(model, 'my_model.keras')`. \n"
          ]
        },
        {
          "output_type": "stream",
          "name": "stdout",
          "text": [
            "\b\b\b\b\b\b\b\b\b\b\b\b\b\b\b\b\b\b\b\b\b\b\b\b\b\b\b\b\b\b\b\b\b\b\b\b\b\b\b\b\b\b\b\b\b\b\b\b\b\b\b\b\b\b\b\b\b\b\b\b\b\b\b\b\b\b\b\b\b\b\b\b\b\b\b\b\r\u001b[1m3113/3113\u001b[0m \u001b[32m━━━━━━━━━━━━━━━━━━━━\u001b[0m\u001b[37m\u001b[0m \u001b[1m14s\u001b[0m 5ms/step - accuracy: 0.9797 - loss: 0.6836 - val_accuracy: 0.9663 - val_loss: 0.6775 - learning_rate: 2.0000e-05\n",
            "Epoch 113/200\n",
            "\u001b[1m3107/3113\u001b[0m \u001b[32m━━━━━━━━━━━━━━━━━━━\u001b[0m\u001b[37m━\u001b[0m \u001b[1m0s\u001b[0m 4ms/step - accuracy: 0.9803 - loss: 0.6808\n",
            "Epoch 113: val_loss improved from 0.67755 to 0.67641, saving model to best_cnn_2d_vnemos.h5\n"
          ]
        },
        {
          "output_type": "stream",
          "name": "stderr",
          "text": [
            "WARNING:absl:You are saving your model as an HDF5 file via `model.save()` or `keras.saving.save_model(model)`. This file format is considered legacy. We recommend using instead the native Keras format, e.g. `model.save('my_model.keras')` or `keras.saving.save_model(model, 'my_model.keras')`. \n"
          ]
        },
        {
          "output_type": "stream",
          "name": "stdout",
          "text": [
            "\b\b\b\b\b\b\b\b\b\b\b\b\b\b\b\b\b\b\b\b\b\b\b\b\b\b\b\b\b\b\b\b\b\b\b\b\b\b\b\b\b\b\b\b\b\b\b\b\b\b\b\b\b\b\b\b\b\b\b\b\b\b\b\b\b\b\b\b\b\b\b\b\b\b\b\b\r\u001b[1m3113/3113\u001b[0m \u001b[32m━━━━━━━━━━━━━━━━━━━━\u001b[0m\u001b[37m\u001b[0m \u001b[1m14s\u001b[0m 5ms/step - accuracy: 0.9803 - loss: 0.6808 - val_accuracy: 0.9651 - val_loss: 0.6764 - learning_rate: 2.0000e-05\n",
            "Epoch 114/200\n",
            "\u001b[1m3111/3113\u001b[0m \u001b[32m━━━━━━━━━━━━━━━━━━━\u001b[0m\u001b[37m━\u001b[0m \u001b[1m0s\u001b[0m 4ms/step - accuracy: 0.9811 - loss: 0.6778\n",
            "Epoch 114: val_loss improved from 0.67641 to 0.67204, saving model to best_cnn_2d_vnemos.h5\n"
          ]
        },
        {
          "output_type": "stream",
          "name": "stderr",
          "text": [
            "WARNING:absl:You are saving your model as an HDF5 file via `model.save()` or `keras.saving.save_model(model)`. This file format is considered legacy. We recommend using instead the native Keras format, e.g. `model.save('my_model.keras')` or `keras.saving.save_model(model, 'my_model.keras')`. \n"
          ]
        },
        {
          "output_type": "stream",
          "name": "stdout",
          "text": [
            "\b\b\b\b\b\b\b\b\b\b\b\b\b\b\b\b\b\b\b\b\b\b\b\b\b\b\b\b\b\b\b\b\b\b\b\b\b\b\b\b\b\b\b\b\b\b\b\b\b\b\b\b\b\b\b\b\b\b\b\b\b\b\b\b\b\b\b\b\b\b\b\b\b\b\b\b\r\u001b[1m3113/3113\u001b[0m \u001b[32m━━━━━━━━━━━━━━━━━━━━\u001b[0m\u001b[37m\u001b[0m \u001b[1m14s\u001b[0m 5ms/step - accuracy: 0.9811 - loss: 0.6778 - val_accuracy: 0.9655 - val_loss: 0.6720 - learning_rate: 2.0000e-05\n",
            "Epoch 115/200\n",
            "\u001b[1m3106/3113\u001b[0m \u001b[32m━━━━━━━━━━━━━━━━━━━\u001b[0m\u001b[37m━\u001b[0m \u001b[1m0s\u001b[0m 4ms/step - accuracy: 0.9823 - loss: 0.6735\n",
            "Epoch 115: val_loss improved from 0.67204 to 0.66774, saving model to best_cnn_2d_vnemos.h5\n"
          ]
        },
        {
          "output_type": "stream",
          "name": "stderr",
          "text": [
            "WARNING:absl:You are saving your model as an HDF5 file via `model.save()` or `keras.saving.save_model(model)`. This file format is considered legacy. We recommend using instead the native Keras format, e.g. `model.save('my_model.keras')` or `keras.saving.save_model(model, 'my_model.keras')`. \n"
          ]
        },
        {
          "output_type": "stream",
          "name": "stdout",
          "text": [
            "\b\b\b\b\b\b\b\b\b\b\b\b\b\b\b\b\b\b\b\b\b\b\b\b\b\b\b\b\b\b\b\b\b\b\b\b\b\b\b\b\b\b\b\b\b\b\b\b\b\b\b\b\b\b\b\b\b\b\b\b\b\b\b\b\b\b\b\b\b\b\b\b\b\b\b\b\r\u001b[1m3113/3113\u001b[0m \u001b[32m━━━━━━━━━━━━━━━━━━━━\u001b[0m\u001b[37m\u001b[0m \u001b[1m14s\u001b[0m 4ms/step - accuracy: 0.9823 - loss: 0.6735 - val_accuracy: 0.9661 - val_loss: 0.6677 - learning_rate: 2.0000e-05\n",
            "Epoch 116/200\n",
            "\u001b[1m3106/3113\u001b[0m \u001b[32m━━━━━━━━━━━━━━━━━━━\u001b[0m\u001b[37m━\u001b[0m \u001b[1m0s\u001b[0m 4ms/step - accuracy: 0.9803 - loss: 0.6737\n",
            "Epoch 116: val_loss did not improve from 0.66774\n",
            "\u001b[1m3113/3113\u001b[0m \u001b[32m━━━━━━━━━━━━━━━━━━━━\u001b[0m\u001b[37m\u001b[0m \u001b[1m14s\u001b[0m 4ms/step - accuracy: 0.9803 - loss: 0.6737 - val_accuracy: 0.9660 - val_loss: 0.6679 - learning_rate: 2.0000e-05\n",
            "Epoch 117/200\n",
            "\u001b[1m3108/3113\u001b[0m \u001b[32m━━━━━━━━━━━━━━━━━━━\u001b[0m\u001b[37m━\u001b[0m \u001b[1m0s\u001b[0m 4ms/step - accuracy: 0.9828 - loss: 0.6696\n",
            "Epoch 117: val_loss improved from 0.66774 to 0.66408, saving model to best_cnn_2d_vnemos.h5\n"
          ]
        },
        {
          "output_type": "stream",
          "name": "stderr",
          "text": [
            "WARNING:absl:You are saving your model as an HDF5 file via `model.save()` or `keras.saving.save_model(model)`. This file format is considered legacy. We recommend using instead the native Keras format, e.g. `model.save('my_model.keras')` or `keras.saving.save_model(model, 'my_model.keras')`. \n"
          ]
        },
        {
          "output_type": "stream",
          "name": "stdout",
          "text": [
            "\b\b\b\b\b\b\b\b\b\b\b\b\b\b\b\b\b\b\b\b\b\b\b\b\b\b\b\b\b\b\b\b\b\b\b\b\b\b\b\b\b\b\b\b\b\b\b\b\b\b\b\b\b\b\b\b\b\b\b\b\b\b\b\b\b\b\b\b\b\b\b\b\b\b\b\b\r\u001b[1m3113/3113\u001b[0m \u001b[32m━━━━━━━━━━━━━━━━━━━━\u001b[0m\u001b[37m\u001b[0m \u001b[1m14s\u001b[0m 5ms/step - accuracy: 0.9828 - loss: 0.6696 - val_accuracy: 0.9666 - val_loss: 0.6641 - learning_rate: 2.0000e-05\n",
            "Epoch 118/200\n",
            "\u001b[1m3104/3113\u001b[0m \u001b[32m━━━━━━━━━━━━━━━━━━━\u001b[0m\u001b[37m━\u001b[0m \u001b[1m0s\u001b[0m 4ms/step - accuracy: 0.9822 - loss: 0.6662\n",
            "Epoch 118: val_loss did not improve from 0.66408\n",
            "\u001b[1m3113/3113\u001b[0m \u001b[32m━━━━━━━━━━━━━━━━━━━━\u001b[0m\u001b[37m\u001b[0m \u001b[1m14s\u001b[0m 4ms/step - accuracy: 0.9822 - loss: 0.6663 - val_accuracy: 0.9659 - val_loss: 0.6679 - learning_rate: 2.0000e-05\n",
            "Epoch 119/200\n",
            "\u001b[1m3106/3113\u001b[0m \u001b[32m━━━━━━━━━━━━━━━━━━━\u001b[0m\u001b[37m━\u001b[0m \u001b[1m0s\u001b[0m 4ms/step - accuracy: 0.9830 - loss: 0.6633\n",
            "Epoch 119: val_loss improved from 0.66408 to 0.66318, saving model to best_cnn_2d_vnemos.h5\n"
          ]
        },
        {
          "output_type": "stream",
          "name": "stderr",
          "text": [
            "WARNING:absl:You are saving your model as an HDF5 file via `model.save()` or `keras.saving.save_model(model)`. This file format is considered legacy. We recommend using instead the native Keras format, e.g. `model.save('my_model.keras')` or `keras.saving.save_model(model, 'my_model.keras')`. \n"
          ]
        },
        {
          "output_type": "stream",
          "name": "stdout",
          "text": [
            "\b\b\b\b\b\b\b\b\b\b\b\b\b\b\b\b\b\b\b\b\b\b\b\b\b\b\b\b\b\b\b\b\b\b\b\b\b\b\b\b\b\b\b\b\b\b\b\b\b\b\b\b\b\b\b\b\b\b\b\b\b\b\b\b\b\b\b\b\b\b\b\b\b\b\b\b\r\u001b[1m3113/3113\u001b[0m \u001b[32m━━━━━━━━━━━━━━━━━━━━\u001b[0m\u001b[37m\u001b[0m \u001b[1m14s\u001b[0m 5ms/step - accuracy: 0.9830 - loss: 0.6633 - val_accuracy: 0.9669 - val_loss: 0.6632 - learning_rate: 2.0000e-05\n",
            "Epoch 120/200\n",
            "\u001b[1m3112/3113\u001b[0m \u001b[32m━━━━━━━━━━━━━━━━━━━\u001b[0m\u001b[37m━\u001b[0m \u001b[1m0s\u001b[0m 4ms/step - accuracy: 0.9818 - loss: 0.6618\n",
            "Epoch 120: val_loss improved from 0.66318 to 0.66012, saving model to best_cnn_2d_vnemos.h5\n"
          ]
        },
        {
          "output_type": "stream",
          "name": "stderr",
          "text": [
            "WARNING:absl:You are saving your model as an HDF5 file via `model.save()` or `keras.saving.save_model(model)`. This file format is considered legacy. We recommend using instead the native Keras format, e.g. `model.save('my_model.keras')` or `keras.saving.save_model(model, 'my_model.keras')`. \n"
          ]
        },
        {
          "output_type": "stream",
          "name": "stdout",
          "text": [
            "\b\b\b\b\b\b\b\b\b\b\b\b\b\b\b\b\b\b\b\b\b\b\b\b\b\b\b\b\b\b\b\b\b\b\b\b\b\b\b\b\b\b\b\b\b\b\b\b\b\b\b\b\b\b\b\b\b\b\b\b\b\b\b\b\b\b\b\b\b\b\b\b\b\b\b\b\r\u001b[1m3113/3113\u001b[0m \u001b[32m━━━━━━━━━━━━━━━━━━━━\u001b[0m\u001b[37m\u001b[0m \u001b[1m14s\u001b[0m 4ms/step - accuracy: 0.9818 - loss: 0.6618 - val_accuracy: 0.9667 - val_loss: 0.6601 - learning_rate: 2.0000e-05\n",
            "Epoch 121/200\n",
            "\u001b[1m3101/3113\u001b[0m \u001b[32m━━━━━━━━━━━━━━━━━━━\u001b[0m\u001b[37m━\u001b[0m \u001b[1m0s\u001b[0m 4ms/step - accuracy: 0.9815 - loss: 0.6614\n",
            "Epoch 121: val_loss did not improve from 0.66012\n",
            "\u001b[1m3113/3113\u001b[0m \u001b[32m━━━━━━━━━━━━━━━━━━━━\u001b[0m\u001b[37m\u001b[0m \u001b[1m14s\u001b[0m 4ms/step - accuracy: 0.9815 - loss: 0.6614 - val_accuracy: 0.9642 - val_loss: 0.6613 - learning_rate: 2.0000e-05\n",
            "Epoch 122/200\n",
            "\u001b[1m3104/3113\u001b[0m \u001b[32m━━━━━━━━━━━━━━━━━━━\u001b[0m\u001b[37m━\u001b[0m \u001b[1m0s\u001b[0m 4ms/step - accuracy: 0.9833 - loss: 0.6593\n",
            "Epoch 122: val_loss improved from 0.66012 to 0.65833, saving model to best_cnn_2d_vnemos.h5\n"
          ]
        },
        {
          "output_type": "stream",
          "name": "stderr",
          "text": [
            "WARNING:absl:You are saving your model as an HDF5 file via `model.save()` or `keras.saving.save_model(model)`. This file format is considered legacy. We recommend using instead the native Keras format, e.g. `model.save('my_model.keras')` or `keras.saving.save_model(model, 'my_model.keras')`. \n"
          ]
        },
        {
          "output_type": "stream",
          "name": "stdout",
          "text": [
            "\b\b\b\b\b\b\b\b\b\b\b\b\b\b\b\b\b\b\b\b\b\b\b\b\b\b\b\b\b\b\b\b\b\b\b\b\b\b\b\b\b\b\b\b\b\b\b\b\b\b\b\b\b\b\b\b\b\b\b\b\b\b\b\b\b\b\b\b\b\b\b\b\b\b\b\b\r\u001b[1m3113/3113\u001b[0m \u001b[32m━━━━━━━━━━━━━━━━━━━━\u001b[0m\u001b[37m\u001b[0m \u001b[1m14s\u001b[0m 4ms/step - accuracy: 0.9833 - loss: 0.6593 - val_accuracy: 0.9669 - val_loss: 0.6583 - learning_rate: 2.0000e-05\n",
            "Epoch 123/200\n",
            "\u001b[1m3112/3113\u001b[0m \u001b[32m━━━━━━━━━━━━━━━━━━━\u001b[0m\u001b[37m━\u001b[0m \u001b[1m0s\u001b[0m 4ms/step - accuracy: 0.9834 - loss: 0.6567\n",
            "Epoch 123: val_loss improved from 0.65833 to 0.65285, saving model to best_cnn_2d_vnemos.h5\n"
          ]
        },
        {
          "output_type": "stream",
          "name": "stderr",
          "text": [
            "WARNING:absl:You are saving your model as an HDF5 file via `model.save()` or `keras.saving.save_model(model)`. This file format is considered legacy. We recommend using instead the native Keras format, e.g. `model.save('my_model.keras')` or `keras.saving.save_model(model, 'my_model.keras')`. \n"
          ]
        },
        {
          "output_type": "stream",
          "name": "stdout",
          "text": [
            "\b\b\b\b\b\b\b\b\b\b\b\b\b\b\b\b\b\b\b\b\b\b\b\b\b\b\b\b\b\b\b\b\b\b\b\b\b\b\b\b\b\b\b\b\b\b\b\b\b\b\b\b\b\b\b\b\b\b\b\b\b\b\b\b\b\b\b\b\b\b\b\b\b\b\b\b\r\u001b[1m3113/3113\u001b[0m \u001b[32m━━━━━━━━━━━━━━━━━━━━\u001b[0m\u001b[37m\u001b[0m \u001b[1m14s\u001b[0m 4ms/step - accuracy: 0.9834 - loss: 0.6567 - val_accuracy: 0.9685 - val_loss: 0.6528 - learning_rate: 2.0000e-05\n",
            "Epoch 124/200\n",
            "\u001b[1m3100/3113\u001b[0m \u001b[32m━━━━━━━━━━━━━━━━━━━\u001b[0m\u001b[37m━\u001b[0m \u001b[1m0s\u001b[0m 4ms/step - accuracy: 0.9825 - loss: 0.6559\n",
            "Epoch 124: val_loss did not improve from 0.65285\n",
            "\u001b[1m3113/3113\u001b[0m \u001b[32m━━━━━━━━━━━━━━━━━━━━\u001b[0m\u001b[37m\u001b[0m \u001b[1m14s\u001b[0m 4ms/step - accuracy: 0.9825 - loss: 0.6559 - val_accuracy: 0.9674 - val_loss: 0.6543 - learning_rate: 2.0000e-05\n",
            "Epoch 125/200\n",
            "\u001b[1m3110/3113\u001b[0m \u001b[32m━━━━━━━━━━━━━━━━━━━\u001b[0m\u001b[37m━\u001b[0m \u001b[1m0s\u001b[0m 4ms/step - accuracy: 0.9830 - loss: 0.6542\n",
            "Epoch 125: val_loss improved from 0.65285 to 0.64939, saving model to best_cnn_2d_vnemos.h5\n"
          ]
        },
        {
          "output_type": "stream",
          "name": "stderr",
          "text": [
            "WARNING:absl:You are saving your model as an HDF5 file via `model.save()` or `keras.saving.save_model(model)`. This file format is considered legacy. We recommend using instead the native Keras format, e.g. `model.save('my_model.keras')` or `keras.saving.save_model(model, 'my_model.keras')`. \n"
          ]
        },
        {
          "output_type": "stream",
          "name": "stdout",
          "text": [
            "\b\b\b\b\b\b\b\b\b\b\b\b\b\b\b\b\b\b\b\b\b\b\b\b\b\b\b\b\b\b\b\b\b\b\b\b\b\b\b\b\b\b\b\b\b\b\b\b\b\b\b\b\b\b\b\b\b\b\b\b\b\b\b\b\b\b\b\b\b\b\b\b\b\b\b\b\r\u001b[1m3113/3113\u001b[0m \u001b[32m━━━━━━━━━━━━━━━━━━━━\u001b[0m\u001b[37m\u001b[0m \u001b[1m14s\u001b[0m 5ms/step - accuracy: 0.9830 - loss: 0.6542 - val_accuracy: 0.9692 - val_loss: 0.6494 - learning_rate: 2.0000e-05\n",
            "Epoch 126/200\n",
            "\u001b[1m3102/3113\u001b[0m \u001b[32m━━━━━━━━━━━━━━━━━━━\u001b[0m\u001b[37m━\u001b[0m \u001b[1m0s\u001b[0m 4ms/step - accuracy: 0.9831 - loss: 0.6513\n",
            "Epoch 126: val_loss did not improve from 0.64939\n",
            "\u001b[1m3113/3113\u001b[0m \u001b[32m━━━━━━━━━━━━━━━━━━━━\u001b[0m\u001b[37m\u001b[0m \u001b[1m14s\u001b[0m 5ms/step - accuracy: 0.9831 - loss: 0.6513 - val_accuracy: 0.9663 - val_loss: 0.6548 - learning_rate: 2.0000e-05\n",
            "Epoch 127/200\n",
            "\u001b[1m3105/3113\u001b[0m \u001b[32m━━━━━━━━━━━━━━━━━━━\u001b[0m\u001b[37m━\u001b[0m \u001b[1m0s\u001b[0m 4ms/step - accuracy: 0.9840 - loss: 0.6497\n",
            "Epoch 127: val_loss did not improve from 0.64939\n",
            "\u001b[1m3113/3113\u001b[0m \u001b[32m━━━━━━━━━━━━━━━━━━━━\u001b[0m\u001b[37m\u001b[0m \u001b[1m14s\u001b[0m 5ms/step - accuracy: 0.9840 - loss: 0.6497 - val_accuracy: 0.9679 - val_loss: 0.6526 - learning_rate: 2.0000e-05\n",
            "Epoch 128/200\n",
            "\u001b[1m3106/3113\u001b[0m \u001b[32m━━━━━━━━━━━━━━━━━━━\u001b[0m\u001b[37m━\u001b[0m \u001b[1m0s\u001b[0m 4ms/step - accuracy: 0.9832 - loss: 0.6500\n",
            "Epoch 128: val_loss improved from 0.64939 to 0.64851, saving model to best_cnn_2d_vnemos.h5\n"
          ]
        },
        {
          "output_type": "stream",
          "name": "stderr",
          "text": [
            "WARNING:absl:You are saving your model as an HDF5 file via `model.save()` or `keras.saving.save_model(model)`. This file format is considered legacy. We recommend using instead the native Keras format, e.g. `model.save('my_model.keras')` or `keras.saving.save_model(model, 'my_model.keras')`. \n"
          ]
        },
        {
          "output_type": "stream",
          "name": "stdout",
          "text": [
            "\b\b\b\b\b\b\b\b\b\b\b\b\b\b\b\b\b\b\b\b\b\b\b\b\b\b\b\b\b\b\b\b\b\b\b\b\b\b\b\b\b\b\b\b\b\b\b\b\b\b\b\b\b\b\b\b\b\b\b\b\b\b\b\b\b\b\b\b\b\b\b\b\b\b\b\b\r\u001b[1m3113/3113\u001b[0m \u001b[32m━━━━━━━━━━━━━━━━━━━━\u001b[0m\u001b[37m\u001b[0m \u001b[1m14s\u001b[0m 4ms/step - accuracy: 0.9832 - loss: 0.6500 - val_accuracy: 0.9670 - val_loss: 0.6485 - learning_rate: 2.0000e-05\n",
            "Epoch 129/200\n",
            "\u001b[1m3112/3113\u001b[0m \u001b[32m━━━━━━━━━━━━━━━━━━━\u001b[0m\u001b[37m━\u001b[0m \u001b[1m0s\u001b[0m 4ms/step - accuracy: 0.9844 - loss: 0.6466\n",
            "Epoch 129: val_loss did not improve from 0.64851\n",
            "\u001b[1m3113/3113\u001b[0m \u001b[32m━━━━━━━━━━━━━━━━━━━━\u001b[0m\u001b[37m\u001b[0m \u001b[1m14s\u001b[0m 4ms/step - accuracy: 0.9844 - loss: 0.6466 - val_accuracy: 0.9660 - val_loss: 0.6501 - learning_rate: 2.0000e-05\n",
            "Epoch 130/200\n",
            "\u001b[1m3110/3113\u001b[0m \u001b[32m━━━━━━━━━━━━━━━━━━━\u001b[0m\u001b[37m━\u001b[0m \u001b[1m0s\u001b[0m 4ms/step - accuracy: 0.9826 - loss: 0.6491\n",
            "Epoch 130: val_loss improved from 0.64851 to 0.64576, saving model to best_cnn_2d_vnemos.h5\n"
          ]
        },
        {
          "output_type": "stream",
          "name": "stderr",
          "text": [
            "WARNING:absl:You are saving your model as an HDF5 file via `model.save()` or `keras.saving.save_model(model)`. This file format is considered legacy. We recommend using instead the native Keras format, e.g. `model.save('my_model.keras')` or `keras.saving.save_model(model, 'my_model.keras')`. \n"
          ]
        },
        {
          "output_type": "stream",
          "name": "stdout",
          "text": [
            "\b\b\b\b\b\b\b\b\b\b\b\b\b\b\b\b\b\b\b\b\b\b\b\b\b\b\b\b\b\b\b\b\b\b\b\b\b\b\b\b\b\b\b\b\b\b\b\b\b\b\b\b\b\b\b\b\b\b\b\b\b\b\b\b\b\b\b\b\b\b\b\b\b\b\b\b\r\u001b[1m3113/3113\u001b[0m \u001b[32m━━━━━━━━━━━━━━━━━━━━\u001b[0m\u001b[37m\u001b[0m \u001b[1m14s\u001b[0m 4ms/step - accuracy: 0.9826 - loss: 0.6491 - val_accuracy: 0.9682 - val_loss: 0.6458 - learning_rate: 2.0000e-05\n",
            "Epoch 131/200\n",
            "\u001b[1m3104/3113\u001b[0m \u001b[32m━━━━━━━━━━━━━━━━━━━\u001b[0m\u001b[37m━\u001b[0m \u001b[1m0s\u001b[0m 4ms/step - accuracy: 0.9842 - loss: 0.6457\n",
            "Epoch 131: val_loss did not improve from 0.64576\n",
            "\u001b[1m3113/3113\u001b[0m \u001b[32m━━━━━━━━━━━━━━━━━━━━\u001b[0m\u001b[37m\u001b[0m \u001b[1m14s\u001b[0m 4ms/step - accuracy: 0.9842 - loss: 0.6457 - val_accuracy: 0.9670 - val_loss: 0.6478 - learning_rate: 2.0000e-05\n",
            "Epoch 132/200\n",
            "\u001b[1m3109/3113\u001b[0m \u001b[32m━━━━━━━━━━━━━━━━━━━\u001b[0m\u001b[37m━\u001b[0m \u001b[1m0s\u001b[0m 4ms/step - accuracy: 0.9822 - loss: 0.6457\n",
            "Epoch 132: val_loss did not improve from 0.64576\n",
            "\u001b[1m3113/3113\u001b[0m \u001b[32m━━━━━━━━━━━━━━━━━━━━\u001b[0m\u001b[37m\u001b[0m \u001b[1m14s\u001b[0m 4ms/step - accuracy: 0.9822 - loss: 0.6457 - val_accuracy: 0.9670 - val_loss: 0.6492 - learning_rate: 2.0000e-05\n",
            "Epoch 133/200\n",
            "\u001b[1m3111/3113\u001b[0m \u001b[32m━━━━━━━━━━━━━━━━━━━\u001b[0m\u001b[37m━\u001b[0m \u001b[1m0s\u001b[0m 4ms/step - accuracy: 0.9840 - loss: 0.6434\n",
            "Epoch 133: val_loss did not improve from 0.64576\n",
            "\u001b[1m3113/3113\u001b[0m \u001b[32m━━━━━━━━━━━━━━━━━━━━\u001b[0m\u001b[37m\u001b[0m \u001b[1m14s\u001b[0m 4ms/step - accuracy: 0.9840 - loss: 0.6434 - val_accuracy: 0.9638 - val_loss: 0.6484 - learning_rate: 2.0000e-05\n",
            "Epoch 134/200\n",
            "\u001b[1m3104/3113\u001b[0m \u001b[32m━━━━━━━━━━━━━━━━━━━\u001b[0m\u001b[37m━\u001b[0m \u001b[1m0s\u001b[0m 4ms/step - accuracy: 0.9829 - loss: 0.6436\n",
            "Epoch 134: val_loss did not improve from 0.64576\n",
            "\u001b[1m3113/3113\u001b[0m \u001b[32m━━━━━━━━━━━━━━━━━━━━\u001b[0m\u001b[37m\u001b[0m \u001b[1m14s\u001b[0m 4ms/step - accuracy: 0.9829 - loss: 0.6436 - val_accuracy: 0.9656 - val_loss: 0.6471 - learning_rate: 2.0000e-05\n",
            "Epoch 135/200\n",
            "\u001b[1m3107/3113\u001b[0m \u001b[32m━━━━━━━━━━━━━━━━━━━\u001b[0m\u001b[37m━\u001b[0m \u001b[1m0s\u001b[0m 4ms/step - accuracy: 0.9837 - loss: 0.6418\n",
            "Epoch 135: val_loss did not improve from 0.64576\n",
            "\u001b[1m3113/3113\u001b[0m \u001b[32m━━━━━━━━━━━━━━━━━━━━\u001b[0m\u001b[37m\u001b[0m \u001b[1m14s\u001b[0m 4ms/step - accuracy: 0.9837 - loss: 0.6418 - val_accuracy: 0.9646 - val_loss: 0.6466 - learning_rate: 2.0000e-05\n",
            "Epoch 136/200\n",
            "\u001b[1m3112/3113\u001b[0m \u001b[32m━━━━━━━━━━━━━━━━━━━\u001b[0m\u001b[37m━\u001b[0m \u001b[1m0s\u001b[0m 4ms/step - accuracy: 0.9841 - loss: 0.6410\n",
            "Epoch 136: val_loss improved from 0.64576 to 0.64190, saving model to best_cnn_2d_vnemos.h5\n"
          ]
        },
        {
          "output_type": "stream",
          "name": "stderr",
          "text": [
            "WARNING:absl:You are saving your model as an HDF5 file via `model.save()` or `keras.saving.save_model(model)`. This file format is considered legacy. We recommend using instead the native Keras format, e.g. `model.save('my_model.keras')` or `keras.saving.save_model(model, 'my_model.keras')`. \n"
          ]
        },
        {
          "output_type": "stream",
          "name": "stdout",
          "text": [
            "\b\b\b\b\b\b\b\b\b\b\b\b\b\b\b\b\b\b\b\b\b\b\b\b\b\b\b\b\b\b\b\b\b\b\b\b\b\b\b\b\b\b\b\b\b\b\b\b\b\b\b\b\b\b\b\b\b\b\b\b\b\b\b\b\b\b\b\b\b\b\b\b\b\b\b\b\r\u001b[1m3113/3113\u001b[0m \u001b[32m━━━━━━━━━━━━━━━━━━━━\u001b[0m\u001b[37m\u001b[0m \u001b[1m14s\u001b[0m 5ms/step - accuracy: 0.9841 - loss: 0.6410 - val_accuracy: 0.9689 - val_loss: 0.6419 - learning_rate: 2.0000e-05\n",
            "Epoch 137/200\n",
            "\u001b[1m3104/3113\u001b[0m \u001b[32m━━━━━━━━━━━━━━━━━━━\u001b[0m\u001b[37m━\u001b[0m \u001b[1m0s\u001b[0m 4ms/step - accuracy: 0.9843 - loss: 0.6380\n",
            "Epoch 137: val_loss did not improve from 0.64190\n",
            "\u001b[1m3113/3113\u001b[0m \u001b[32m━━━━━━━━━━━━━━━━━━━━\u001b[0m\u001b[37m\u001b[0m \u001b[1m14s\u001b[0m 4ms/step - accuracy: 0.9842 - loss: 0.6380 - val_accuracy: 0.9665 - val_loss: 0.6444 - learning_rate: 2.0000e-05\n",
            "Epoch 138/200\n",
            "\u001b[1m3104/3113\u001b[0m \u001b[32m━━━━━━━━━━━━━━━━━━━\u001b[0m\u001b[37m━\u001b[0m \u001b[1m0s\u001b[0m 4ms/step - accuracy: 0.9846 - loss: 0.6388\n",
            "Epoch 138: val_loss did not improve from 0.64190\n",
            "\u001b[1m3113/3113\u001b[0m \u001b[32m━━━━━━━━━━━━━━━━━━━━\u001b[0m\u001b[37m\u001b[0m \u001b[1m14s\u001b[0m 4ms/step - accuracy: 0.9846 - loss: 0.6388 - val_accuracy: 0.9659 - val_loss: 0.6426 - learning_rate: 2.0000e-05\n",
            "Epoch 139/200\n",
            "\u001b[1m3106/3113\u001b[0m \u001b[32m━━━━━━━━━━━━━━━━━━━\u001b[0m\u001b[37m━\u001b[0m \u001b[1m0s\u001b[0m 4ms/step - accuracy: 0.9840 - loss: 0.6375\n",
            "Epoch 139: val_loss improved from 0.64190 to 0.64077, saving model to best_cnn_2d_vnemos.h5\n"
          ]
        },
        {
          "output_type": "stream",
          "name": "stderr",
          "text": [
            "WARNING:absl:You are saving your model as an HDF5 file via `model.save()` or `keras.saving.save_model(model)`. This file format is considered legacy. We recommend using instead the native Keras format, e.g. `model.save('my_model.keras')` or `keras.saving.save_model(model, 'my_model.keras')`. \n"
          ]
        },
        {
          "output_type": "stream",
          "name": "stdout",
          "text": [
            "\b\b\b\b\b\b\b\b\b\b\b\b\b\b\b\b\b\b\b\b\b\b\b\b\b\b\b\b\b\b\b\b\b\b\b\b\b\b\b\b\b\b\b\b\b\b\b\b\b\b\b\b\b\b\b\b\b\b\b\b\b\b\b\b\b\b\b\b\b\b\b\b\b\b\b\b\r\u001b[1m3113/3113\u001b[0m \u001b[32m━━━━━━━━━━━━━━━━━━━━\u001b[0m\u001b[37m\u001b[0m \u001b[1m14s\u001b[0m 5ms/step - accuracy: 0.9840 - loss: 0.6375 - val_accuracy: 0.9677 - val_loss: 0.6408 - learning_rate: 2.0000e-05\n",
            "Epoch 140/200\n",
            "\u001b[1m3112/3113\u001b[0m \u001b[32m━━━━━━━━━━━━━━━━━━━\u001b[0m\u001b[37m━\u001b[0m \u001b[1m0s\u001b[0m 4ms/step - accuracy: 0.9852 - loss: 0.6354\n",
            "Epoch 140: val_loss improved from 0.64077 to 0.63788, saving model to best_cnn_2d_vnemos.h5\n"
          ]
        },
        {
          "output_type": "stream",
          "name": "stderr",
          "text": [
            "WARNING:absl:You are saving your model as an HDF5 file via `model.save()` or `keras.saving.save_model(model)`. This file format is considered legacy. We recommend using instead the native Keras format, e.g. `model.save('my_model.keras')` or `keras.saving.save_model(model, 'my_model.keras')`. \n"
          ]
        },
        {
          "output_type": "stream",
          "name": "stdout",
          "text": [
            "\b\b\b\b\b\b\b\b\b\b\b\b\b\b\b\b\b\b\b\b\b\b\b\b\b\b\b\b\b\b\b\b\b\b\b\b\b\b\b\b\b\b\b\b\b\b\b\b\b\b\b\b\b\b\b\b\b\b\b\b\b\b\b\b\b\b\b\b\b\b\b\b\b\b\b\b\r\u001b[1m3113/3113\u001b[0m \u001b[32m━━━━━━━━━━━━━━━━━━━━\u001b[0m\u001b[37m\u001b[0m \u001b[1m14s\u001b[0m 5ms/step - accuracy: 0.9852 - loss: 0.6354 - val_accuracy: 0.9680 - val_loss: 0.6379 - learning_rate: 2.0000e-05\n",
            "Epoch 141/200\n",
            "\u001b[1m3112/3113\u001b[0m \u001b[32m━━━━━━━━━━━━━━━━━━━\u001b[0m\u001b[37m━\u001b[0m \u001b[1m0s\u001b[0m 4ms/step - accuracy: 0.9843 - loss: 0.6358\n",
            "Epoch 141: val_loss did not improve from 0.63788\n",
            "\u001b[1m3113/3113\u001b[0m \u001b[32m━━━━━━━━━━━━━━━━━━━━\u001b[0m\u001b[37m\u001b[0m \u001b[1m14s\u001b[0m 4ms/step - accuracy: 0.9843 - loss: 0.6358 - val_accuracy: 0.9636 - val_loss: 0.6406 - learning_rate: 2.0000e-05\n",
            "Epoch 142/200\n",
            "\u001b[1m3108/3113\u001b[0m \u001b[32m━━━━━━━━━━━━━━━━━━━\u001b[0m\u001b[37m━\u001b[0m \u001b[1m0s\u001b[0m 4ms/step - accuracy: 0.9835 - loss: 0.6366\n",
            "Epoch 142: val_loss did not improve from 0.63788\n",
            "\u001b[1m3113/3113\u001b[0m \u001b[32m━━━━━━━━━━━━━━━━━━━━\u001b[0m\u001b[37m\u001b[0m \u001b[1m15s\u001b[0m 5ms/step - accuracy: 0.9835 - loss: 0.6366 - val_accuracy: 0.9669 - val_loss: 0.6388 - learning_rate: 2.0000e-05\n",
            "Epoch 143/200\n",
            "\u001b[1m3109/3113\u001b[0m \u001b[32m━━━━━━━━━━━━━━━━━━━\u001b[0m\u001b[37m━\u001b[0m \u001b[1m0s\u001b[0m 4ms/step - accuracy: 0.9837 - loss: 0.6364\n",
            "Epoch 143: val_loss did not improve from 0.63788\n",
            "\u001b[1m3113/3113\u001b[0m \u001b[32m━━━━━━━━━━━━━━━━━━━━\u001b[0m\u001b[37m\u001b[0m \u001b[1m14s\u001b[0m 5ms/step - accuracy: 0.9837 - loss: 0.6364 - val_accuracy: 0.9661 - val_loss: 0.6391 - learning_rate: 2.0000e-05\n",
            "Epoch 144/200\n",
            "\u001b[1m3113/3113\u001b[0m \u001b[32m━━━━━━━━━━━━━━━━━━━━\u001b[0m\u001b[37m\u001b[0m \u001b[1m0s\u001b[0m 4ms/step - accuracy: 0.9846 - loss: 0.6340\n",
            "Epoch 144: val_loss did not improve from 0.63788\n",
            "\u001b[1m3113/3113\u001b[0m \u001b[32m━━━━━━━━━━━━━━━━━━━━\u001b[0m\u001b[37m\u001b[0m \u001b[1m14s\u001b[0m 4ms/step - accuracy: 0.9846 - loss: 0.6340 - val_accuracy: 0.9650 - val_loss: 0.6406 - learning_rate: 2.0000e-05\n",
            "Epoch 145/200\n",
            "\u001b[1m3109/3113\u001b[0m \u001b[32m━━━━━━━━━━━━━━━━━━━\u001b[0m\u001b[37m━\u001b[0m \u001b[1m0s\u001b[0m 4ms/step - accuracy: 0.9839 - loss: 0.6336\n",
            "Epoch 145: val_loss improved from 0.63788 to 0.63496, saving model to best_cnn_2d_vnemos.h5\n"
          ]
        },
        {
          "output_type": "stream",
          "name": "stderr",
          "text": [
            "WARNING:absl:You are saving your model as an HDF5 file via `model.save()` or `keras.saving.save_model(model)`. This file format is considered legacy. We recommend using instead the native Keras format, e.g. `model.save('my_model.keras')` or `keras.saving.save_model(model, 'my_model.keras')`. \n"
          ]
        },
        {
          "output_type": "stream",
          "name": "stdout",
          "text": [
            "\b\b\b\b\b\b\b\b\b\b\b\b\b\b\b\b\b\b\b\b\b\b\b\b\b\b\b\b\b\b\b\b\b\b\b\b\b\b\b\b\b\b\b\b\b\b\b\b\b\b\b\b\b\b\b\b\b\b\b\b\b\b\b\b\b\b\b\b\b\b\b\b\b\b\b\b\r\u001b[1m3113/3113\u001b[0m \u001b[32m━━━━━━━━━━━━━━━━━━━━\u001b[0m\u001b[37m\u001b[0m \u001b[1m14s\u001b[0m 5ms/step - accuracy: 0.9839 - loss: 0.6336 - val_accuracy: 0.9682 - val_loss: 0.6350 - learning_rate: 2.0000e-05\n",
            "Epoch 146/200\n",
            "\u001b[1m3105/3113\u001b[0m \u001b[32m━━━━━━━━━━━━━━━━━━━\u001b[0m\u001b[37m━\u001b[0m \u001b[1m0s\u001b[0m 4ms/step - accuracy: 0.9861 - loss: 0.6311\n",
            "Epoch 146: val_loss improved from 0.63496 to 0.63398, saving model to best_cnn_2d_vnemos.h5\n"
          ]
        },
        {
          "output_type": "stream",
          "name": "stderr",
          "text": [
            "WARNING:absl:You are saving your model as an HDF5 file via `model.save()` or `keras.saving.save_model(model)`. This file format is considered legacy. We recommend using instead the native Keras format, e.g. `model.save('my_model.keras')` or `keras.saving.save_model(model, 'my_model.keras')`. \n"
          ]
        },
        {
          "output_type": "stream",
          "name": "stdout",
          "text": [
            "\b\b\b\b\b\b\b\b\b\b\b\b\b\b\b\b\b\b\b\b\b\b\b\b\b\b\b\b\b\b\b\b\b\b\b\b\b\b\b\b\b\b\b\b\b\b\b\b\b\b\b\b\b\b\b\b\b\b\b\b\b\b\b\b\b\b\b\b\b\b\b\b\b\b\b\b\r\u001b[1m3113/3113\u001b[0m \u001b[32m━━━━━━━━━━━━━━━━━━━━\u001b[0m\u001b[37m\u001b[0m \u001b[1m14s\u001b[0m 5ms/step - accuracy: 0.9861 - loss: 0.6311 - val_accuracy: 0.9683 - val_loss: 0.6340 - learning_rate: 2.0000e-05\n",
            "Epoch 147/200\n",
            "\u001b[1m3101/3113\u001b[0m \u001b[32m━━━━━━━━━━━━━━━━━━━\u001b[0m\u001b[37m━\u001b[0m \u001b[1m0s\u001b[0m 4ms/step - accuracy: 0.9835 - loss: 0.6342\n",
            "Epoch 147: val_loss did not improve from 0.63398\n",
            "\u001b[1m3113/3113\u001b[0m \u001b[32m━━━━━━━━━━━━━━━━━━━━\u001b[0m\u001b[37m\u001b[0m \u001b[1m14s\u001b[0m 4ms/step - accuracy: 0.9835 - loss: 0.6342 - val_accuracy: 0.9672 - val_loss: 0.6362 - learning_rate: 2.0000e-05\n",
            "Epoch 148/200\n",
            "\u001b[1m3112/3113\u001b[0m \u001b[32m━━━━━━━━━━━━━━━━━━━\u001b[0m\u001b[37m━\u001b[0m \u001b[1m0s\u001b[0m 4ms/step - accuracy: 0.9843 - loss: 0.6311\n",
            "Epoch 148: val_loss improved from 0.63398 to 0.63364, saving model to best_cnn_2d_vnemos.h5\n"
          ]
        },
        {
          "output_type": "stream",
          "name": "stderr",
          "text": [
            "WARNING:absl:You are saving your model as an HDF5 file via `model.save()` or `keras.saving.save_model(model)`. This file format is considered legacy. We recommend using instead the native Keras format, e.g. `model.save('my_model.keras')` or `keras.saving.save_model(model, 'my_model.keras')`. \n"
          ]
        },
        {
          "output_type": "stream",
          "name": "stdout",
          "text": [
            "\b\b\b\b\b\b\b\b\b\b\b\b\b\b\b\b\b\b\b\b\b\b\b\b\b\b\b\b\b\b\b\b\b\b\b\b\b\b\b\b\b\b\b\b\b\b\b\b\b\b\b\b\b\b\b\b\b\b\b\b\b\b\b\b\b\b\b\b\b\b\b\b\b\b\b\b\r\u001b[1m3113/3113\u001b[0m \u001b[32m━━━━━━━━━━━━━━━━━━━━\u001b[0m\u001b[37m\u001b[0m \u001b[1m14s\u001b[0m 5ms/step - accuracy: 0.9843 - loss: 0.6311 - val_accuracy: 0.9680 - val_loss: 0.6336 - learning_rate: 2.0000e-05\n",
            "Epoch 149/200\n",
            "\u001b[1m3104/3113\u001b[0m \u001b[32m━━━━━━━━━━━━━━━━━━━\u001b[0m\u001b[37m━\u001b[0m \u001b[1m0s\u001b[0m 4ms/step - accuracy: 0.9844 - loss: 0.6299\n",
            "Epoch 149: val_loss did not improve from 0.63364\n",
            "\u001b[1m3113/3113\u001b[0m \u001b[32m━━━━━━━━━━━━━━━━━━━━\u001b[0m\u001b[37m\u001b[0m \u001b[1m14s\u001b[0m 4ms/step - accuracy: 0.9844 - loss: 0.6299 - val_accuracy: 0.9677 - val_loss: 0.6341 - learning_rate: 2.0000e-05\n",
            "Epoch 150/200\n",
            "\u001b[1m3110/3113\u001b[0m \u001b[32m━━━━━━━━━━━━━━━━━━━\u001b[0m\u001b[37m━\u001b[0m \u001b[1m0s\u001b[0m 4ms/step - accuracy: 0.9844 - loss: 0.6299\n",
            "Epoch 150: val_loss did not improve from 0.63364\n",
            "\u001b[1m3113/3113\u001b[0m \u001b[32m━━━━━━━━━━━━━━━━━━━━\u001b[0m\u001b[37m\u001b[0m \u001b[1m14s\u001b[0m 5ms/step - accuracy: 0.9844 - loss: 0.6299 - val_accuracy: 0.9651 - val_loss: 0.6356 - learning_rate: 2.0000e-05\n",
            "Epoch 151/200\n",
            "\u001b[1m3104/3113\u001b[0m \u001b[32m━━━━━━━━━━━━━━━━━━━\u001b[0m\u001b[37m━\u001b[0m \u001b[1m0s\u001b[0m 4ms/step - accuracy: 0.9847 - loss: 0.6307\n",
            "Epoch 151: val_loss did not improve from 0.63364\n",
            "\u001b[1m3113/3113\u001b[0m \u001b[32m━━━━━━━━━━━━━━━━━━━━\u001b[0m\u001b[37m\u001b[0m \u001b[1m14s\u001b[0m 5ms/step - accuracy: 0.9847 - loss: 0.6307 - val_accuracy: 0.9656 - val_loss: 0.6354 - learning_rate: 2.0000e-05\n",
            "Epoch 152/200\n",
            "\u001b[1m3109/3113\u001b[0m \u001b[32m━━━━━━━━━━━━━━━━━━━\u001b[0m\u001b[37m━\u001b[0m \u001b[1m0s\u001b[0m 4ms/step - accuracy: 0.9844 - loss: 0.6307\n",
            "Epoch 152: val_loss did not improve from 0.63364\n",
            "\u001b[1m3113/3113\u001b[0m \u001b[32m━━━━━━━━━━━━━━━━━━━━\u001b[0m\u001b[37m\u001b[0m \u001b[1m14s\u001b[0m 4ms/step - accuracy: 0.9844 - loss: 0.6307 - val_accuracy: 0.9644 - val_loss: 0.6338 - learning_rate: 2.0000e-05\n",
            "Epoch 153/200\n",
            "\u001b[1m3100/3113\u001b[0m \u001b[32m━━━━━━━━━━━━━━━━━━━\u001b[0m\u001b[37m━\u001b[0m \u001b[1m0s\u001b[0m 4ms/step - accuracy: 0.9853 - loss: 0.6272\n",
            "Epoch 153: val_loss did not improve from 0.63364\n",
            "\u001b[1m3113/3113\u001b[0m \u001b[32m━━━━━━━━━━━━━━━━━━━━\u001b[0m\u001b[37m\u001b[0m \u001b[1m14s\u001b[0m 4ms/step - accuracy: 0.9853 - loss: 0.6272 - val_accuracy: 0.9669 - val_loss: 0.6343 - learning_rate: 2.0000e-05\n",
            "Epoch 154/200\n",
            "\u001b[1m3112/3113\u001b[0m \u001b[32m━━━━━━━━━━━━━━━━━━━\u001b[0m\u001b[37m━\u001b[0m \u001b[1m0s\u001b[0m 4ms/step - accuracy: 0.9847 - loss: 0.6291\n",
            "Epoch 154: val_loss did not improve from 0.63364\n",
            "\u001b[1m3113/3113\u001b[0m \u001b[32m━━━━━━━━━━━━━━━━━━━━\u001b[0m\u001b[37m\u001b[0m \u001b[1m14s\u001b[0m 4ms/step - accuracy: 0.9847 - loss: 0.6291 - val_accuracy: 0.9654 - val_loss: 0.6346 - learning_rate: 2.0000e-05\n",
            "Epoch 155/200\n",
            "\u001b[1m3106/3113\u001b[0m \u001b[32m━━━━━━━━━━━━━━━━━━━\u001b[0m\u001b[37m━\u001b[0m \u001b[1m0s\u001b[0m 4ms/step - accuracy: 0.9838 - loss: 0.6288\n",
            "Epoch 155: val_loss did not improve from 0.63364\n",
            "\u001b[1m3113/3113\u001b[0m \u001b[32m━━━━━━━━━━━━━━━━━━━━\u001b[0m\u001b[37m\u001b[0m \u001b[1m14s\u001b[0m 4ms/step - accuracy: 0.9838 - loss: 0.6289 - val_accuracy: 0.9649 - val_loss: 0.6350 - learning_rate: 2.0000e-05\n",
            "Epoch 156/200\n",
            "\u001b[1m3109/3113\u001b[0m \u001b[32m━━━━━━━━━━━━━━━━━━━\u001b[0m\u001b[37m━\u001b[0m \u001b[1m0s\u001b[0m 4ms/step - accuracy: 0.9837 - loss: 0.6294\n",
            "Epoch 156: val_loss improved from 0.63364 to 0.63100, saving model to best_cnn_2d_vnemos.h5\n"
          ]
        },
        {
          "output_type": "stream",
          "name": "stderr",
          "text": [
            "WARNING:absl:You are saving your model as an HDF5 file via `model.save()` or `keras.saving.save_model(model)`. This file format is considered legacy. We recommend using instead the native Keras format, e.g. `model.save('my_model.keras')` or `keras.saving.save_model(model, 'my_model.keras')`. \n"
          ]
        },
        {
          "output_type": "stream",
          "name": "stdout",
          "text": [
            "\b\b\b\b\b\b\b\b\b\b\b\b\b\b\b\b\b\b\b\b\b\b\b\b\b\b\b\b\b\b\b\b\b\b\b\b\b\b\b\b\b\b\b\b\b\b\b\b\b\b\b\b\b\b\b\b\b\b\b\b\b\b\b\b\b\b\b\b\b\b\b\b\b\b\b\b\r\u001b[1m3113/3113\u001b[0m \u001b[32m━━━━━━━━━━━━━━━━━━━━\u001b[0m\u001b[37m\u001b[0m \u001b[1m14s\u001b[0m 5ms/step - accuracy: 0.9837 - loss: 0.6294 - val_accuracy: 0.9676 - val_loss: 0.6310 - learning_rate: 2.0000e-05\n",
            "Epoch 157/200\n",
            "\u001b[1m3111/3113\u001b[0m \u001b[32m━━━━━━━━━━━━━━━━━━━\u001b[0m\u001b[37m━\u001b[0m \u001b[1m0s\u001b[0m 4ms/step - accuracy: 0.9845 - loss: 0.6279\n",
            "Epoch 157: val_loss did not improve from 0.63100\n",
            "\u001b[1m3113/3113\u001b[0m \u001b[32m━━━━━━━━━━━━━━━━━━━━\u001b[0m\u001b[37m\u001b[0m \u001b[1m14s\u001b[0m 4ms/step - accuracy: 0.9845 - loss: 0.6279 - val_accuracy: 0.9672 - val_loss: 0.6318 - learning_rate: 2.0000e-05\n",
            "Epoch 158/200\n",
            "\u001b[1m3100/3113\u001b[0m \u001b[32m━━━━━━━━━━━━━━━━━━━\u001b[0m\u001b[37m━\u001b[0m \u001b[1m0s\u001b[0m 4ms/step - accuracy: 0.9853 - loss: 0.6265\n",
            "Epoch 158: val_loss improved from 0.63100 to 0.63094, saving model to best_cnn_2d_vnemos.h5\n"
          ]
        },
        {
          "output_type": "stream",
          "name": "stderr",
          "text": [
            "WARNING:absl:You are saving your model as an HDF5 file via `model.save()` or `keras.saving.save_model(model)`. This file format is considered legacy. We recommend using instead the native Keras format, e.g. `model.save('my_model.keras')` or `keras.saving.save_model(model, 'my_model.keras')`. \n"
          ]
        },
        {
          "output_type": "stream",
          "name": "stdout",
          "text": [
            "\b\b\b\b\b\b\b\b\b\b\b\b\b\b\b\b\b\b\b\b\b\b\b\b\b\b\b\b\b\b\b\b\b\b\b\b\b\b\b\b\b\b\b\b\b\b\b\b\b\b\b\b\b\b\b\b\b\b\b\b\b\b\b\b\b\b\b\b\b\b\b\b\b\b\b\b\r\u001b[1m3113/3113\u001b[0m \u001b[32m━━━━━━━━━━━━━━━━━━━━\u001b[0m\u001b[37m\u001b[0m \u001b[1m14s\u001b[0m 4ms/step - accuracy: 0.9853 - loss: 0.6265 - val_accuracy: 0.9677 - val_loss: 0.6309 - learning_rate: 2.0000e-05\n",
            "Epoch 159/200\n",
            "\u001b[1m3109/3113\u001b[0m \u001b[32m━━━━━━━━━━━━━━━━━━━\u001b[0m\u001b[37m━\u001b[0m \u001b[1m0s\u001b[0m 4ms/step - accuracy: 0.9844 - loss: 0.6271\n",
            "Epoch 159: val_loss improved from 0.63094 to 0.62814, saving model to best_cnn_2d_vnemos.h5\n"
          ]
        },
        {
          "output_type": "stream",
          "name": "stderr",
          "text": [
            "WARNING:absl:You are saving your model as an HDF5 file via `model.save()` or `keras.saving.save_model(model)`. This file format is considered legacy. We recommend using instead the native Keras format, e.g. `model.save('my_model.keras')` or `keras.saving.save_model(model, 'my_model.keras')`. \n"
          ]
        },
        {
          "output_type": "stream",
          "name": "stdout",
          "text": [
            "\b\b\b\b\b\b\b\b\b\b\b\b\b\b\b\b\b\b\b\b\b\b\b\b\b\b\b\b\b\b\b\b\b\b\b\b\b\b\b\b\b\b\b\b\b\b\b\b\b\b\b\b\b\b\b\b\b\b\b\b\b\b\b\b\b\b\b\b\b\b\b\b\b\b\b\b\r\u001b[1m3113/3113\u001b[0m \u001b[32m━━━━━━━━━━━━━━━━━━━━\u001b[0m\u001b[37m\u001b[0m \u001b[1m14s\u001b[0m 5ms/step - accuracy: 0.9844 - loss: 0.6271 - val_accuracy: 0.9684 - val_loss: 0.6281 - learning_rate: 2.0000e-05\n",
            "Epoch 160/200\n",
            "\u001b[1m3112/3113\u001b[0m \u001b[32m━━━━━━━━━━━━━━━━━━━\u001b[0m\u001b[37m━\u001b[0m \u001b[1m0s\u001b[0m 4ms/step - accuracy: 0.9862 - loss: 0.6258\n",
            "Epoch 160: val_loss did not improve from 0.62814\n",
            "\u001b[1m3113/3113\u001b[0m \u001b[32m━━━━━━━━━━━━━━━━━━━━\u001b[0m\u001b[37m\u001b[0m \u001b[1m14s\u001b[0m 4ms/step - accuracy: 0.9862 - loss: 0.6258 - val_accuracy: 0.9649 - val_loss: 0.6336 - learning_rate: 2.0000e-05\n",
            "Epoch 161/200\n",
            "\u001b[1m3102/3113\u001b[0m \u001b[32m━━━━━━━━━━━━━━━━━━━\u001b[0m\u001b[37m━\u001b[0m \u001b[1m0s\u001b[0m 4ms/step - accuracy: 0.9848 - loss: 0.6263\n",
            "Epoch 161: val_loss did not improve from 0.62814\n",
            "\u001b[1m3113/3113\u001b[0m \u001b[32m━━━━━━━━━━━━━━━━━━━━\u001b[0m\u001b[37m\u001b[0m \u001b[1m14s\u001b[0m 4ms/step - accuracy: 0.9848 - loss: 0.6263 - val_accuracy: 0.9672 - val_loss: 0.6294 - learning_rate: 2.0000e-05\n",
            "Epoch 162/200\n",
            "\u001b[1m3111/3113\u001b[0m \u001b[32m━━━━━━━━━━━━━━━━━━━\u001b[0m\u001b[37m━\u001b[0m \u001b[1m0s\u001b[0m 4ms/step - accuracy: 0.9850 - loss: 0.6244\n",
            "Epoch 162: val_loss did not improve from 0.62814\n",
            "\u001b[1m3113/3113\u001b[0m \u001b[32m━━━━━━━━━━━━━━━━━━━━\u001b[0m\u001b[37m\u001b[0m \u001b[1m14s\u001b[0m 4ms/step - accuracy: 0.9850 - loss: 0.6244 - val_accuracy: 0.9653 - val_loss: 0.6308 - learning_rate: 2.0000e-05\n",
            "Epoch 163/200\n",
            "\u001b[1m3108/3113\u001b[0m \u001b[32m━━━━━━━━━━━━━━━━━━━\u001b[0m\u001b[37m━\u001b[0m \u001b[1m0s\u001b[0m 4ms/step - accuracy: 0.9859 - loss: 0.6232\n",
            "Epoch 163: val_loss did not improve from 0.62814\n",
            "\u001b[1m3113/3113\u001b[0m \u001b[32m━━━━━━━━━━━━━━━━━━━━\u001b[0m\u001b[37m\u001b[0m \u001b[1m14s\u001b[0m 4ms/step - accuracy: 0.9859 - loss: 0.6232 - val_accuracy: 0.9642 - val_loss: 0.6329 - learning_rate: 2.0000e-05\n",
            "Epoch 164/200\n",
            "\u001b[1m3104/3113\u001b[0m \u001b[32m━━━━━━━━━━━━━━━━━━━\u001b[0m\u001b[37m━\u001b[0m \u001b[1m0s\u001b[0m 4ms/step - accuracy: 0.9852 - loss: 0.6235\n",
            "Epoch 164: val_loss did not improve from 0.62814\n",
            "\u001b[1m3113/3113\u001b[0m \u001b[32m━━━━━━━━━━━━━━━━━━━━\u001b[0m\u001b[37m\u001b[0m \u001b[1m14s\u001b[0m 4ms/step - accuracy: 0.9852 - loss: 0.6235 - val_accuracy: 0.9650 - val_loss: 0.6335 - learning_rate: 2.0000e-05\n",
            "Epoch 165/200\n",
            "\u001b[1m3109/3113\u001b[0m \u001b[32m━━━━━━━━━━━━━━━━━━━\u001b[0m\u001b[37m━\u001b[0m \u001b[1m0s\u001b[0m 4ms/step - accuracy: 0.9853 - loss: 0.6232\n",
            "Epoch 165: val_loss improved from 0.62814 to 0.62761, saving model to best_cnn_2d_vnemos.h5\n"
          ]
        },
        {
          "output_type": "stream",
          "name": "stderr",
          "text": [
            "WARNING:absl:You are saving your model as an HDF5 file via `model.save()` or `keras.saving.save_model(model)`. This file format is considered legacy. We recommend using instead the native Keras format, e.g. `model.save('my_model.keras')` or `keras.saving.save_model(model, 'my_model.keras')`. \n"
          ]
        },
        {
          "output_type": "stream",
          "name": "stdout",
          "text": [
            "\b\b\b\b\b\b\b\b\b\b\b\b\b\b\b\b\b\b\b\b\b\b\b\b\b\b\b\b\b\b\b\b\b\b\b\b\b\b\b\b\b\b\b\b\b\b\b\b\b\b\b\b\b\b\b\b\b\b\b\b\b\b\b\b\b\b\b\b\b\b\b\b\b\b\b\b\r\u001b[1m3113/3113\u001b[0m \u001b[32m━━━━━━━━━━━━━━━━━━━━\u001b[0m\u001b[37m\u001b[0m \u001b[1m14s\u001b[0m 5ms/step - accuracy: 0.9852 - loss: 0.6232 - val_accuracy: 0.9663 - val_loss: 0.6276 - learning_rate: 2.0000e-05\n",
            "Epoch 166/200\n",
            "\u001b[1m3107/3113\u001b[0m \u001b[32m━━━━━━━━━━━━━━━━━━━\u001b[0m\u001b[37m━\u001b[0m \u001b[1m0s\u001b[0m 4ms/step - accuracy: 0.9846 - loss: 0.6233\n",
            "Epoch 166: val_loss did not improve from 0.62761\n",
            "\u001b[1m3113/3113\u001b[0m \u001b[32m━━━━━━━━━━━━━━━━━━━━\u001b[0m\u001b[37m\u001b[0m \u001b[1m14s\u001b[0m 4ms/step - accuracy: 0.9846 - loss: 0.6233 - val_accuracy: 0.9665 - val_loss: 0.6293 - learning_rate: 2.0000e-05\n",
            "Epoch 167/200\n",
            "\u001b[1m3105/3113\u001b[0m \u001b[32m━━━━━━━━━━━━━━━━━━━\u001b[0m\u001b[37m━\u001b[0m \u001b[1m0s\u001b[0m 4ms/step - accuracy: 0.9857 - loss: 0.6228\n",
            "Epoch 167: val_loss did not improve from 0.62761\n",
            "\u001b[1m3113/3113\u001b[0m \u001b[32m━━━━━━━━━━━━━━━━━━━━\u001b[0m\u001b[37m\u001b[0m \u001b[1m15s\u001b[0m 5ms/step - accuracy: 0.9857 - loss: 0.6228 - val_accuracy: 0.9640 - val_loss: 0.6314 - learning_rate: 2.0000e-05\n",
            "Epoch 168/200\n",
            "\u001b[1m3107/3113\u001b[0m \u001b[32m━━━━━━━━━━━━━━━━━━━\u001b[0m\u001b[37m━\u001b[0m \u001b[1m0s\u001b[0m 4ms/step - accuracy: 0.9856 - loss: 0.6223\n",
            "Epoch 168: val_loss did not improve from 0.62761\n",
            "\u001b[1m3113/3113\u001b[0m \u001b[32m━━━━━━━━━━━━━━━━━━━━\u001b[0m\u001b[37m\u001b[0m \u001b[1m15s\u001b[0m 5ms/step - accuracy: 0.9856 - loss: 0.6223 - val_accuracy: 0.9656 - val_loss: 0.6293 - learning_rate: 2.0000e-05\n",
            "Epoch 169/200\n",
            "\u001b[1m3104/3113\u001b[0m \u001b[32m━━━━━━━━━━━━━━━━━━━\u001b[0m\u001b[37m━\u001b[0m \u001b[1m0s\u001b[0m 4ms/step - accuracy: 0.9855 - loss: 0.6220\n",
            "Epoch 169: val_loss did not improve from 0.62761\n",
            "\u001b[1m3113/3113\u001b[0m \u001b[32m━━━━━━━━━━━━━━━━━━━━\u001b[0m\u001b[37m\u001b[0m \u001b[1m15s\u001b[0m 5ms/step - accuracy: 0.9855 - loss: 0.6220 - val_accuracy: 0.9642 - val_loss: 0.6342 - learning_rate: 2.0000e-05\n",
            "Epoch 170/200\n",
            "\u001b[1m3107/3113\u001b[0m \u001b[32m━━━━━━━━━━━━━━━━━━━\u001b[0m\u001b[37m━\u001b[0m \u001b[1m0s\u001b[0m 4ms/step - accuracy: 0.9863 - loss: 0.6211\n",
            "Epoch 170: val_loss did not improve from 0.62761\n",
            "\u001b[1m3113/3113\u001b[0m \u001b[32m━━━━━━━━━━━━━━━━━━━━\u001b[0m\u001b[37m\u001b[0m \u001b[1m15s\u001b[0m 5ms/step - accuracy: 0.9863 - loss: 0.6211 - val_accuracy: 0.9641 - val_loss: 0.6345 - learning_rate: 2.0000e-05\n",
            "Epoch 171/200\n",
            "\u001b[1m3108/3113\u001b[0m \u001b[32m━━━━━━━━━━━━━━━━━━━\u001b[0m\u001b[37m━\u001b[0m \u001b[1m0s\u001b[0m 4ms/step - accuracy: 0.9851 - loss: 0.6221\n",
            "Epoch 171: val_loss improved from 0.62761 to 0.62489, saving model to best_cnn_2d_vnemos.h5\n"
          ]
        },
        {
          "output_type": "stream",
          "name": "stderr",
          "text": [
            "WARNING:absl:You are saving your model as an HDF5 file via `model.save()` or `keras.saving.save_model(model)`. This file format is considered legacy. We recommend using instead the native Keras format, e.g. `model.save('my_model.keras')` or `keras.saving.save_model(model, 'my_model.keras')`. \n"
          ]
        },
        {
          "output_type": "stream",
          "name": "stdout",
          "text": [
            "\b\b\b\b\b\b\b\b\b\b\b\b\b\b\b\b\b\b\b\b\b\b\b\b\b\b\b\b\b\b\b\b\b\b\b\b\b\b\b\b\b\b\b\b\b\b\b\b\b\b\b\b\b\b\b\b\b\b\b\b\b\b\b\b\b\b\b\b\b\b\b\b\b\b\b\b\r\u001b[1m3113/3113\u001b[0m \u001b[32m━━━━━━━━━━━━━━━━━━━━\u001b[0m\u001b[37m\u001b[0m \u001b[1m15s\u001b[0m 5ms/step - accuracy: 0.9851 - loss: 0.6221 - val_accuracy: 0.9665 - val_loss: 0.6249 - learning_rate: 2.0000e-05\n",
            "Epoch 172/200\n",
            "\u001b[1m3110/3113\u001b[0m \u001b[32m━━━━━━━━━━━━━━━━━━━\u001b[0m\u001b[37m━\u001b[0m \u001b[1m0s\u001b[0m 4ms/step - accuracy: 0.9859 - loss: 0.6204\n",
            "Epoch 172: val_loss did not improve from 0.62489\n",
            "\u001b[1m3113/3113\u001b[0m \u001b[32m━━━━━━━━━━━━━━━━━━━━\u001b[0m\u001b[37m\u001b[0m \u001b[1m15s\u001b[0m 5ms/step - accuracy: 0.9859 - loss: 0.6204 - val_accuracy: 0.9636 - val_loss: 0.6319 - learning_rate: 2.0000e-05\n",
            "Epoch 173/200\n",
            "\u001b[1m3103/3113\u001b[0m \u001b[32m━━━━━━━━━━━━━━━━━━━\u001b[0m\u001b[37m━\u001b[0m \u001b[1m0s\u001b[0m 4ms/step - accuracy: 0.9869 - loss: 0.6200\n",
            "Epoch 173: val_loss did not improve from 0.62489\n",
            "\u001b[1m3113/3113\u001b[0m \u001b[32m━━━━━━━━━━━━━━━━━━━━\u001b[0m\u001b[37m\u001b[0m \u001b[1m15s\u001b[0m 5ms/step - accuracy: 0.9869 - loss: 0.6200 - val_accuracy: 0.9676 - val_loss: 0.6259 - learning_rate: 2.0000e-05\n",
            "Epoch 174/200\n",
            "\u001b[1m3106/3113\u001b[0m \u001b[32m━━━━━━━━━━━━━━━━━━━\u001b[0m\u001b[37m━\u001b[0m \u001b[1m0s\u001b[0m 4ms/step - accuracy: 0.9837 - loss: 0.6228\n",
            "Epoch 174: val_loss did not improve from 0.62489\n",
            "\u001b[1m3113/3113\u001b[0m \u001b[32m━━━━━━━━━━━━━━━━━━━━\u001b[0m\u001b[37m\u001b[0m \u001b[1m15s\u001b[0m 5ms/step - accuracy: 0.9837 - loss: 0.6228 - val_accuracy: 0.9636 - val_loss: 0.6307 - learning_rate: 2.0000e-05\n",
            "Epoch 175/200\n",
            "\u001b[1m3112/3113\u001b[0m \u001b[32m━━━━━━━━━━━━━━━━━━━\u001b[0m\u001b[37m━\u001b[0m \u001b[1m0s\u001b[0m 4ms/step - accuracy: 0.9867 - loss: 0.6202\n",
            "Epoch 175: val_loss did not improve from 0.62489\n",
            "\u001b[1m3113/3113\u001b[0m \u001b[32m━━━━━━━━━━━━━━━━━━━━\u001b[0m\u001b[37m\u001b[0m \u001b[1m15s\u001b[0m 5ms/step - accuracy: 0.9867 - loss: 0.6202 - val_accuracy: 0.9624 - val_loss: 0.6294 - learning_rate: 2.0000e-05\n",
            "Epoch 176/200\n",
            "\u001b[1m3109/3113\u001b[0m \u001b[32m━━━━━━━━━━━━━━━━━━━\u001b[0m\u001b[37m━\u001b[0m \u001b[1m0s\u001b[0m 4ms/step - accuracy: 0.9850 - loss: 0.6204\n",
            "Epoch 176: val_loss improved from 0.62489 to 0.62480, saving model to best_cnn_2d_vnemos.h5\n"
          ]
        },
        {
          "output_type": "stream",
          "name": "stderr",
          "text": [
            "WARNING:absl:You are saving your model as an HDF5 file via `model.save()` or `keras.saving.save_model(model)`. This file format is considered legacy. We recommend using instead the native Keras format, e.g. `model.save('my_model.keras')` or `keras.saving.save_model(model, 'my_model.keras')`. \n"
          ]
        },
        {
          "output_type": "stream",
          "name": "stdout",
          "text": [
            "\b\b\b\b\b\b\b\b\b\b\b\b\b\b\b\b\b\b\b\b\b\b\b\b\b\b\b\b\b\b\b\b\b\b\b\b\b\b\b\b\b\b\b\b\b\b\b\b\b\b\b\b\b\b\b\b\b\b\b\b\b\b\b\b\b\b\b\b\b\b\b\b\b\b\b\b\r\u001b[1m3113/3113\u001b[0m \u001b[32m━━━━━━━━━━━━━━━━━━━━\u001b[0m\u001b[37m\u001b[0m \u001b[1m15s\u001b[0m 5ms/step - accuracy: 0.9850 - loss: 0.6204 - val_accuracy: 0.9669 - val_loss: 0.6248 - learning_rate: 2.0000e-05\n",
            "Epoch 177/200\n",
            "\u001b[1m3106/3113\u001b[0m \u001b[32m━━━━━━━━━━━━━━━━━━━\u001b[0m\u001b[37m━\u001b[0m \u001b[1m0s\u001b[0m 4ms/step - accuracy: 0.9850 - loss: 0.6212\n",
            "Epoch 177: val_loss did not improve from 0.62480\n",
            "\u001b[1m3113/3113\u001b[0m \u001b[32m━━━━━━━━━━━━━━━━━━━━\u001b[0m\u001b[37m\u001b[0m \u001b[1m15s\u001b[0m 5ms/step - accuracy: 0.9850 - loss: 0.6212 - val_accuracy: 0.9632 - val_loss: 0.6292 - learning_rate: 2.0000e-05\n",
            "Epoch 178/200\n",
            "\u001b[1m3110/3113\u001b[0m \u001b[32m━━━━━━━━━━━━━━━━━━━\u001b[0m\u001b[37m━\u001b[0m \u001b[1m0s\u001b[0m 4ms/step - accuracy: 0.9847 - loss: 0.6202\n",
            "Epoch 178: val_loss improved from 0.62480 to 0.62301, saving model to best_cnn_2d_vnemos.h5\n"
          ]
        },
        {
          "output_type": "stream",
          "name": "stderr",
          "text": [
            "WARNING:absl:You are saving your model as an HDF5 file via `model.save()` or `keras.saving.save_model(model)`. This file format is considered legacy. We recommend using instead the native Keras format, e.g. `model.save('my_model.keras')` or `keras.saving.save_model(model, 'my_model.keras')`. \n"
          ]
        },
        {
          "output_type": "stream",
          "name": "stdout",
          "text": [
            "\b\b\b\b\b\b\b\b\b\b\b\b\b\b\b\b\b\b\b\b\b\b\b\b\b\b\b\b\b\b\b\b\b\b\b\b\b\b\b\b\b\b\b\b\b\b\b\b\b\b\b\b\b\b\b\b\b\b\b\b\b\b\b\b\b\b\b\b\b\b\b\b\b\b\b\b\r\u001b[1m3113/3113\u001b[0m \u001b[32m━━━━━━━━━━━━━━━━━━━━\u001b[0m\u001b[37m\u001b[0m \u001b[1m15s\u001b[0m 5ms/step - accuracy: 0.9847 - loss: 0.6202 - val_accuracy: 0.9666 - val_loss: 0.6230 - learning_rate: 2.0000e-05\n",
            "Epoch 179/200\n",
            "\u001b[1m3112/3113\u001b[0m \u001b[32m━━━━━━━━━━━━━━━━━━━\u001b[0m\u001b[37m━\u001b[0m \u001b[1m0s\u001b[0m 4ms/step - accuracy: 0.9860 - loss: 0.6198\n",
            "Epoch 179: val_loss did not improve from 0.62301\n",
            "\u001b[1m3113/3113\u001b[0m \u001b[32m━━━━━━━━━━━━━━━━━━━━\u001b[0m\u001b[37m\u001b[0m \u001b[1m15s\u001b[0m 5ms/step - accuracy: 0.9860 - loss: 0.6198 - val_accuracy: 0.9630 - val_loss: 0.6296 - learning_rate: 2.0000e-05\n",
            "Epoch 180/200\n",
            "\u001b[1m3113/3113\u001b[0m \u001b[32m━━━━━━━━━━━━━━━━━━━━\u001b[0m\u001b[37m\u001b[0m \u001b[1m0s\u001b[0m 4ms/step - accuracy: 0.9842 - loss: 0.6212\n",
            "Epoch 180: val_loss did not improve from 0.62301\n",
            "\u001b[1m3113/3113\u001b[0m \u001b[32m━━━━━━━━━━━━━━━━━━━━\u001b[0m\u001b[37m\u001b[0m \u001b[1m15s\u001b[0m 5ms/step - accuracy: 0.9842 - loss: 0.6212 - val_accuracy: 0.9663 - val_loss: 0.6270 - learning_rate: 2.0000e-05\n",
            "Epoch 181/200\n",
            "\u001b[1m3111/3113\u001b[0m \u001b[32m━━━━━━━━━━━━━━━━━━━\u001b[0m\u001b[37m━\u001b[0m \u001b[1m0s\u001b[0m 4ms/step - accuracy: 0.9857 - loss: 0.6193\n",
            "Epoch 181: val_loss did not improve from 0.62301\n",
            "\u001b[1m3113/3113\u001b[0m \u001b[32m━━━━━━━━━━━━━━━━━━━━\u001b[0m\u001b[37m\u001b[0m \u001b[1m15s\u001b[0m 5ms/step - accuracy: 0.9857 - loss: 0.6193 - val_accuracy: 0.9634 - val_loss: 0.6298 - learning_rate: 2.0000e-05\n",
            "Epoch 182/200\n",
            "\u001b[1m3111/3113\u001b[0m \u001b[32m━━━━━━━━━━━━━━━━━━━\u001b[0m\u001b[37m━\u001b[0m \u001b[1m0s\u001b[0m 4ms/step - accuracy: 0.9867 - loss: 0.6192\n",
            "Epoch 182: val_loss did not improve from 0.62301\n",
            "\u001b[1m3113/3113\u001b[0m \u001b[32m━━━━━━━━━━━━━━━━━━━━\u001b[0m\u001b[37m\u001b[0m \u001b[1m15s\u001b[0m 5ms/step - accuracy: 0.9867 - loss: 0.6192 - val_accuracy: 0.9639 - val_loss: 0.6298 - learning_rate: 2.0000e-05\n",
            "Epoch 183/200\n",
            "\u001b[1m3106/3113\u001b[0m \u001b[32m━━━━━━━━━━━━━━━━━━━\u001b[0m\u001b[37m━\u001b[0m \u001b[1m0s\u001b[0m 4ms/step - accuracy: 0.9849 - loss: 0.6197\n",
            "Epoch 183: val_loss did not improve from 0.62301\n",
            "\u001b[1m3113/3113\u001b[0m \u001b[32m━━━━━━━━━━━━━━━━━━━━\u001b[0m\u001b[37m\u001b[0m \u001b[1m15s\u001b[0m 5ms/step - accuracy: 0.9849 - loss: 0.6197 - val_accuracy: 0.9648 - val_loss: 0.6243 - learning_rate: 2.0000e-05\n",
            "Epoch 184/200\n",
            "\u001b[1m3105/3113\u001b[0m \u001b[32m━━━━━━━━━━━━━━━━━━━\u001b[0m\u001b[37m━\u001b[0m \u001b[1m0s\u001b[0m 4ms/step - accuracy: 0.9854 - loss: 0.6188\n",
            "Epoch 184: val_loss did not improve from 0.62301\n",
            "\u001b[1m3113/3113\u001b[0m \u001b[32m━━━━━━━━━━━━━━━━━━━━\u001b[0m\u001b[37m\u001b[0m \u001b[1m15s\u001b[0m 5ms/step - accuracy: 0.9854 - loss: 0.6188 - val_accuracy: 0.9632 - val_loss: 0.6308 - learning_rate: 2.0000e-05\n",
            "Epoch 185/200\n",
            "\u001b[1m3107/3113\u001b[0m \u001b[32m━━━━━━━━━━━━━━━━━━━\u001b[0m\u001b[37m━\u001b[0m \u001b[1m0s\u001b[0m 4ms/step - accuracy: 0.9849 - loss: 0.6175\n",
            "Epoch 185: val_loss did not improve from 0.62301\n",
            "\u001b[1m3113/3113\u001b[0m \u001b[32m━━━━━━━━━━━━━━━━━━━━\u001b[0m\u001b[37m\u001b[0m \u001b[1m15s\u001b[0m 5ms/step - accuracy: 0.9849 - loss: 0.6175 - val_accuracy: 0.9639 - val_loss: 0.6276 - learning_rate: 2.0000e-05\n",
            "Epoch 186/200\n",
            "\u001b[1m3107/3113\u001b[0m \u001b[32m━━━━━━━━━━━━━━━━━━━\u001b[0m\u001b[37m━\u001b[0m \u001b[1m0s\u001b[0m 4ms/step - accuracy: 0.9855 - loss: 0.6177\n",
            "Epoch 186: val_loss did not improve from 0.62301\n",
            "\u001b[1m3113/3113\u001b[0m \u001b[32m━━━━━━━━━━━━━━━━━━━━\u001b[0m\u001b[37m\u001b[0m \u001b[1m15s\u001b[0m 5ms/step - accuracy: 0.9855 - loss: 0.6177 - val_accuracy: 0.9635 - val_loss: 0.6294 - learning_rate: 2.0000e-05\n",
            "Epoch 187/200\n",
            "\u001b[1m3104/3113\u001b[0m \u001b[32m━━━━━━━━━━━━━━━━━━━\u001b[0m\u001b[37m━\u001b[0m \u001b[1m0s\u001b[0m 4ms/step - accuracy: 0.9869 - loss: 0.6171\n",
            "Epoch 187: val_loss did not improve from 0.62301\n",
            "\u001b[1m3113/3113\u001b[0m \u001b[32m━━━━━━━━━━━━━━━━━━━━\u001b[0m\u001b[37m\u001b[0m \u001b[1m14s\u001b[0m 4ms/step - accuracy: 0.9869 - loss: 0.6171 - val_accuracy: 0.9667 - val_loss: 0.6231 - learning_rate: 2.0000e-05\n",
            "Epoch 188/200\n",
            "\u001b[1m3101/3113\u001b[0m \u001b[32m━━━━━━━━━━━━━━━━━━━\u001b[0m\u001b[37m━\u001b[0m \u001b[1m0s\u001b[0m 4ms/step - accuracy: 0.9865 - loss: 0.6187\n",
            "Epoch 188: val_loss improved from 0.62301 to 0.62243, saving model to best_cnn_2d_vnemos.h5\n"
          ]
        },
        {
          "output_type": "stream",
          "name": "stderr",
          "text": [
            "WARNING:absl:You are saving your model as an HDF5 file via `model.save()` or `keras.saving.save_model(model)`. This file format is considered legacy. We recommend using instead the native Keras format, e.g. `model.save('my_model.keras')` or `keras.saving.save_model(model, 'my_model.keras')`. \n"
          ]
        },
        {
          "output_type": "stream",
          "name": "stdout",
          "text": [
            "\b\b\b\b\b\b\b\b\b\b\b\b\b\b\b\b\b\b\b\b\b\b\b\b\b\b\b\b\b\b\b\b\b\b\b\b\b\b\b\b\b\b\b\b\b\b\b\b\b\b\b\b\b\b\b\b\b\b\b\b\b\b\b\b\b\b\b\b\b\b\b\b\b\b\b\b\r\u001b[1m3113/3113\u001b[0m \u001b[32m━━━━━━━━━━━━━━━━━━━━\u001b[0m\u001b[37m\u001b[0m \u001b[1m15s\u001b[0m 5ms/step - accuracy: 0.9865 - loss: 0.6187 - val_accuracy: 0.9672 - val_loss: 0.6224 - learning_rate: 2.0000e-05\n",
            "Epoch 189/200\n",
            "\u001b[1m3103/3113\u001b[0m \u001b[32m━━━━━━━━━━━━━━━━━━━\u001b[0m\u001b[37m━\u001b[0m \u001b[1m0s\u001b[0m 4ms/step - accuracy: 0.9868 - loss: 0.6164\n",
            "Epoch 189: val_loss did not improve from 0.62243\n",
            "\u001b[1m3113/3113\u001b[0m \u001b[32m━━━━━━━━━━━━━━━━━━━━\u001b[0m\u001b[37m\u001b[0m \u001b[1m15s\u001b[0m 5ms/step - accuracy: 0.9868 - loss: 0.6164 - val_accuracy: 0.9668 - val_loss: 0.6245 - learning_rate: 2.0000e-05\n",
            "Epoch 190/200\n",
            "\u001b[1m3106/3113\u001b[0m \u001b[32m━━━━━━━━━━━━━━━━━━━\u001b[0m\u001b[37m━\u001b[0m \u001b[1m0s\u001b[0m 4ms/step - accuracy: 0.9850 - loss: 0.6184\n",
            "Epoch 190: val_loss did not improve from 0.62243\n",
            "\u001b[1m3113/3113\u001b[0m \u001b[32m━━━━━━━━━━━━━━━━━━━━\u001b[0m\u001b[37m\u001b[0m \u001b[1m15s\u001b[0m 5ms/step - accuracy: 0.9850 - loss: 0.6184 - val_accuracy: 0.9671 - val_loss: 0.6246 - learning_rate: 2.0000e-05\n",
            "Epoch 191/200\n",
            "\u001b[1m3102/3113\u001b[0m \u001b[32m━━━━━━━━━━━━━━━━━━━\u001b[0m\u001b[37m━\u001b[0m \u001b[1m0s\u001b[0m 4ms/step - accuracy: 0.9860 - loss: 0.6171\n",
            "Epoch 191: val_loss did not improve from 0.62243\n",
            "\u001b[1m3113/3113\u001b[0m \u001b[32m━━━━━━━━━━━━━━━━━━━━\u001b[0m\u001b[37m\u001b[0m \u001b[1m15s\u001b[0m 5ms/step - accuracy: 0.9860 - loss: 0.6171 - val_accuracy: 0.9619 - val_loss: 0.6292 - learning_rate: 2.0000e-05\n",
            "Epoch 192/200\n",
            "\u001b[1m3103/3113\u001b[0m \u001b[32m━━━━━━━━━━━━━━━━━━━\u001b[0m\u001b[37m━\u001b[0m \u001b[1m0s\u001b[0m 4ms/step - accuracy: 0.9854 - loss: 0.6170\n",
            "Epoch 192: val_loss did not improve from 0.62243\n",
            "\u001b[1m3113/3113\u001b[0m \u001b[32m━━━━━━━━━━━━━━━━━━━━\u001b[0m\u001b[37m\u001b[0m \u001b[1m15s\u001b[0m 5ms/step - accuracy: 0.9854 - loss: 0.6171 - val_accuracy: 0.9665 - val_loss: 0.6238 - learning_rate: 2.0000e-05\n",
            "Epoch 193/200\n",
            "\u001b[1m3110/3113\u001b[0m \u001b[32m━━━━━━━━━━━━━━━━━━━\u001b[0m\u001b[37m━\u001b[0m \u001b[1m0s\u001b[0m 4ms/step - accuracy: 0.9861 - loss: 0.6172\n",
            "Epoch 193: val_loss did not improve from 0.62243\n",
            "\u001b[1m3113/3113\u001b[0m \u001b[32m━━━━━━━━━━━━━━━━━━━━\u001b[0m\u001b[37m\u001b[0m \u001b[1m15s\u001b[0m 5ms/step - accuracy: 0.9861 - loss: 0.6172 - val_accuracy: 0.9671 - val_loss: 0.6226 - learning_rate: 2.0000e-05\n",
            "Epoch 194/200\n",
            "\u001b[1m3112/3113\u001b[0m \u001b[32m━━━━━━━━━━━━━━━━━━━\u001b[0m\u001b[37m━\u001b[0m \u001b[1m0s\u001b[0m 4ms/step - accuracy: 0.9856 - loss: 0.6155\n",
            "Epoch 194: val_loss improved from 0.62243 to 0.62187, saving model to best_cnn_2d_vnemos.h5\n"
          ]
        },
        {
          "output_type": "stream",
          "name": "stderr",
          "text": [
            "WARNING:absl:You are saving your model as an HDF5 file via `model.save()` or `keras.saving.save_model(model)`. This file format is considered legacy. We recommend using instead the native Keras format, e.g. `model.save('my_model.keras')` or `keras.saving.save_model(model, 'my_model.keras')`. \n"
          ]
        },
        {
          "output_type": "stream",
          "name": "stdout",
          "text": [
            "\b\b\b\b\b\b\b\b\b\b\b\b\b\b\b\b\b\b\b\b\b\b\b\b\b\b\b\b\b\b\b\b\b\b\b\b\b\b\b\b\b\b\b\b\b\b\b\b\b\b\b\b\b\b\b\b\b\b\b\b\b\b\b\b\b\b\b\b\b\b\b\b\b\b\b\b\r\u001b[1m3113/3113\u001b[0m \u001b[32m━━━━━━━━━━━━━━━━━━━━\u001b[0m\u001b[37m\u001b[0m \u001b[1m15s\u001b[0m 5ms/step - accuracy: 0.9856 - loss: 0.6155 - val_accuracy: 0.9675 - val_loss: 0.6219 - learning_rate: 2.0000e-05\n",
            "Epoch 195/200\n",
            "\u001b[1m3108/3113\u001b[0m \u001b[32m━━━━━━━━━━━━━━━━━━━\u001b[0m\u001b[37m━\u001b[0m \u001b[1m0s\u001b[0m 4ms/step - accuracy: 0.9861 - loss: 0.6147\n",
            "Epoch 195: val_loss did not improve from 0.62187\n",
            "\u001b[1m3113/3113\u001b[0m \u001b[32m━━━━━━━━━━━━━━━━━━━━\u001b[0m\u001b[37m\u001b[0m \u001b[1m15s\u001b[0m 5ms/step - accuracy: 0.9861 - loss: 0.6148 - val_accuracy: 0.9644 - val_loss: 0.6271 - learning_rate: 2.0000e-05\n",
            "Epoch 196/200\n",
            "\u001b[1m3103/3113\u001b[0m \u001b[32m━━━━━━━━━━━━━━━━━━━\u001b[0m\u001b[37m━\u001b[0m \u001b[1m0s\u001b[0m 4ms/step - accuracy: 0.9856 - loss: 0.6164\n",
            "Epoch 196: val_loss improved from 0.62187 to 0.62134, saving model to best_cnn_2d_vnemos.h5\n"
          ]
        },
        {
          "output_type": "stream",
          "name": "stderr",
          "text": [
            "WARNING:absl:You are saving your model as an HDF5 file via `model.save()` or `keras.saving.save_model(model)`. This file format is considered legacy. We recommend using instead the native Keras format, e.g. `model.save('my_model.keras')` or `keras.saving.save_model(model, 'my_model.keras')`. \n"
          ]
        },
        {
          "output_type": "stream",
          "name": "stdout",
          "text": [
            "\b\b\b\b\b\b\b\b\b\b\b\b\b\b\b\b\b\b\b\b\b\b\b\b\b\b\b\b\b\b\b\b\b\b\b\b\b\b\b\b\b\b\b\b\b\b\b\b\b\b\b\b\b\b\b\b\b\b\b\b\b\b\b\b\b\b\b\b\b\b\b\b\b\b\b\b\r\u001b[1m3113/3113\u001b[0m \u001b[32m━━━━━━━━━━━━━━━━━━━━\u001b[0m\u001b[37m\u001b[0m \u001b[1m15s\u001b[0m 5ms/step - accuracy: 0.9856 - loss: 0.6164 - val_accuracy: 0.9667 - val_loss: 0.6213 - learning_rate: 2.0000e-05\n",
            "Epoch 197/200\n",
            "\u001b[1m3109/3113\u001b[0m \u001b[32m━━━━━━━━━━━━━━━━━━━\u001b[0m\u001b[37m━\u001b[0m \u001b[1m0s\u001b[0m 4ms/step - accuracy: 0.9848 - loss: 0.6166\n",
            "Epoch 197: val_loss did not improve from 0.62134\n",
            "\u001b[1m3113/3113\u001b[0m \u001b[32m━━━━━━━━━━━━━━━━━━━━\u001b[0m\u001b[37m\u001b[0m \u001b[1m15s\u001b[0m 5ms/step - accuracy: 0.9848 - loss: 0.6166 - val_accuracy: 0.9652 - val_loss: 0.6251 - learning_rate: 2.0000e-05\n",
            "Epoch 198/200\n",
            "\u001b[1m3112/3113\u001b[0m \u001b[32m━━━━━━━━━━━━━━━━━━━\u001b[0m\u001b[37m━\u001b[0m \u001b[1m0s\u001b[0m 4ms/step - accuracy: 0.9846 - loss: 0.6177\n",
            "Epoch 198: val_loss did not improve from 0.62134\n",
            "\u001b[1m3113/3113\u001b[0m \u001b[32m━━━━━━━━━━━━━━━━━━━━\u001b[0m\u001b[37m\u001b[0m \u001b[1m15s\u001b[0m 5ms/step - accuracy: 0.9846 - loss: 0.6177 - val_accuracy: 0.9662 - val_loss: 0.6214 - learning_rate: 2.0000e-05\n",
            "Epoch 199/200\n",
            "\u001b[1m3110/3113\u001b[0m \u001b[32m━━━━━━━━━━━━━━━━━━━\u001b[0m\u001b[37m━\u001b[0m \u001b[1m0s\u001b[0m 4ms/step - accuracy: 0.9859 - loss: 0.6154\n",
            "Epoch 199: val_loss improved from 0.62134 to 0.62043, saving model to best_cnn_2d_vnemos.h5\n"
          ]
        },
        {
          "output_type": "stream",
          "name": "stderr",
          "text": [
            "WARNING:absl:You are saving your model as an HDF5 file via `model.save()` or `keras.saving.save_model(model)`. This file format is considered legacy. We recommend using instead the native Keras format, e.g. `model.save('my_model.keras')` or `keras.saving.save_model(model, 'my_model.keras')`. \n"
          ]
        },
        {
          "output_type": "stream",
          "name": "stdout",
          "text": [
            "\b\b\b\b\b\b\b\b\b\b\b\b\b\b\b\b\b\b\b\b\b\b\b\b\b\b\b\b\b\b\b\b\b\b\b\b\b\b\b\b\b\b\b\b\b\b\b\b\b\b\b\b\b\b\b\b\b\b\b\b\b\b\b\b\b\b\b\b\b\b\b\b\b\b\b\b\r\u001b[1m3113/3113\u001b[0m \u001b[32m━━━━━━━━━━━━━━━━━━━━\u001b[0m\u001b[37m\u001b[0m \u001b[1m15s\u001b[0m 5ms/step - accuracy: 0.9859 - loss: 0.6154 - val_accuracy: 0.9667 - val_loss: 0.6204 - learning_rate: 2.0000e-05\n",
            "Epoch 200/200\n",
            "\u001b[1m3103/3113\u001b[0m \u001b[32m━━━━━━━━━━━━━━━━━━━\u001b[0m\u001b[37m━\u001b[0m \u001b[1m0s\u001b[0m 4ms/step - accuracy: 0.9856 - loss: 0.6152\n",
            "Epoch 200: val_loss did not improve from 0.62043\n",
            "\u001b[1m3113/3113\u001b[0m \u001b[32m━━━━━━━━━━━━━━━━━━━━\u001b[0m\u001b[37m\u001b[0m \u001b[1m15s\u001b[0m 5ms/step - accuracy: 0.9856 - loss: 0.6152 - val_accuracy: 0.9650 - val_loss: 0.6243 - learning_rate: 2.0000e-05\n"
          ]
        },
        {
          "output_type": "stream",
          "name": "stderr",
          "text": [
            "WARNING:absl:You are saving your model as an HDF5 file via `model.save()` or `keras.saving.save_model(model)`. This file format is considered legacy. We recommend using instead the native Keras format, e.g. `model.save('my_model.keras')` or `keras.saving.save_model(model, 'my_model.keras')`. \n"
          ]
        },
        {
          "output_type": "stream",
          "name": "stdout",
          "text": [
            "\n",
            "Đánh giá trên tập kiểm tra:\n",
            " - Loss: 0.6204\n",
            " - Accuracy: 0.9667\n"
          ]
        },
        {
          "output_type": "display_data",
          "data": {
            "text/plain": [
              "<Figure size 1000x600 with 1 Axes>"
            ],
            "image/png": "[encoded data removed]"
          },
          "metadata": {}
        }
      ]
    },
    {
      "cell_type": "code",
      "source": [
        "    best_model = tf.keras.models.load_model('best_cnn_2d_vnemos.h5')\n",
        "    root_folder_test = \"/content/emotion_test/Emotions-test\"\n",
        "    folders_test = [f for f in glob.glob(os.path.join(root_folder_test, \"*\")) if os.path.isdir(f)]\n",
        "    all_files_test = []\n",
        "    for folder in folders_test:\n",
        "        all_files_test.extend(glob.glob(os.path.join(folder, \"**\", \"*.wav\"), recursive=True))\n",
        "    for test_path in all_files_test:\n",
        "        predicted_emotion = predict_emotion(test_path, best_model)\n",
        "        print(f\"Dự đoán cảm xúc {os.path.basename(test_path)} (best model): {predicted_emotion}\")"
      ],
      "metadata": {
        "colab": {
          "base_uri": "https://localhost:8080/"
        },
        "id": "Bb5SII2o9MH-",
        "outputId": "ebf9fd65-48a1-4e12-8811-6e8bd636c202"
      },
      "execution_count": 14,
      "outputs": [
        {
          "output_type": "stream",
          "name": "stderr",
          "text": [
            "WARNING:absl:Compiled the loaded model, but the compiled metrics have yet to be built. `model.compile_metrics` will be empty until you train or evaluate the model.\n"
          ]
        },
        {
          "output_type": "stream",
          "name": "stdout",
          "text": [
            "Dự đoán cảm xúc YAF_witch_happy.wav (best model): Happy\n",
            "Dự đoán cảm xúc YAF_tell_happy.wav (best model): Happy\n",
            "Dự đoán cảm xúc a06.wav (best model): Happy\n",
            "Dự đoán cảm xúc a01.wav (best model): Happy\n",
            "Dự đoán cảm xúc a05.wav (best model): Happy\n",
            "Dự đoán cảm xúc YAF_wife_happy.wav (best model): Happy\n",
            "Dự đoán cảm xúc YAF_turn_happy.wav (best model): Happy\n",
            "Dự đoán cảm xúc YAF_wheat_happy.wav (best model): Happy\n",
            "Dự đoán cảm xúc d01.wav (best model): Happy\n",
            "Dự đoán cảm xúc YAF_tough_happy.wav (best model): Happy\n",
            "Dự đoán cảm xúc a02.wav (best model): Happy\n",
            "Dự đoán cảm xúc YAF_talk_happy.wav (best model): Happy\n",
            "Dự đoán cảm xúc a15.wav (best model): Happy\n",
            "Dự đoán cảm xúc YAF_walk_happy.wav (best model): Happy\n",
            "Dự đoán cảm xúc YAF_thin_happy.wav (best model): Happy\n",
            "Dự đoán cảm xúc YAF_third_happy.wav (best model): Happy\n",
            "Dự đoán cảm xúc YAF_when_happy.wav (best model): Happy\n",
            "Dự đoán cảm xúc YAF_team_happy.wav (best model): Happy\n",
            "Dự đoán cảm xúc YAF_voice_happy.wav (best model): Happy\n",
            "Dự đoán cảm xúc YAF_such_happy.wav (best model): Happy\n",
            "Dự đoán cảm xúc d05.wav (best model): Happy\n",
            "Dự đoán cảm xúc a03.wav (best model): Happy\n",
            "Dự đoán cảm xúc a04.wav (best model): Happy\n",
            "Dự đoán cảm xúc YAF_wag_happy.wav (best model): Happy\n",
            "Dự đoán cảm xúc YAF_void_happy.wav (best model): Happy\n",
            "Dự đoán cảm xúc YAF_tire_happy.wav (best model): Happy\n",
            "Dự đoán cảm xúc YAF_sure_happy.wav (best model): Happy\n",
            "Dự đoán cảm xúc YAF_young_happy.wav (best model): Happy\n",
            "Dự đoán cảm xúc YAF_tip_happy.wav (best model): Happy\n",
            "Dự đoán cảm xúc YAF_time_happy.wav (best model): Happy\n",
            "Dự đoán cảm xúc YAF_thought_happy.wav (best model): Happy\n",
            "Dự đoán cảm xúc YAF_vote_happy.wav (best model): Happy\n",
            "Dự đoán cảm xúc d09.wav (best model): Happy\n",
            "Dự đoán cảm xúc a14.wav (best model): Happy\n",
            "Dự đoán cảm xúc d06.wav (best model): Happy\n",
            "Dự đoán cảm xúc d04.wav (best model): Happy\n",
            "Dự đoán cảm xúc YAF_yearn_happy.wav (best model): Happy\n",
            "Dự đoán cảm xúc a10.wav (best model): Happy\n",
            "Dự đoán cảm xúc YAF_thumb_happy.wav (best model): Happy\n",
            "Dự đoán cảm xúc a08.wav (best model): Happy\n",
            "Dự đoán cảm xúc d02.wav (best model): Happy\n",
            "Dự đoán cảm xúc YAF_whip_happy.wav (best model): Happy\n",
            "Dự đoán cảm xúc YAF_yes_happy.wav (best model): Happy\n",
            "Dự đoán cảm xúc YAF_ton_happy.wav (best model): Happy\n",
            "Dự đoán cảm xúc YAF_wire_happy.wav (best model): Happy\n",
            "Dự đoán cảm xúc YAF_vine_happy.wav (best model): Happy\n",
            "Dự đoán cảm xúc YAF_tape_happy.wav (best model): Happy\n",
            "Dự đoán cảm xúc d03.wav (best model): Happy\n",
            "Dự đoán cảm xúc d08.wav (best model): Happy\n",
            "Dự đoán cảm xúc a12.wav (best model): Happy\n",
            "Dự đoán cảm xúc YAF_tool_happy.wav (best model): Happy\n",
            "Dự đoán cảm xúc a11.wav (best model): Happy\n",
            "Dự đoán cảm xúc a07.wav (best model): Happy\n",
            "Dự đoán cảm xúc a13.wav (best model): Happy\n",
            "Dự đoán cảm xúc YAF_youth_happy.wav (best model): Happy\n",
            "Dự đoán cảm xúc d07.wav (best model): Happy\n",
            "Dự đoán cảm xúc YAF_wash_happy.wav (best model): Happy\n",
            "Dự đoán cảm xúc YAF_white_happy.wav (best model): Happy\n",
            "Dự đoán cảm xúc YAF_week_happy.wav (best model): Happy\n",
            "Dự đoán cảm xúc YAF_which_happy.wav (best model): Happy\n",
            "Dự đoán cảm xúc YAF_take_happy.wav (best model): Happy\n",
            "Dự đoán cảm xúc a09.wav (best model): Happy\n",
            "Dự đoán cảm xúc YAF_knock_angry.wav (best model): Angry\n",
            "Dự đoán cảm xúc YAF_loaf_angry.wav (best model): Angry\n",
            "Dự đoán cảm xúc YAF_kite_angry.wav (best model): Angry\n",
            "Dự đoán cảm xúc YAF_mill_angry.wav (best model): Angry\n",
            "Dự đoán cảm xúc n03.wav (best model): Angry\n",
            "Dự đoán cảm xúc YAF_lean_angry.wav (best model): Angry\n",
            "Dự đoán cảm xúc YAF_tough_angry.wav (best model): Angry\n",
            "Dự đoán cảm xúc YAF_lease_angry.wav (best model): Angry\n",
            "Dự đoán cảm xúc YAF_ton_angry.wav (best model): Angry\n",
            "Dự đoán cảm xúc YAF_met_angry.wav (best model): Angry\n",
            "Dự đoán cảm xúc n06.wav (best model): Angry\n",
            "Dự đoán cảm xúc YAF_king_angry.wav (best model): Angry\n",
            "Dự đoán cảm xúc YAF_tire_angry.wav (best model): Angry\n",
            "Dự đoán cảm xúc n08.wav (best model): Angry\n",
            "Dự đoán cảm xúc YAF_late_angry.wav (best model): Angry\n",
            "Dự đoán cảm xúc YAF_turn_angry.wav (best model): Angry\n",
            "Dự đoán cảm xúc YAF_love_angry.wav (best model): Angry\n",
            "Dự đoán cảm xúc YAF_make_angry.wav (best model): Angry\n",
            "Dự đoán cảm xúc n02.wav (best model): Angry\n",
            "Dự đoán cảm xúc YAF_lid_angry.wav (best model): Angry\n",
            "Dự đoán cảm xúc YAF_match_angry.wav (best model): Angry\n",
            "Dự đoán cảm xúc n09.wav (best model): Angry\n",
            "Dự đoán cảm xúc d05.wav (best model): Angry\n",
            "Dự đoán cảm xúc YAF_kick_angry.wav (best model): Angry\n",
            "Dự đoán cảm xúc YAF_life_angry.wav (best model): Angry\n",
            "Dự đoán cảm xúc d06.wav (best model): Angry\n",
            "Dự đoán cảm xúc d04.wav (best model): Angry\n",
            "Dự đoán cảm xúc YAF_lose_angry.wav (best model): Angry\n",
            "Dự đoán cảm xúc YAF_merge_angry.wav (best model): Angry\n",
            "Dự đoán cảm xúc YAF_long_angry.wav (best model): Angry\n",
            "Dự đoán cảm xúc YAF_tool_angry.wav (best model): Angry\n",
            "Dự đoán cảm xúc d02.wav (best model): Angry\n",
            "Dự đoán cảm xúc YAF_mood_angry.wav (best model): Angry\n",
            "Dự đoán cảm xúc YAF_mess_angry.wav (best model): Angry\n",
            "Dự đoán cảm xúc YAF_laud_angry.wav (best model): Angry\n",
            "Dự đoán cảm xúc YAF_live_angry.wav (best model): Angry\n",
            "Dự đoán cảm xúc YAF_moon_angry.wav (best model): Angry\n",
            "Dự đoán cảm xúc YAF_tip_angry.wav (best model): Angry\n",
            "Dự đoán cảm xúc n05.wav (best model): Angry\n",
            "Dự đoán cảm xúc n07.wav (best model): Angry\n",
            "Dự đoán cảm xúc d03.wav (best model): Angry\n",
            "Dự đoán cảm xúc YAF_lore_angry.wav (best model): Angry\n",
            "Dự đoán cảm xúc YAF_limb_angry.wav (best model): Angry\n",
            "Dự đoán cảm xúc d07.wav (best model): Angry\n",
            "Dự đoán cảm xúc YAF_kill_angry.wav (best model): Angry\n",
            "Dự đoán cảm xúc YAF_mode_angry.wav (best model): Angry\n",
            "Dự đoán cảm xúc YAF_lot_angry.wav (best model): Angry\n",
            "Dự đoán cảm xúc YAF_luck_angry.wav (best model): Angry\n",
            "Dự đoán cảm xúc n04.wav (best model): Angry\n",
            "Dự đoán cảm xúc YAF_mob_angry.wav (best model): Angry\n",
            "Dự đoán cảm xúc YAF_learn_angry.wav (best model): Angry\n",
            "Dự đoán cảm xúc YAF_witch_ps.wav (best model): Suprised\n",
            "Dự đoán cảm xúc YAF_tell_ps.wav (best model): Suprised\n",
            "Dự đoán cảm xúc YAF_tough_ps.wav (best model): Suprised\n",
            "Dự đoán cảm xúc YAF_wash_ps.wav (best model): Suprised\n",
            "Dự đoán cảm xúc YAF_ton_ps.wav (best model): Suprised\n",
            "Dự đoán cảm xúc YAF_vote_ps.wav (best model): Suprised\n",
            "Dự đoán cảm xúc YAF_wag_ps.wav (best model): Suprised\n",
            "Dự đoán cảm xúc YAF_thumb_ps.wav (best model): Suprised\n",
            "Dự đoán cảm xúc YAF_young_ps.wav (best model): Suprised\n",
            "Dự đoán cảm xúc YAF_turn_ps.wav (best model): Suprised\n",
            "Dự đoán cảm xúc YAF_team_ps.wav (best model): Suprised\n",
            "Dự đoán cảm xúc YAF_yearn_ps.wav (best model): Suprised\n",
            "Dự đoán cảm xúc YAF_tape_ps.wav (best model): Suprised\n",
            "Dự đoán cảm xúc YAF_wire_ps.wav (best model): Suprised\n",
            "Dự đoán cảm xúc YAF_which_ps.wav (best model): Suprised\n",
            "Dự đoán cảm xúc YAF_voice_ps.wav (best model): Suprised\n",
            "Dự đoán cảm xúc YAF_vine_ps.wav (best model): Suprised\n",
            "Dự đoán cảm xúc YAF_void_ps.wav (best model): Suprised\n",
            "Dự đoán cảm xúc YAF_wheat_ps.wav (best model): Suprised\n",
            "Dự đoán cảm xúc YAF_wife_ps.wav (best model): Suprised\n",
            "Dự đoán cảm xúc YAF_thought_ps.wav (best model): Suprised\n",
            "Dự đoán cảm xúc YAF_white_ps.wav (best model): Suprised\n",
            "Dự đoán cảm xúc YAF_third_ps.wav (best model): Suprised\n",
            "Dự đoán cảm xúc YAF_week_ps.wav (best model): Suprised\n",
            "Dự đoán cảm xúc YAF_tip_ps.wav (best model): Suprised\n",
            "Dự đoán cảm xúc YAF_talk_ps.wav (best model): Suprised\n",
            "Dự đoán cảm xúc YAF_whip_ps.wav (best model): Suprised\n",
            "Dự đoán cảm xúc YAF_when_ps.wav (best model): Suprised\n",
            "Dự đoán cảm xúc YAF_tool_ps.wav (best model): Suprised\n",
            "Dự đoán cảm xúc YAF_youth_ps.wav (best model): Suprised\n",
            "Dự đoán cảm xúc YAF_walk_ps.wav (best model): Suprised\n",
            "Dự đoán cảm xúc YAF_yes_ps.wav (best model): Suprised\n",
            "Dự đoán cảm xúc YAF_time_ps.wav (best model): Suprised\n",
            "Dự đoán cảm xúc YAF_tire_ps.wav (best model): Suprised\n",
            "Dự đoán cảm xúc YAF_thin_ps.wav (best model): Suprised\n",
            "Dự đoán cảm xúc YAF_void_neutral.wav (best model): Neutral\n",
            "Dự đoán cảm xúc a06.wav (best model): Neutral\n",
            "Dự đoán cảm xúc YAF_wag_neutral.wav (best model): Neutral\n",
            "Dự đoán cảm xúc a01.wav (best model): Neutral\n",
            "Dự đoán cảm xúc a05.wav (best model): Neutral\n",
            "Dự đoán cảm xúc YAF_walk_neutral.wav (best model): Neutral\n",
            "Dự đoán cảm xúc YAF_which_neutral.wav (best model): Neutral\n",
            "Dự đoán cảm xúc YAF_youth_neutral.wav (best model): Neutral\n",
            "Dự đoán cảm xúc d01.wav (best model): Neutral\n",
            "Dự đoán cảm xúc a02.wav (best model): Neutral\n",
            "Dự đoán cảm xúc a15.wav (best model): Neutral\n",
            "Dự đoán cảm xúc YAF_yes_neutral.wav (best model): Neutral\n",
            "Dự đoán cảm xúc YAF_tough_neutral.wav (best model): Neutral\n",
            "Dự đoán cảm xúc YAF_young_neutral.wav (best model): Neutral\n",
            "Dự đoán cảm xúc YAF_witch_neutral.wav (best model): Neutral\n",
            "Dự đoán cảm xúc YAF_whip_neutral.wav (best model): Neutral\n",
            "Dự đoán cảm xúc YAF_vine_neutral.wav (best model): Neutral\n",
            "Dự đoán cảm xúc YAF_week_neutral.wav (best model): Neutral\n",
            "Dự đoán cảm xúc a03.wav (best model): Neutral\n",
            "Dự đoán cảm xúc a04.wav (best model): Neutral\n",
            "Dự đoán cảm xúc YAF_white_neutral.wav (best model): Neutral\n",
            "Dự đoán cảm xúc YAF_vote_neutral.wav (best model): Neutral\n",
            "Dự đoán cảm xúc a14.wav (best model): Neutral\n",
            "Dự đoán cảm xúc YAF_wire_neutral.wav (best model): Neutral\n",
            "Dự đoán cảm xúc a10.wav (best model): Neutral\n",
            "Dự đoán cảm xúc YAF_turn_neutral.wav (best model): Neutral\n",
            "Dự đoán cảm xúc a08.wav (best model): Neutral\n",
            "Dự đoán cảm xúc d02.wav (best model): Neutral\n",
            "Dự đoán cảm xúc YAF_yearn_neutral.wav (best model): Neutral\n",
            "Dự đoán cảm xúc YAF_voice_neutral.wav (best model): Neutral\n",
            "Dự đoán cảm xúc YAF_wife_neutral.wav (best model): Neutral\n",
            "Dự đoán cảm xúc YAF_wash_neutral.wav (best model): Neutral\n",
            "Dự đoán cảm xúc d03.wav (best model): Neutral\n",
            "Dự đoán cảm xúc YAF_when_neutral.wav (best model): Neutral\n",
            "Dự đoán cảm xúc a12.wav (best model): Neutral\n",
            "Dự đoán cảm xúc a11.wav (best model): Neutral\n",
            "Dự đoán cảm xúc a07.wav (best model): Neutral\n",
            "Dự đoán cảm xúc a13.wav (best model): Neutral\n",
            "Dự đoán cảm xúc YAF_wheat_neutral.wav (best model): Neutral\n",
            "Dự đoán cảm xúc a09.wav (best model): Neutral\n",
            "Dự đoán cảm xúc YAF_sell_fear.wav (best model): Fearful\n",
            "Dự đoán cảm xúc YAF_wire_fear.wav (best model): Fearful\n",
            "Dự đoán cảm xúc YAF_size_fear.wav (best model): Fearful\n",
            "Dự đoán cảm xúc YAF_sub_fear.wav (best model): Fearful\n",
            "Dự đoán cảm xúc YAF_yes_fear.wav (best model): Fearful\n",
            "Dự đoán cảm xúc OAF_sour_fear.wav (best model): Fearful\n",
            "Dự đoán cảm xúc YAF_wag_fear.wav (best model): Fearful\n",
            "Dự đoán cảm xúc OAF_sub_fear.wav (best model): Fearful\n",
            "Dự đoán cảm xúc YAF_voice_fear.wav (best model): Fearful\n",
            "Dự đoán cảm xúc YAF_void_fear.wav (best model): Fearful\n",
            "Dự đoán cảm xúc YAF_yearn_fear.wav (best model): Fearful\n",
            "Dự đoán cảm xúc YAF_when_fear.wav (best model): Fearful\n",
            "Dự đoán cảm xúc YAF_time_fear.wav (best model): Fearful\n",
            "Dự đoán cảm xúc YAF_witch_fear.wav (best model): Fearful\n",
            "Dự đoán cảm xúc YAF_team_fear.wav (best model): Fearful\n",
            "Dự đoán cảm xúc YAF_white_fear.wav (best model): Fearful\n",
            "Dự đoán cảm xúc YAF_south_fear.wav (best model): Fearful\n",
            "Dự đoán cảm xúc YAF_vine_fear.wav (best model): Fearful\n",
            "Dự đoán cảm xúc YAF_sheep_fear.wav (best model): Fearful\n",
            "Dự đoán cảm xúc YAF_walk_fear.wav (best model): Fearful\n",
            "Dự đoán cảm xúc YAF_take_fear.wav (best model): Fearful\n",
            "Dự đoán cảm xúc YAF_youth_fear.wav (best model): Fearful\n",
            "Dự đoán cảm xúc YAF_week_fear.wav (best model): Fearful\n",
            "Dự đoán cảm xúc OAF_talk_fear.wav (best model): Fearful\n",
            "Dự đoán cảm xúc YAF_vote_fear.wav (best model): Fearful\n",
            "Dự đoán cảm xúc YAF_soup_fear.wav (best model): Fearful\n",
            "Dự đoán cảm xúc YAF_thin_fear.wav (best model): Fearful\n",
            "Dự đoán cảm xúc OAF_take_fear.wav (best model): Fearful\n",
            "Dự đoán cảm xúc YAF_young_fear.wav (best model): Fearful\n",
            "Dự đoán cảm xúc OAF_south_fear.wav (best model): Fearful\n",
            "Dự đoán cảm xúc YAF_tire_fear.wav (best model): Fearful\n",
            "Dự đoán cảm xúc YAF_tape_fear.wav (best model): Fearful\n",
            "Dự đoán cảm xúc YAF_shawl_fear.wav (best model): Fearful\n",
            "Dự đoán cảm xúc YAF_shack_fear.wav (best model): Fearful\n",
            "Dự đoán cảm xúc YAF_shout_fear.wav (best model): Fearful\n",
            "Dự đoán cảm xúc YAF_soap_fear.wav (best model): Fearful\n",
            "Dự đoán cảm xúc YAF_shirt_fear.wav (best model): Fearful\n",
            "Dự đoán cảm xúc OAF_sure_fear.wav (best model): Fearful\n",
            "Dự đoán cảm xúc YAF_should_fear.wav (best model): Fearful\n",
            "Dự đoán cảm xúc YAF_thought_fear.wav (best model): Fearful\n",
            "Dự đoán cảm xúc YAF_wheat_fear.wav (best model): Fearful\n",
            "Dự đoán cảm xúc YAF_which_fear.wav (best model): Fearful\n",
            "Dự đoán cảm xúc YAF_turn_fear.wav (best model): Fearful\n",
            "Dự đoán cảm xúc YAF_tip_fear.wav (best model): Fearful\n",
            "Dự đoán cảm xúc YAF_tough_fear.wav (best model): Fearful\n",
            "Dự đoán cảm xúc YAF_tool_fear.wav (best model): Fearful\n",
            "Dự đoán cảm xúc YAF_third_fear.wav (best model): Fearful\n",
            "Dự đoán cảm xúc YAF_sour_fear.wav (best model): Fearful\n",
            "Dự đoán cảm xúc YAF_whip_fear.wav (best model): Fearful\n",
            "Dự đoán cảm xúc YAF_shall_fear.wav (best model): Fearful\n",
            "Dự đoán cảm xúc YAF_such_fear.wav (best model): Fearful\n",
            "Dự đoán cảm xúc YAF_wife_fear.wav (best model): Fearful\n",
            "Dự đoán cảm xúc OAF_soup_fear.wav (best model): Fearful\n",
            "Dự đoán cảm xúc YAF_thumb_fear.wav (best model): Fearful\n",
            "Dự đoán cảm xúc OAF_such_fear.wav (best model): Fearful\n",
            "Dự đoán cảm xúc YAF_talk_fear.wav (best model): Fearful\n",
            "Dự đoán cảm xúc YAF_tell_fear.wav (best model): Fearful\n",
            "Dự đoán cảm xúc YAF_ton_fear.wav (best model): Fearful\n",
            "Dự đoán cảm xúc YAF_wash_fear.wav (best model): Fearful\n",
            "Dự đoán cảm xúc YAF_seize_fear.wav (best model): Fearful\n",
            "Dự đoán cảm xúc YAF_sure_fear.wav (best model): Fearful\n",
            "Dự đoán cảm xúc sa14.wav (best model): Sad\n",
            "Dự đoán cảm xúc su15.wav (best model): Sad\n",
            "Dự đoán cảm xúc sa01.wav (best model): Sad\n",
            "Dự đoán cảm xúc sa13.wav (best model): Sad\n",
            "Dự đoán cảm xúc su12.wav (best model): Sad\n",
            "Dự đoán cảm xúc su13.wav (best model): Sad\n",
            "Dự đoán cảm xúc su06.wav (best model): Sad\n",
            "Dự đoán cảm xúc sa15.wav (best model): Sad\n",
            "Dự đoán cảm xúc sa08.wav (best model): Sad\n",
            "Dự đoán cảm xúc su02.wav (best model): Sad\n",
            "Dự đoán cảm xúc su01.wav (best model): Sad\n",
            "Dự đoán cảm xúc sa10.wav (best model): Sad\n",
            "Dự đoán cảm xúc sa12.wav (best model): Sad\n",
            "Dự đoán cảm xúc sa04.wav (best model): Sad\n",
            "Dự đoán cảm xúc su08.wav (best model): Sad\n",
            "Dự đoán cảm xúc sa02.wav (best model): Sad\n",
            "Dự đoán cảm xúc sa06.wav (best model): Sad\n",
            "Dự đoán cảm xúc sa07.wav (best model): Sad\n",
            "Dự đoán cảm xúc su11.wav (best model): Sad\n",
            "Dự đoán cảm xúc su07.wav (best model): Sad\n",
            "Dự đoán cảm xúc sa09.wav (best model): Sad\n",
            "Dự đoán cảm xúc su09.wav (best model): Sad\n",
            "Dự đoán cảm xúc sa05.wav (best model): Sad\n",
            "Dự đoán cảm xúc sa11.wav (best model): Sad\n",
            "Dự đoán cảm xúc su03.wav (best model): Sad\n",
            "Dự đoán cảm xúc su04.wav (best model): Sad\n",
            "Dự đoán cảm xúc su05.wav (best model): Sad\n",
            "Dự đoán cảm xúc sa03.wav (best model): Sad\n",
            "Dự đoán cảm xúc su14.wav (best model): Sad\n",
            "Dự đoán cảm xúc su10.wav (best model): Sad\n",
            "Dự đoán cảm xúc OAF_sure_disgust.wav (best model): Disgusted\n",
            "Dự đoán cảm xúc OAF_team_disgust.wav (best model): Disgusted\n",
            "Dự đoán cảm xúc OAF_tire_disgust.wav (best model): Disgusted\n",
            "Dự đoán cảm xúc YAF_book_disgust.wav (best model): Disgusted\n",
            "Dự đoán cảm xúc OAF_whip_disgust.wav (best model): Disgusted\n",
            "Dự đoán cảm xúc OAF_time_disgust.wav (best model): Disgusted\n",
            "Dự đoán cảm xúc OAF_wire_disgust.wav (best model): Disgusted\n",
            "Dự đoán cảm xúc OAF_thumb_disgust.wav (best model): Disgusted\n",
            "Dự đoán cảm xúc OAF_wag_disgust.wav (best model): Disgusted\n",
            "Dự đoán cảm xúc YAF_boat_disgust.wav (best model): Disgusted\n",
            "Dự đoán cảm xúc OAF_tape_disgust.wav (best model): Disgusted\n",
            "Dự đoán cảm xúc OAF_tool_disgust.wav (best model): Disgusted\n",
            "Dự đoán cảm xúc OAF_thought_disgust.wav (best model): Disgusted\n",
            "Dự đoán cảm xúc OAF_tip_disgust.wav (best model): Disgusted\n",
            "Dự đoán cảm xúc OAF_shack_disgust.wav (best model): Disgusted\n",
            "Dự đoán cảm xúc OAF_shirt_disgust.wav (best model): Disgusted\n",
            "Dự đoán cảm xúc OAF_talk_disgust.wav (best model): Disgusted\n",
            "Dự đoán cảm xúc OAF_such_disgust.wav (best model): Disgusted\n",
            "Dự đoán cảm xúc OAF_said_disgust.wav (best model): Disgusted\n",
            "Dự đoán cảm xúc OAF_thin_disgust.wav (best model): Disgusted\n",
            "Dự đoán cảm xúc OAF_voice_disgust.wav (best model): Disgusted\n",
            "Dự đoán cảm xúc OAF_youth_disgust.wav (best model): Disgusted\n",
            "Dự đoán cảm xúc OAF_south_disgust.wav (best model): Disgusted\n",
            "Dự đoán cảm xúc OAF_tell_disgust.wav (best model): Disgusted\n",
            "Dự đoán cảm xúc OAF_tough_disgust.wav (best model): Disgusted\n",
            "Dự đoán cảm xúc YAF_bean_disgust.wav (best model): Disgusted\n",
            "Dự đoán cảm xúc OAF_third_disgust.wav (best model): Disgusted\n",
            "Dự đoán cảm xúc OAF_shall_disgust.wav (best model): Disgusted\n",
            "Dự đoán cảm xúc YAF_back_disgust.wav (best model): Disgusted\n",
            "Dự đoán cảm xúc YAF_bar_disgust.wav (best model): Disgusted\n",
            "Dự đoán cảm xúc OAF_sour_disgust.wav (best model): Disgusted\n",
            "Dự đoán cảm xúc OAF_yes_disgust.wav (best model): Disgusted\n",
            "Dự đoán cảm xúc YAF_bite_disgust.wav (best model): Disgusted\n",
            "Dự đoán cảm xúc OAF_wife_disgust.wav (best model): Disgusted\n",
            "Dự đoán cảm xúc OAF_sub_disgust.wav (best model): Disgusted\n",
            "Dự đoán cảm xúc OAF_soap_disgust.wav (best model): Disgusted\n",
            "Dự đoán cảm xúc OAF_search_disgust.wav (best model): Disgusted\n",
            "Dự đoán cảm xúc OAF_walk_disgust.wav (best model): Disgusted\n",
            "Dự đoán cảm xúc OAF_seize_disgust.wav (best model): Disgusted\n",
            "Dự đoán cảm xúc OAF_yearn_disgust.wav (best model): Disgusted\n",
            "Dự đoán cảm xúc OAF_week_disgust.wav (best model): Disgusted\n",
            "Dự đoán cảm xúc OAF_turn_disgust.wav (best model): Disgusted\n",
            "Dự đoán cảm xúc OAF_ton_disgust.wav (best model): Disgusted\n",
            "Dự đoán cảm xúc OAF_should_disgust.wav (best model): Disgusted\n",
            "Dự đoán cảm xúc YAF_base_disgust.wav (best model): Disgusted\n",
            "Dự đoán cảm xúc OAF_wheat_disgust.wav (best model): Disgusted\n",
            "Dự đoán cảm xúc YAF_bought_disgust.wav (best model): Disgusted\n",
            "Dự đoán cảm xúc YAF_bone_disgust.wav (best model): Disgusted\n",
            "Dự đoán cảm xúc OAF_take_disgust.wav (best model): Disgusted\n",
            "Dự đoán cảm xúc OAF_void_disgust.wav (best model): Disgusted\n",
            "Dự đoán cảm xúc OAF_shout_disgust.wav (best model): Disgusted\n",
            "Dự đoán cảm xúc OAF_sail_disgust.wav (best model): Disgusted\n",
            "Dự đoán cảm xúc OAF_vote_disgust.wav (best model): Disgusted\n",
            "Dự đoán cảm xúc OAF_witch_disgust.wav (best model): Disgusted\n",
            "Dự đoán cảm xúc OAF_size_disgust.wav (best model): Disgusted\n",
            "Dự đoán cảm xúc OAF_wash_disgust.wav (best model): Disgusted\n",
            "Dự đoán cảm xúc OAF_sell_disgust.wav (best model): Disgusted\n",
            "Dự đoán cảm xúc OAF_shawl_disgust.wav (best model): Disgusted\n",
            "Dự đoán cảm xúc YAF_bath_disgust.wav (best model): Disgusted\n",
            "Dự đoán cảm xúc OAF_which_disgust.wav (best model): Disgusted\n",
            "Dự đoán cảm xúc OAF_white_disgust.wav (best model): Disgusted\n",
            "Dự đoán cảm xúc OAF_sheep_disgust.wav (best model): Disgusted\n",
            "Dự đoán cảm xúc OAF_rush_disgust.wav (best model): Disgusted\n",
            "Dự đoán cảm xúc OAF_soup_disgust.wav (best model): Disgusted\n",
            "Dự đoán cảm xúc OAF_young_disgust.wav (best model): Disgusted\n",
            "Dự đoán cảm xúc OAF_when_disgust.wav (best model): Disgusted\n",
            "Dự đoán cảm xúc OAF_vine_disgust.wav (best model): Disgusted\n",
            "Dự đoán cảm xúc YAF_beg_disgust.wav (best model): Disgusted\n"
          ]
        }
      ]
    },
    {
      "cell_type": "markdown",
      "metadata": {
        "id": "Sa-IrJS1aRVJ"
      },
      "source": [
        "In order to use a GPU with your notebook, select the <code>Runtime &gt; Change runtime type</code> menu and then set the hardware accelerator to the desired option."
      ]
    },
    {
      "cell_type": "markdown",
      "metadata": {
        "id": "65MSuHKqNeBZ"
      },
      "source": [
        "## More memory\n",
        "\n",
        "Users who have purchased one of Colab's paid plans have access to high-memory VMs when they are available. More powerful GPUs are always offered with high-memory VMs.\n",
        "You can see how much memory you have available at any time by running the following code cell. If the execution result of running the code cell below is 'Not using a high-RAM runtime', then you can enable a high-RAM runtime via <code>Runtime &gt; Change runtime type</code> in the menu. Then select High-RAM in the Runtime shape toggle button. After, re-execute the code cell."
      ]
    },
    {
      "cell_type": "code",
      "execution_count": null,
      "metadata": {
        "id": "V1G82GuO-tez"
      },
      "outputs": [],
      "source": [
        "from psutil import virtual_memory\n",
        "ram_gb = virtual_memory().total / 1e9\n",
        "print('Your runtime has {:.1f} gigabytes of available RAM\\n'.format(ram_gb))\n",
        "\n",
        "if ram_gb < 20:\n",
        "  print('Not using a high-RAM runtime')\n",
        "else:\n",
        "  print('You are using a high-RAM runtime!')"
      ]
    },
    {
      "cell_type": "markdown",
      "metadata": {
        "id": "BJW8Qi-pPpep"
      },
      "source": [
        "## Longer runtimes\n",
        "\n",
        "All Colab runtimes are reset after some period of time &#40;which is faster if the runtime isn't executing code&#41;. Colab Pro and Pro+ users have access to longer runtimes than those who use Colab free of charge.\n",
        "\n",
        "## Background execution\n",
        "\n",
        "Colab Pro+ users have access to background execution, where notebooks will continue executing even after you've closed a browser tab. This is always enabled in Pro+ runtimes as long as you have compute units available.\n"
      ]
    },
    {
      "cell_type": "markdown",
      "metadata": {
        "id": "uLlTRcMM_h0k"
      },
      "source": [
        "## Relaxing resource limits in Colab Pro\n",
        "\n",
        "Your resources are not unlimited in Colab. To make the most of Colab, avoid using resources when you don't need them. For example, only use a GPU when required and close Colab tabs when finished.\n",
        "\n",
        "If you encounter limitations, you can relax those limitations by purchasing more compute units via pay as you go. Anyone can purchase compute units via <a href=\"https://colab.research.google.com/signup\">pay as you go</a>; no subscription is required."
      ]
    },
    {
      "cell_type": "markdown",
      "metadata": {
        "id": "mm8FzEidvPs6"
      },
      "source": [
        "## Send us feedback!\n",
        "\n",
        "<p>If you have any feedback for us, please let us know. The best way to send feedback is by using the Help &gt; 'Send feedback…' menu. If you encounter usage limits in Colab Pro consider subscribing to Pro+.</p>\n",
        "<p>If you encounter errors or other issues with billing &#40;payments&#41; for Colab Pro, Pro+ or pay as you go, please email <a href=\"mailto:colab-billing@google.com\">colab-billing@google.com</a>.</p>"
      ]
    },
    {
      "cell_type": "markdown",
      "metadata": {
        "id": "qB3bdLe8jkAa"
      },
      "source": [
        "## More resources\n",
        "\n",
        "### Working with notebooks in Colab\n",
        "- [Overview of Colab](/notebooks/basic_features_overview.ipynb)\n",
        "- [Guide to markdown](/notebooks/markdown_guide.ipynb)\n",
        "- [Importing libraries and installing dependencies](/notebooks/snippets/importing_libraries.ipynb)\n",
        "- [Saving and loading notebooks in GitHub](https://colab.research.google.com/github/googlecolab/colabtools/blob/main/notebooks/colab-github-demo.ipynb)\n",
        "- [Interactive forms](/notebooks/forms.ipynb)\n",
        "- [Interactive widgets](/notebooks/widgets.ipynb)\n",
        "\n",
        "<a name=\"working-with-data\"></a>\n",
        "### Working with data\n",
        "- [Loading data: Drive, Sheets and Google Cloud Storage](/notebooks/io.ipynb)\n",
        "- [Charts: visualising data](/notebooks/charts.ipynb)\n",
        "- [Getting started with BigQuery](/notebooks/bigquery.ipynb)\n",
        "\n",
        "### Machine learning crash course\n",
        "These are a few of the notebooks from Google's online machine learning course. See the <a href=\"https://developers.google.com/machine-learning/crash-course/\">full course website</a> for more.\n",
        "- [Intro to Pandas DataFrame](https://colab.research.google.com/github/google/eng-edu/blob/main/ml/cc/exercises/pandas_dataframe_ultraquick_tutorial.ipynb)\n",
        "- [Linear regression with tf.keras using synthetic data](https://colab.research.google.com/github/google/eng-edu/blob/main/ml/cc/exercises/linear_regression_with_synthetic_data.ipynb)\n",
        "\n",
        "\n",
        "<a name=\"using-accelerated-hardware\"></a>\n",
        "### Using accelerated hardware\n",
        "- [TensorFlow with GPUs](/notebooks/gpu.ipynb)\n",
        "- [TPUs in Colab](/notebooks/tpu.ipynb)"
      ]
    },
    {
      "cell_type": "markdown",
      "metadata": {
        "id": "RFm2S0Gijqo8"
      },
      "source": [
        "<a name=\"machine-learning-examples\"></a>\n",
        "\n",
        "## Machine learning examples\n",
        "\n",
        "To see end-to-end examples of the interactive machine learning analyses that Colab makes possible, take a look at these tutorials using models from <a href=\"https://tfhub.dev\">TensorFlow Hub</a>.\n",
        "\n",
        "A few featured examples:\n",
        "\n",
        "- <a href=\"https://tensorflow.org/hub/tutorials/tf2_image_retraining\">Retraining an Image Classifier</a>: Build a Keras model on top of a pre-trained image classifier to distinguish flowers.\n",
        "- <a href=\"https://tensorflow.org/hub/tutorials/tf2_text_classification\">Text Classification</a>: Classify IMDB film reviews as either <em>positive</em> or <em>negative</em>.\n",
        "- <a href=\"https://tensorflow.org/hub/tutorials/tf2_arbitrary_image_stylization\">Style Transfer</a>: Use deep learning to transfer style between images.\n",
        "- <a href=\"https://tensorflow.org/hub/tutorials/retrieval_with_tf_hub_universal_encoder_qa\">Multilingual Universal Sentence Encoder Q&amp;A</a>: Use a machine-learning model to answer questions from the SQuAD dataset.\n",
        "- <a href=\"https://tensorflow.org/hub/tutorials/tweening_conv3d\">Video Interpolation</a>: Predict what happened in a video between the first and the last frame.\n"
      ]
    }
  ],
  "metadata": {
    "colab": {
      "name": "Making the most of your colab subscription",
      "provenance": [],
      "machine_shape": "hm",
      "gpuType": "A100",
      "include_colab_link": true
    },
    "kernelspec": {
      "display_name": "Python 3",
      "name": "python3"
    },
    "accelerator": "GPU"
  },
  "nbformat": 4,
  "nbformat_minor": 0
}